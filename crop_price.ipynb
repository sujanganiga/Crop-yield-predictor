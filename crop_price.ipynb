{
 "cells": [
  {
   "cell_type": "code",
<<<<<<< HEAD
   "execution_count": 1,
=======
   "execution_count": 45,
>>>>>>> 23e538fdb6ef4ab44364712badeecf9b84320460
   "metadata": {},
   "outputs": [],
   "source": [
    "import numpy as np\n",
    "import pandas as pd\n",
    "import matplotlib.pyplot as plt\n",
    "import seaborn as sns\n"
   ]
  },
  {
   "cell_type": "code",
<<<<<<< HEAD
   "execution_count": 2,
=======
   "execution_count": 46,
>>>>>>> 23e538fdb6ef4ab44364712badeecf9b84320460
   "metadata": {},
   "outputs": [],
   "source": [
    "df=pd.read_csv('price_predictor_dataset.csv')"
   ]
  },
  {
   "cell_type": "code",
<<<<<<< HEAD
   "execution_count": 3,
=======
   "execution_count": 47,
>>>>>>> 23e538fdb6ef4ab44364712badeecf9b84320460
   "metadata": {},
   "outputs": [
    {
     "data": {
      "text/html": [
       "<div>\n",
       "<style scoped>\n",
       "    .dataframe tbody tr th:only-of-type {\n",
       "        vertical-align: middle;\n",
       "    }\n",
       "\n",
       "    .dataframe tbody tr th {\n",
       "        vertical-align: top;\n",
       "    }\n",
       "\n",
       "    .dataframe thead th {\n",
       "        text-align: right;\n",
       "    }\n",
       "</style>\n",
       "<table border=\"1\" class=\"dataframe\">\n",
       "  <thead>\n",
       "    <tr style=\"text-align: right;\">\n",
       "      <th></th>\n",
       "      <th>Unnamed: 0</th>\n",
       "      <th>Area</th>\n",
       "      <th>Item</th>\n",
       "      <th>Year</th>\n",
       "      <th>hg/ha_yield</th>\n",
       "      <th>average_rain_fall_mm_per_year</th>\n",
       "      <th>pesticides_tonnes</th>\n",
       "      <th>avg_temp</th>\n",
       "      <th>Price</th>\n",
       "    </tr>\n",
       "  </thead>\n",
       "  <tbody>\n",
       "    <tr>\n",
       "      <th>0</th>\n",
       "      <td>0</td>\n",
       "      <td>Albania</td>\n",
       "      <td>Maize</td>\n",
       "      <td>1990</td>\n",
       "      <td>36613</td>\n",
       "      <td>1485</td>\n",
       "      <td>121.0</td>\n",
       "      <td>16.37</td>\n",
       "      <td>183065</td>\n",
       "    </tr>\n",
       "    <tr>\n",
       "      <th>1</th>\n",
       "      <td>1</td>\n",
       "      <td>Albania</td>\n",
       "      <td>Potatoes</td>\n",
       "      <td>1990</td>\n",
       "      <td>66667</td>\n",
       "      <td>1485</td>\n",
       "      <td>121.0</td>\n",
       "      <td>16.37</td>\n",
       "      <td>200001</td>\n",
       "    </tr>\n",
       "    <tr>\n",
       "      <th>2</th>\n",
       "      <td>2</td>\n",
       "      <td>Albania</td>\n",
       "      <td>Rice, paddy</td>\n",
       "      <td>1990</td>\n",
       "      <td>23333</td>\n",
       "      <td>1485</td>\n",
       "      <td>121.0</td>\n",
       "      <td>16.37</td>\n",
       "      <td>139998</td>\n",
       "    </tr>\n",
       "    <tr>\n",
       "      <th>3</th>\n",
       "      <td>3</td>\n",
       "      <td>Albania</td>\n",
       "      <td>Sorghum</td>\n",
       "      <td>1990</td>\n",
       "      <td>12500</td>\n",
       "      <td>1485</td>\n",
       "      <td>121.0</td>\n",
       "      <td>16.37</td>\n",
       "      <td>50000</td>\n",
       "    </tr>\n",
       "    <tr>\n",
       "      <th>4</th>\n",
       "      <td>4</td>\n",
       "      <td>Albania</td>\n",
       "      <td>Soybeans</td>\n",
       "      <td>1990</td>\n",
       "      <td>7000</td>\n",
       "      <td>1485</td>\n",
       "      <td>121.0</td>\n",
       "      <td>16.37</td>\n",
       "      <td>56000</td>\n",
       "    </tr>\n",
       "  </tbody>\n",
       "</table>\n",
       "</div>"
      ],
      "text/plain": [
       "   Unnamed: 0     Area         Item  Year  hg/ha_yield  \\\n",
       "0           0  Albania        Maize  1990        36613   \n",
       "1           1  Albania     Potatoes  1990        66667   \n",
       "2           2  Albania  Rice, paddy  1990        23333   \n",
       "3           3  Albania      Sorghum  1990        12500   \n",
       "4           4  Albania     Soybeans  1990         7000   \n",
       "\n",
       "   average_rain_fall_mm_per_year  pesticides_tonnes  avg_temp   Price  \n",
       "0                           1485              121.0     16.37  183065  \n",
       "1                           1485              121.0     16.37  200001  \n",
       "2                           1485              121.0     16.37  139998  \n",
       "3                           1485              121.0     16.37   50000  \n",
       "4                           1485              121.0     16.37   56000  "
      ]
     },
<<<<<<< HEAD
     "execution_count": 3,
=======
     "execution_count": 47,
>>>>>>> 23e538fdb6ef4ab44364712badeecf9b84320460
     "metadata": {},
     "output_type": "execute_result"
    }
   ],
   "source": [
    "df.head()"
   ]
  },
  {
   "cell_type": "code",
<<<<<<< HEAD
   "execution_count": 4,
=======
   "execution_count": 48,
>>>>>>> 23e538fdb6ef4ab44364712badeecf9b84320460
   "metadata": {},
   "outputs": [],
   "source": [
    "df.drop('Unnamed: 0',axis=1,inplace=True)"
   ]
  },
  {
   "cell_type": "code",
<<<<<<< HEAD
   "execution_count": 5,
=======
   "execution_count": 49,
>>>>>>> 23e538fdb6ef4ab44364712badeecf9b84320460
   "metadata": {},
   "outputs": [
    {
     "data": {
      "text/plain": [
       "Area                             0\n",
       "Item                             0\n",
       "Year                             0\n",
       "hg/ha_yield                      0\n",
       "average_rain_fall_mm_per_year    0\n",
       "pesticides_tonnes                0\n",
       "avg_temp                         0\n",
       "Price                            0\n",
       "dtype: int64"
      ]
     },
<<<<<<< HEAD
     "execution_count": 5,
=======
     "execution_count": 49,
>>>>>>> 23e538fdb6ef4ab44364712badeecf9b84320460
     "metadata": {},
     "output_type": "execute_result"
    }
   ],
   "source": [
    "df.isnull().sum()"
   ]
  },
  {
   "cell_type": "code",
<<<<<<< HEAD
   "execution_count": 6,
=======
   "execution_count": 50,
>>>>>>> 23e538fdb6ef4ab44364712badeecf9b84320460
   "metadata": {},
   "outputs": [
    {
     "data": {
      "text/plain": [
       "np.int64(2310)"
      ]
     },
<<<<<<< HEAD
     "execution_count": 6,
=======
     "execution_count": 50,
>>>>>>> 23e538fdb6ef4ab44364712badeecf9b84320460
     "metadata": {},
     "output_type": "execute_result"
    }
   ],
   "source": [
    "df.duplicated().sum()"
   ]
  },
  {
   "cell_type": "code",
<<<<<<< HEAD
   "execution_count": 7,
=======
   "execution_count": 51,
>>>>>>> 23e538fdb6ef4ab44364712badeecf9b84320460
   "metadata": {},
   "outputs": [],
   "source": [
    "df.drop_duplicates(inplace=True)"
   ]
  },
  {
   "cell_type": "code",
<<<<<<< HEAD
   "execution_count": 8,
=======
   "execution_count": 52,
>>>>>>> 23e538fdb6ef4ab44364712badeecf9b84320460
   "metadata": {},
   "outputs": [
    {
     "data": {
      "text/plain": [
       "np.int64(0)"
      ]
     },
<<<<<<< HEAD
     "execution_count": 8,
=======
     "execution_count": 52,
>>>>>>> 23e538fdb6ef4ab44364712badeecf9b84320460
     "metadata": {},
     "output_type": "execute_result"
    }
   ],
   "source": [
    "df.duplicated().sum()"
   ]
  },
  {
   "cell_type": "code",
<<<<<<< HEAD
   "execution_count": 9,
=======
   "execution_count": 53,
>>>>>>> 23e538fdb6ef4ab44364712badeecf9b84320460
   "metadata": {},
   "outputs": [
    {
     "data": {
      "text/html": [
       "<div>\n",
       "<style scoped>\n",
       "    .dataframe tbody tr th:only-of-type {\n",
       "        vertical-align: middle;\n",
       "    }\n",
       "\n",
       "    .dataframe tbody tr th {\n",
       "        vertical-align: top;\n",
       "    }\n",
       "\n",
       "    .dataframe thead th {\n",
       "        text-align: right;\n",
       "    }\n",
       "</style>\n",
       "<table border=\"1\" class=\"dataframe\">\n",
       "  <thead>\n",
       "    <tr style=\"text-align: right;\">\n",
       "      <th></th>\n",
       "      <th>Year</th>\n",
       "      <th>hg/ha_yield</th>\n",
       "      <th>average_rain_fall_mm_per_year</th>\n",
       "      <th>pesticides_tonnes</th>\n",
       "      <th>avg_temp</th>\n",
       "      <th>Price</th>\n",
       "    </tr>\n",
       "  </thead>\n",
       "  <tbody>\n",
       "    <tr>\n",
       "      <th>count</th>\n",
       "      <td>25932.000000</td>\n",
       "      <td>25932.000000</td>\n",
       "      <td>25932.000000</td>\n",
       "      <td>25932.000000</td>\n",
       "      <td>25932.000000</td>\n",
       "      <td>2.593200e+04</td>\n",
       "    </tr>\n",
       "    <tr>\n",
       "      <th>mean</th>\n",
       "      <td>2001.556455</td>\n",
       "      <td>76978.132925</td>\n",
       "      <td>1146.836688</td>\n",
       "      <td>34782.573241</td>\n",
       "      <td>20.422251</td>\n",
       "      <td>2.001901e+05</td>\n",
       "    </tr>\n",
       "    <tr>\n",
       "      <th>std</th>\n",
       "      <td>7.055924</td>\n",
       "      <td>84647.605552</td>\n",
       "      <td>717.391098</td>\n",
       "      <td>57228.568244</td>\n",
       "      <td>6.439402</td>\n",
       "      <td>2.350081e+05</td>\n",
       "    </tr>\n",
       "    <tr>\n",
       "      <th>min</th>\n",
       "      <td>1990.000000</td>\n",
       "      <td>50.000000</td>\n",
       "      <td>51.000000</td>\n",
       "      <td>0.040000</td>\n",
       "      <td>1.300000</td>\n",
       "      <td>0.000000e+00</td>\n",
       "    </tr>\n",
       "    <tr>\n",
       "      <th>25%</th>\n",
       "      <td>1995.000000</td>\n",
       "      <td>19996.000000</td>\n",
       "      <td>593.000000</td>\n",
       "      <td>1597.000000</td>\n",
       "      <td>16.580000</td>\n",
       "      <td>2.864400e+04</td>\n",
       "    </tr>\n",
       "    <tr>\n",
       "      <th>50%</th>\n",
       "      <td>2001.000000</td>\n",
       "      <td>39530.000000</td>\n",
       "      <td>1083.000000</td>\n",
       "      <td>15373.000000</td>\n",
       "      <td>21.420000</td>\n",
       "      <td>1.305520e+05</td>\n",
       "    </tr>\n",
       "    <tr>\n",
       "      <th>75%</th>\n",
       "      <td>2008.000000</td>\n",
       "      <td>104168.000000</td>\n",
       "      <td>1668.000000</td>\n",
       "      <td>45620.000000</td>\n",
       "      <td>26.060000</td>\n",
       "      <td>2.699640e+05</td>\n",
       "    </tr>\n",
       "    <tr>\n",
       "      <th>max</th>\n",
       "      <td>2013.000000</td>\n",
       "      <td>501412.000000</td>\n",
       "      <td>3240.000000</td>\n",
       "      <td>367778.000000</td>\n",
       "      <td>30.650000</td>\n",
       "      <td>1.504236e+06</td>\n",
       "    </tr>\n",
       "  </tbody>\n",
       "</table>\n",
       "</div>"
      ],
      "text/plain": [
       "               Year    hg/ha_yield  average_rain_fall_mm_per_year  \\\n",
       "count  25932.000000   25932.000000                   25932.000000   \n",
       "mean    2001.556455   76978.132925                    1146.836688   \n",
       "std        7.055924   84647.605552                     717.391098   \n",
       "min     1990.000000      50.000000                      51.000000   \n",
       "25%     1995.000000   19996.000000                     593.000000   \n",
       "50%     2001.000000   39530.000000                    1083.000000   \n",
       "75%     2008.000000  104168.000000                    1668.000000   \n",
       "max     2013.000000  501412.000000                    3240.000000   \n",
       "\n",
       "       pesticides_tonnes      avg_temp         Price  \n",
       "count       25932.000000  25932.000000  2.593200e+04  \n",
       "mean        34782.573241     20.422251  2.001901e+05  \n",
       "std         57228.568244      6.439402  2.350081e+05  \n",
       "min             0.040000      1.300000  0.000000e+00  \n",
       "25%          1597.000000     16.580000  2.864400e+04  \n",
       "50%         15373.000000     21.420000  1.305520e+05  \n",
       "75%         45620.000000     26.060000  2.699640e+05  \n",
       "max        367778.000000     30.650000  1.504236e+06  "
      ]
     },
<<<<<<< HEAD
     "execution_count": 9,
=======
     "execution_count": 53,
>>>>>>> 23e538fdb6ef4ab44364712badeecf9b84320460
     "metadata": {},
     "output_type": "execute_result"
    }
   ],
   "source": [
    "df.describe()"
   ]
  },
  {
   "cell_type": "code",
<<<<<<< HEAD
   "execution_count": 10,
=======
   "execution_count": 54,
>>>>>>> 23e538fdb6ef4ab44364712badeecf9b84320460
   "metadata": {},
   "outputs": [],
   "source": [
    "def isStr(obj):\n",
    "    try:\n",
    "        float(obj)\n",
    "        return False\n",
    "    except:\n",
    "        return True"
   ]
  },
  {
   "cell_type": "code",
<<<<<<< HEAD
   "execution_count": 11,
=======
   "execution_count": 55,
>>>>>>> 23e538fdb6ef4ab44364712badeecf9b84320460
   "metadata": {},
   "outputs": [],
   "source": [
    "to_drop=df[df['average_rain_fall_mm_per_year'].apply(isStr)].index"
   ]
  },
  {
   "cell_type": "code",
<<<<<<< HEAD
   "execution_count": 12,
=======
   "execution_count": 56,
>>>>>>> 23e538fdb6ef4ab44364712badeecf9b84320460
   "metadata": {},
   "outputs": [
    {
     "data": {
      "text/plain": [
       "Index([], dtype='int64')"
      ]
     },
<<<<<<< HEAD
     "execution_count": 12,
=======
     "execution_count": 56,
>>>>>>> 23e538fdb6ef4ab44364712badeecf9b84320460
     "metadata": {},
     "output_type": "execute_result"
    }
   ],
   "source": [
    "to_drop"
   ]
  },
  {
   "cell_type": "code",
<<<<<<< HEAD
   "execution_count": 13,
=======
   "execution_count": 57,
>>>>>>> 23e538fdb6ef4ab44364712badeecf9b84320460
   "metadata": {},
   "outputs": [
    {
     "data": {
      "text/html": [
       "<div>\n",
       "<style scoped>\n",
       "    .dataframe tbody tr th:only-of-type {\n",
       "        vertical-align: middle;\n",
       "    }\n",
       "\n",
       "    .dataframe tbody tr th {\n",
       "        vertical-align: top;\n",
       "    }\n",
       "\n",
       "    .dataframe thead th {\n",
       "        text-align: right;\n",
       "    }\n",
       "</style>\n",
       "<table border=\"1\" class=\"dataframe\">\n",
       "  <thead>\n",
       "    <tr style=\"text-align: right;\">\n",
       "      <th></th>\n",
       "      <th>Area</th>\n",
       "      <th>Item</th>\n",
       "      <th>Year</th>\n",
       "      <th>hg/ha_yield</th>\n",
       "      <th>average_rain_fall_mm_per_year</th>\n",
       "      <th>pesticides_tonnes</th>\n",
       "      <th>avg_temp</th>\n",
       "      <th>Price</th>\n",
       "    </tr>\n",
       "  </thead>\n",
       "  <tbody>\n",
       "    <tr>\n",
       "      <th>0</th>\n",
       "      <td>Albania</td>\n",
       "      <td>Maize</td>\n",
       "      <td>1990</td>\n",
       "      <td>36613</td>\n",
       "      <td>1485</td>\n",
       "      <td>121.00</td>\n",
       "      <td>16.37</td>\n",
       "      <td>183065</td>\n",
       "    </tr>\n",
       "    <tr>\n",
       "      <th>1</th>\n",
       "      <td>Albania</td>\n",
       "      <td>Potatoes</td>\n",
       "      <td>1990</td>\n",
       "      <td>66667</td>\n",
       "      <td>1485</td>\n",
       "      <td>121.00</td>\n",
       "      <td>16.37</td>\n",
       "      <td>200001</td>\n",
       "    </tr>\n",
       "    <tr>\n",
       "      <th>2</th>\n",
       "      <td>Albania</td>\n",
       "      <td>Rice, paddy</td>\n",
       "      <td>1990</td>\n",
       "      <td>23333</td>\n",
       "      <td>1485</td>\n",
       "      <td>121.00</td>\n",
       "      <td>16.37</td>\n",
       "      <td>139998</td>\n",
       "    </tr>\n",
       "    <tr>\n",
       "      <th>3</th>\n",
       "      <td>Albania</td>\n",
       "      <td>Sorghum</td>\n",
       "      <td>1990</td>\n",
       "      <td>12500</td>\n",
       "      <td>1485</td>\n",
       "      <td>121.00</td>\n",
       "      <td>16.37</td>\n",
       "      <td>50000</td>\n",
       "    </tr>\n",
       "    <tr>\n",
       "      <th>4</th>\n",
       "      <td>Albania</td>\n",
       "      <td>Soybeans</td>\n",
       "      <td>1990</td>\n",
       "      <td>7000</td>\n",
       "      <td>1485</td>\n",
       "      <td>121.00</td>\n",
       "      <td>16.37</td>\n",
       "      <td>56000</td>\n",
       "    </tr>\n",
       "    <tr>\n",
       "      <th>...</th>\n",
       "      <td>...</td>\n",
       "      <td>...</td>\n",
       "      <td>...</td>\n",
       "      <td>...</td>\n",
       "      <td>...</td>\n",
       "      <td>...</td>\n",
       "      <td>...</td>\n",
       "      <td>...</td>\n",
       "    </tr>\n",
       "    <tr>\n",
       "      <th>28237</th>\n",
       "      <td>Zimbabwe</td>\n",
       "      <td>Rice, paddy</td>\n",
       "      <td>2013</td>\n",
       "      <td>22581</td>\n",
       "      <td>657</td>\n",
       "      <td>2550.07</td>\n",
       "      <td>19.76</td>\n",
       "      <td>135486</td>\n",
       "    </tr>\n",
       "    <tr>\n",
       "      <th>28238</th>\n",
       "      <td>Zimbabwe</td>\n",
       "      <td>Sorghum</td>\n",
       "      <td>2013</td>\n",
       "      <td>3066</td>\n",
       "      <td>657</td>\n",
       "      <td>2550.07</td>\n",
       "      <td>19.76</td>\n",
       "      <td>12264</td>\n",
       "    </tr>\n",
       "    <tr>\n",
       "      <th>28239</th>\n",
       "      <td>Zimbabwe</td>\n",
       "      <td>Soybeans</td>\n",
       "      <td>2013</td>\n",
       "      <td>13142</td>\n",
       "      <td>657</td>\n",
       "      <td>2550.07</td>\n",
       "      <td>19.76</td>\n",
       "      <td>105136</td>\n",
       "    </tr>\n",
       "    <tr>\n",
       "      <th>28240</th>\n",
       "      <td>Zimbabwe</td>\n",
       "      <td>Sweet potatoes</td>\n",
       "      <td>2013</td>\n",
       "      <td>22222</td>\n",
       "      <td>657</td>\n",
       "      <td>2550.07</td>\n",
       "      <td>19.76</td>\n",
       "      <td>0</td>\n",
       "    </tr>\n",
       "    <tr>\n",
       "      <th>28241</th>\n",
       "      <td>Zimbabwe</td>\n",
       "      <td>Wheat</td>\n",
       "      <td>2013</td>\n",
       "      <td>22888</td>\n",
       "      <td>657</td>\n",
       "      <td>2550.07</td>\n",
       "      <td>19.76</td>\n",
       "      <td>160216</td>\n",
       "    </tr>\n",
       "  </tbody>\n",
       "</table>\n",
       "<p>25932 rows × 8 columns</p>\n",
       "</div>"
      ],
      "text/plain": [
       "           Area            Item  Year  hg/ha_yield  \\\n",
       "0       Albania           Maize  1990        36613   \n",
       "1       Albania        Potatoes  1990        66667   \n",
       "2       Albania     Rice, paddy  1990        23333   \n",
       "3       Albania         Sorghum  1990        12500   \n",
       "4       Albania        Soybeans  1990         7000   \n",
       "...         ...             ...   ...          ...   \n",
       "28237  Zimbabwe     Rice, paddy  2013        22581   \n",
       "28238  Zimbabwe         Sorghum  2013         3066   \n",
       "28239  Zimbabwe        Soybeans  2013        13142   \n",
       "28240  Zimbabwe  Sweet potatoes  2013        22222   \n",
       "28241  Zimbabwe           Wheat  2013        22888   \n",
       "\n",
       "       average_rain_fall_mm_per_year  pesticides_tonnes  avg_temp   Price  \n",
       "0                               1485             121.00     16.37  183065  \n",
       "1                               1485             121.00     16.37  200001  \n",
       "2                               1485             121.00     16.37  139998  \n",
       "3                               1485             121.00     16.37   50000  \n",
       "4                               1485             121.00     16.37   56000  \n",
       "...                              ...                ...       ...     ...  \n",
       "28237                            657            2550.07     19.76  135486  \n",
       "28238                            657            2550.07     19.76   12264  \n",
       "28239                            657            2550.07     19.76  105136  \n",
       "28240                            657            2550.07     19.76       0  \n",
       "28241                            657            2550.07     19.76  160216  \n",
       "\n",
       "[25932 rows x 8 columns]"
      ]
     },
<<<<<<< HEAD
     "execution_count": 13,
=======
     "execution_count": 57,
>>>>>>> 23e538fdb6ef4ab44364712badeecf9b84320460
     "metadata": {},
     "output_type": "execute_result"
    }
   ],
   "source": [
    "df.drop(to_drop)"
   ]
  },
  {
   "cell_type": "code",
<<<<<<< HEAD
   "execution_count": 14,
=======
   "execution_count": null,
   "metadata": {},
   "outputs": [],
   "source": []
  },
  {
   "cell_type": "code",
   "execution_count": 58,
>>>>>>> 23e538fdb6ef4ab44364712badeecf9b84320460
   "metadata": {},
   "outputs": [],
   "source": [
    "mean_price=df[df['Price']!=0]['Price'].mean()\n",
    "df['Price']=df['Price'].replace(0,mean_price)"
   ]
  },
  {
   "cell_type": "code",
<<<<<<< HEAD
   "execution_count": 15,
=======
   "execution_count": 59,
>>>>>>> 23e538fdb6ef4ab44364712badeecf9b84320460
   "metadata": {},
   "outputs": [
    {
     "name": "stdout",
     "output_type": "stream",
     "text": [
      "False\n"
     ]
    }
   ],
   "source": [
    "ifanyzero=(df['Price']==0).any()\n",
    "print(ifanyzero)"
   ]
  },
  {
   "cell_type": "code",
<<<<<<< HEAD
   "execution_count": 16,
=======
   "execution_count": 60,
>>>>>>> 23e538fdb6ef4ab44364712badeecf9b84320460
   "metadata": {},
   "outputs": [
    {
     "name": "stdout",
     "output_type": "stream",
     "text": [
      "<class 'pandas.core.frame.DataFrame'>\n",
      "Index: 25932 entries, 0 to 28241\n",
      "Data columns (total 8 columns):\n",
      " #   Column                         Non-Null Count  Dtype  \n",
      "---  ------                         --------------  -----  \n",
      " 0   Area                           25932 non-null  object \n",
      " 1   Item                           25932 non-null  object \n",
      " 2   Year                           25932 non-null  int64  \n",
      " 3   hg/ha_yield                    25932 non-null  int64  \n",
      " 4   average_rain_fall_mm_per_year  25932 non-null  int64  \n",
      " 5   pesticides_tonnes              25932 non-null  float64\n",
      " 6   avg_temp                       25932 non-null  float64\n",
      " 7   Price                          25932 non-null  float64\n",
      "dtypes: float64(3), int64(3), object(2)\n",
      "memory usage: 2.8+ MB\n"
     ]
    }
   ],
   "source": [
    "df.info()"
   ]
  },
  {
   "cell_type": "code",
<<<<<<< HEAD
   "execution_count": 17,
=======
   "execution_count": 61,
>>>>>>> 23e538fdb6ef4ab44364712badeecf9b84320460
   "metadata": {},
   "outputs": [],
   "source": [
    "df.rename(columns={'hg/ha_yield': 'crop_yield'}, inplace=True)\n"
   ]
  },
  {
   "cell_type": "code",
<<<<<<< HEAD
   "execution_count": 18,
=======
   "execution_count": 62,
>>>>>>> 23e538fdb6ef4ab44364712badeecf9b84320460
   "metadata": {},
   "outputs": [],
   "source": [
    "# we want to convert from int to float for rain and yield\n",
    "df['average_rain_fall_mm_per_year']=df['average_rain_fall_mm_per_year'].astype(np.float64) # to make this column to become float type as datatype\n",
    "df['crop_yield']=df['crop_yield'].astype(np.float64)"
   ]
  },
  {
   "cell_type": "code",
<<<<<<< HEAD
   "execution_count": 19,
=======
   "execution_count": 63,
>>>>>>> 23e538fdb6ef4ab44364712badeecf9b84320460
   "metadata": {},
   "outputs": [
    {
     "name": "stdout",
     "output_type": "stream",
     "text": [
      "<class 'pandas.core.frame.DataFrame'>\n",
      "Index: 25932 entries, 0 to 28241\n",
      "Data columns (total 8 columns):\n",
      " #   Column                         Non-Null Count  Dtype  \n",
      "---  ------                         --------------  -----  \n",
      " 0   Area                           25932 non-null  object \n",
      " 1   Item                           25932 non-null  object \n",
      " 2   Year                           25932 non-null  int64  \n",
      " 3   crop_yield                     25932 non-null  float64\n",
      " 4   average_rain_fall_mm_per_year  25932 non-null  float64\n",
      " 5   pesticides_tonnes              25932 non-null  float64\n",
      " 6   avg_temp                       25932 non-null  float64\n",
      " 7   Price                          25932 non-null  float64\n",
      "dtypes: float64(5), int64(1), object(2)\n",
      "memory usage: 2.8+ MB\n"
     ]
    }
   ],
   "source": [
    "df.info()"
   ]
  },
  {
   "cell_type": "code",
<<<<<<< HEAD
   "execution_count": 20,
=======
   "execution_count": 64,
>>>>>>> 23e538fdb6ef4ab44364712badeecf9b84320460
   "metadata": {},
   "outputs": [],
   "source": [
    "X=df.drop(columns='Price',axis=1)\n",
    "y=df['Price']"
   ]
  },
  {
   "cell_type": "code",
<<<<<<< HEAD
   "execution_count": 21,
=======
   "execution_count": 65,
>>>>>>> 23e538fdb6ef4ab44364712badeecf9b84320460
   "metadata": {},
   "outputs": [],
   "source": [
    "# before pca we need to Standardize the Data for that\n",
    "from sklearn.preprocessing import StandardScaler,OneHotEncoder\n",
    "from sklearn.compose import ColumnTransformer # it is tool that allows you to apply different preprocessing or transformation steps to specific columns in a dataset\n"
   ]
  },
  {
   "cell_type": "code",
<<<<<<< HEAD
   "execution_count": 22,
=======
   "execution_count": 66,
>>>>>>> 23e538fdb6ef4ab44364712badeecf9b84320460
   "metadata": {},
   "outputs": [],
   "source": [
    "ohe=OneHotEncoder(drop='first')\n",
    "# it drops the first category of each feature to avoid the \"dummy variable trap,\" where one feature is highly correlated with others.\n",
    "scaler=StandardScaler()"
   ]
  },
  {
   "cell_type": "code",
<<<<<<< HEAD
   "execution_count": 23,
=======
   "execution_count": 67,
>>>>>>> 23e538fdb6ef4ab44364712badeecf9b84320460
   "metadata": {},
   "outputs": [
    {
     "data": {
      "text/html": [
       "<div>\n",
       "<style scoped>\n",
       "    .dataframe tbody tr th:only-of-type {\n",
       "        vertical-align: middle;\n",
       "    }\n",
       "\n",
       "    .dataframe tbody tr th {\n",
       "        vertical-align: top;\n",
       "    }\n",
       "\n",
       "    .dataframe thead th {\n",
       "        text-align: right;\n",
       "    }\n",
       "</style>\n",
       "<table border=\"1\" class=\"dataframe\">\n",
       "  <thead>\n",
       "    <tr style=\"text-align: right;\">\n",
       "      <th></th>\n",
       "      <th>Area</th>\n",
       "      <th>Item</th>\n",
       "      <th>Year</th>\n",
       "      <th>crop_yield</th>\n",
       "      <th>average_rain_fall_mm_per_year</th>\n",
       "      <th>pesticides_tonnes</th>\n",
       "      <th>avg_temp</th>\n",
       "      <th>Price</th>\n",
       "    </tr>\n",
       "  </thead>\n",
       "  <tbody>\n",
       "    <tr>\n",
       "      <th>0</th>\n",
       "      <td>Albania</td>\n",
       "      <td>Maize</td>\n",
       "      <td>1990</td>\n",
       "      <td>36613.0</td>\n",
       "      <td>1485.0</td>\n",
       "      <td>121.0</td>\n",
       "      <td>16.37</td>\n",
       "      <td>183065.0</td>\n",
       "    </tr>\n",
       "    <tr>\n",
       "      <th>1</th>\n",
       "      <td>Albania</td>\n",
       "      <td>Potatoes</td>\n",
       "      <td>1990</td>\n",
       "      <td>66667.0</td>\n",
       "      <td>1485.0</td>\n",
       "      <td>121.0</td>\n",
       "      <td>16.37</td>\n",
       "      <td>200001.0</td>\n",
       "    </tr>\n",
       "    <tr>\n",
       "      <th>2</th>\n",
       "      <td>Albania</td>\n",
       "      <td>Rice, paddy</td>\n",
       "      <td>1990</td>\n",
       "      <td>23333.0</td>\n",
       "      <td>1485.0</td>\n",
       "      <td>121.0</td>\n",
       "      <td>16.37</td>\n",
       "      <td>139998.0</td>\n",
       "    </tr>\n",
       "    <tr>\n",
       "      <th>3</th>\n",
       "      <td>Albania</td>\n",
       "      <td>Sorghum</td>\n",
       "      <td>1990</td>\n",
       "      <td>12500.0</td>\n",
       "      <td>1485.0</td>\n",
       "      <td>121.0</td>\n",
       "      <td>16.37</td>\n",
       "      <td>50000.0</td>\n",
       "    </tr>\n",
       "    <tr>\n",
       "      <th>4</th>\n",
       "      <td>Albania</td>\n",
       "      <td>Soybeans</td>\n",
       "      <td>1990</td>\n",
       "      <td>7000.0</td>\n",
       "      <td>1485.0</td>\n",
       "      <td>121.0</td>\n",
       "      <td>16.37</td>\n",
       "      <td>56000.0</td>\n",
       "    </tr>\n",
       "  </tbody>\n",
       "</table>\n",
       "</div>"
      ],
      "text/plain": [
       "      Area         Item  Year  crop_yield  average_rain_fall_mm_per_year  \\\n",
       "0  Albania        Maize  1990     36613.0                         1485.0   \n",
       "1  Albania     Potatoes  1990     66667.0                         1485.0   \n",
       "2  Albania  Rice, paddy  1990     23333.0                         1485.0   \n",
       "3  Albania      Sorghum  1990     12500.0                         1485.0   \n",
       "4  Albania     Soybeans  1990      7000.0                         1485.0   \n",
       "\n",
       "   pesticides_tonnes  avg_temp     Price  \n",
       "0              121.0     16.37  183065.0  \n",
       "1              121.0     16.37  200001.0  \n",
       "2              121.0     16.37  139998.0  \n",
       "3              121.0     16.37   50000.0  \n",
       "4              121.0     16.37   56000.0  "
      ]
     },
<<<<<<< HEAD
     "execution_count": 23,
=======
     "execution_count": 67,
>>>>>>> 23e538fdb6ef4ab44364712badeecf9b84320460
     "metadata": {},
     "output_type": "execute_result"
    }
   ],
   "source": [
    "df.head()"
   ]
  },
  {
   "cell_type": "code",
<<<<<<< HEAD
   "execution_count": 24,
=======
   "execution_count": 68,
>>>>>>> 23e538fdb6ef4ab44364712badeecf9b84320460
   "metadata": {},
   "outputs": [],
   "source": [
    "preprocessor=ColumnTransformer(\n",
    "    transformers=[\n",
    "        ('onehotencoder',ohe,[0, 1]), # 4 and 5 is the index for which we need to apply the onehotccoding\n",
    "        ('standardization',scaler,[2, 3, 4, 5,6]) \n",
    "    ],\n",
    "    remainder='passthrough' # we are telling that do not toucch 6 coulumn in that just pass through without touching this\n",
    ")\n"
   ]
  },
  {
   "cell_type": "code",
<<<<<<< HEAD
   "execution_count": 25,
=======
   "execution_count": 69,
>>>>>>> 23e538fdb6ef4ab44364712badeecf9b84320460
   "metadata": {},
   "outputs": [],
   "source": [
    "from sklearn.model_selection import train_test_split\n",
    "X_train, X_test, y_train, y_test = train_test_split(X, y, test_size=0.2, random_state=42)"
   ]
  },
  {
   "cell_type": "code",
<<<<<<< HEAD
   "execution_count": 26,
=======
   "execution_count": 70,
>>>>>>> 23e538fdb6ef4ab44364712badeecf9b84320460
   "metadata": {},
   "outputs": [],
   "source": [
    "X_train_preprocessed=preprocessor.fit_transform(X_train)\n",
    "X_test_preprocessed=preprocessor.transform(X_test)"
   ]
  },
  {
   "cell_type": "code",
   "execution_count": 28,
   "metadata": {},
   "outputs": [],
   "source": [
    "\n"
   ]
  },
  {
   "cell_type": "code",
<<<<<<< HEAD
   "execution_count": 27,
=======
   "execution_count": 71,
>>>>>>> 23e538fdb6ef4ab44364712badeecf9b84320460
   "metadata": {},
   "outputs": [],
   "source": [
    "from sklearn.decomposition import PCA\n",
    "\n",
    "pca=PCA(n_components=5)\n",
    "X_train_pca=pca.fit_transform(X_train_preprocessed)\n",
    "X_test_pca=pca.transform(X_test_preprocessed)"
   ]
  },
  {
   "cell_type": "code",
<<<<<<< HEAD
   "execution_count": 28,
=======
   "execution_count": 72,
>>>>>>> 23e538fdb6ef4ab44364712badeecf9b84320460
   "metadata": {},
   "outputs": [
    {
     "name": "stdout",
     "output_type": "stream",
     "text": [
      "[0.21079387 0.18229004 0.14350025 0.13040367 0.09757094]\n"
     ]
    }
   ],
   "source": [
    "print(pca.explained_variance_ratio_)"
   ]
  },
  {
   "cell_type": "code",
<<<<<<< HEAD
   "execution_count": 29,
=======
   "execution_count": 73,
>>>>>>> 23e538fdb6ef4ab44364712badeecf9b84320460
   "metadata": {},
   "outputs": [
    {
     "name": "stdout",
     "output_type": "stream",
     "text": [
      "[0.21079387 0.3930839  0.53658415 0.66698782 0.76455876]\n",
      "1\n"
     ]
    }
   ],
   "source": [
    "# The code you provided is used to determine the number of principal components \n",
    "# required to explain at least 95% of the variance in the data.\n",
    "\n",
    "cumsum=np.cumsum(pca.explained_variance_ratio_)\n",
    "print(cumsum)   #Adds up the explained variance ratios to calculate the total variance explained by the first k components.\n",
    "d=np.argmax(cumsum>=0.95)+1 #np.argmax gives the index of the component.  Finds the index of the first element in cumsum that is greater than or equal to 0.95 (95%).\n",
    "print(d)"
   ]
  },
  {
   "cell_type": "code",
<<<<<<< HEAD
   "execution_count": 30,
=======
   "execution_count": 74,
>>>>>>> 23e538fdb6ef4ab44364712badeecf9b84320460
   "metadata": {},
   "outputs": [
    {
     "data": {
      "text/plain": [
<<<<<<< HEAD
       "0.7645587619789246"
      ]
     },
     "execution_count": 30,
=======
       "np.float64(0.7645587619789249)"
      ]
     },
     "execution_count": 74,
>>>>>>> 23e538fdb6ef4ab44364712badeecf9b84320460
     "metadata": {},
     "output_type": "execute_result"
    }
   ],
   "source": [
    "np.sum(pca.explained_variance_ratio_)"
   ]
  },
  {
   "cell_type": "code",
<<<<<<< HEAD
   "execution_count": 31,
=======
   "execution_count": 75,
>>>>>>> 23e538fdb6ef4ab44364712badeecf9b84320460
   "metadata": {},
   "outputs": [
    {
     "data": {
      "text/plain": [
       "array([[ 0.02641976,  0.78149463,  0.24975251,  1.50280592, -0.27671964],\n",
       "       [ 1.34659896, -0.36245537, -0.61618303,  0.63617572, -0.03059942],\n",
       "       [-1.06073109,  0.82878529, -1.06320495,  0.37243233,  0.34928917],\n",
       "       ...,\n",
       "       [-0.26301593, -1.07897642,  0.3615057 , -0.18596051, -0.16883398],\n",
       "       [ 0.86005928, -0.29383513, -1.00569444,  1.12059511, -0.60823443],\n",
       "       [-1.90148515,  0.43191957,  0.46962163, -0.30350212,  0.70414639]],\n",
       "      shape=(5187, 5))"
      ]
     },
<<<<<<< HEAD
     "execution_count": 31,
=======
     "execution_count": 75,
>>>>>>> 23e538fdb6ef4ab44364712badeecf9b84320460
     "metadata": {},
     "output_type": "execute_result"
    }
   ],
   "source": [
    "X_test_pca"
   ]
  },
  {
   "cell_type": "code",
<<<<<<< HEAD
   "execution_count": 32,
=======
   "execution_count": 76,
>>>>>>> 23e538fdb6ef4ab44364712badeecf9b84320460
   "metadata": {},
   "outputs": [
    {
     "data": {
      "text/plain": [
       "array([[-0.5285283 , -1.1090608 , -0.56790909,  0.55039693, -1.43165995],\n",
       "       [-0.82655415,  1.54403548,  0.22326989,  1.36268849, -0.1709944 ],\n",
       "       [ 3.15522617,  0.2078127 , -0.26076955, -0.09378104,  1.32595507],\n",
       "       ...,\n",
       "       [-1.31794076,  0.83185983,  2.50087068, -0.56397113, -0.98995611],\n",
       "       [-2.42168259,  0.08386945,  0.0348454 , -0.68928721,  0.46393729],\n",
       "       [ 1.33749933, -0.6546254 ,  1.80401869,  0.07710901,  0.40928215]],\n",
       "      shape=(20745, 5))"
      ]
     },
<<<<<<< HEAD
     "execution_count": 32,
=======
     "execution_count": 76,
>>>>>>> 23e538fdb6ef4ab44364712badeecf9b84320460
     "metadata": {},
     "output_type": "execute_result"
    }
   ],
   "source": [
    "X_train_pca"
   ]
  },
  {
   "cell_type": "code",
<<<<<<< HEAD
   "execution_count": 33,
=======
   "execution_count": 77,
>>>>>>> 23e538fdb6ef4ab44364712badeecf9b84320460
   "metadata": {},
   "outputs": [],
   "source": [
    "from sklearn.linear_model import ElasticNet # combines both lasso and ridge\n",
    "from sklearn.neighbors import KNeighborsRegressor\n",
    "from sklearn.ensemble import AdaBoostRegressor , RandomForestRegressor\n"
   ]
  },
  {
   "cell_type": "code",
<<<<<<< HEAD
   "execution_count": 34,
=======
   "execution_count": 78,
>>>>>>> 23e538fdb6ef4ab44364712badeecf9b84320460
   "metadata": {},
   "outputs": [],
   "source": [
    "from sklearn.metrics import mean_squared_error,r2_score, accuracy_score"
   ]
  },
  {
   "cell_type": "code",
<<<<<<< HEAD
   "execution_count": 35,
=======
   "execution_count": 79,
>>>>>>> 23e538fdb6ef4ab44364712badeecf9b84320460
   "metadata": {},
   "outputs": [
    {
     "name": "stdout",
     "output_type": "stream",
     "text": [
<<<<<<< HEAD
      "els MSE: 15819048498.133959 score: -0.03637743999743437\n",
      "knb MSE: 3680755241.6860814 score: 0.9076937950013007\n",
      "adb MSE: 15237320716.409605 score: 0.21311007899192547\n",
      "rfr MSE: 4632766721.913082 score: 0.874436931598104\n"
=======
      "els MSE: 15819048498.133953 score: -0.03637743999743348\n",
      "knb MSE: 3680755241.6860814 score: 0.9076937950013007\n",
      "adb MSE: 15690209704.778662 score: 0.2095731592011062\n",
      "rfr MSE: 4657020711.491671 score: 0.8736513639625724\n"
>>>>>>> 23e538fdb6ef4ab44364712badeecf9b84320460
     ]
    }
   ],
   "source": [
    "models = {\n",
    "    'els': ElasticNet(), \n",
    "    'knb': KNeighborsRegressor(), \n",
    "    \n",
    "    'adb': AdaBoostRegressor(), \n",
    "    'rfr': RandomForestRegressor(n_estimators=100, max_depth=10),  # Random Forest averages the outputs from all decision trees to predict a continuous value, reducing overfitting.\n",
    "    \n",
    "}\n",
    "\n",
    "best_model = None\n",
    "best_score = float('-inf') # assigning INT_MIN \n",
    "\n",
    "for name, mod in models.items():\n",
    "    mod.fit(X_train_pca, y_train)  # Train the model on the training data\n",
    "    y_pred = mod.predict(X_test_pca)  # Predict on the test data\n",
    "    score = r2_score(y_pred, y_test)  # Calculate R^2 score (goodness of fit)\n",
    "\n",
    "    print(f\"{name} MSE: {mean_squared_error(y_pred, y_test)} score: {r2_score(y_pred, y_test)}\")   \n",
    "\n",
    "# If the MSE is high:\n",
    "# It means that the model's predictions are far from the actual values, indicating a bad model.\n",
    "    \n",
    "    if best_score < score:\n",
    "        best_score = score\n",
    "        best_model = mod"
   ]
  },
  {
   "cell_type": "code",
<<<<<<< HEAD
   "execution_count": 36,
=======
   "execution_count": 80,
>>>>>>> 23e538fdb6ef4ab44364712badeecf9b84320460
   "metadata": {},
   "outputs": [],
   "source": [
    "def prediction(Area\t,Item, Year\t, crop_yield,average_rain_fall_mm_per_year\t,pesticides_tonnes\t,avg_temp):\n",
    "    features=np.array([[Area,Item\t,Year,crop_yield\t,average_rain_fall_mm_per_year\t,pesticides_tonnes\t,avg_temp]])\n",
    "    transformed_features =preprocessor.transform(features)\n",
    "    pca_features=pca.transform(transformed_features)\n",
    "    predicted_value=best_model.predict(pca_features).reshape(1,-1) #reshape (1 row, many columns).\n",
    "    return predicted_value\n"
   ]
  },
  {
   "cell_type": "code",
<<<<<<< HEAD
   "execution_count": 37,
=======
   "execution_count": 81,
>>>>>>> 23e538fdb6ef4ab44364712badeecf9b84320460
   "metadata": {},
   "outputs": [
    {
     "name": "stdout",
     "output_type": "stream",
     "text": [
      "[[163988.3577336]]\n"
     ]
    },
    {
     "name": "stderr",
     "output_type": "stream",
     "text": [
      "c:\\Users\\shara\\anaconda3\\Lib\\site-packages\\sklearn\\base.py:493: UserWarning: X does not have valid feature names, but OneHotEncoder was fitted with feature names\n",
      "  warnings.warn(\n",
      "c:\\Users\\shara\\anaconda3\\Lib\\site-packages\\sklearn\\base.py:493: UserWarning: X does not have valid feature names, but StandardScaler was fitted with feature names\n",
      "  warnings.warn(\n"
     ]
    },
    {
     "name": "stderr",
     "output_type": "stream",
     "text": [
      "C:\\Users\\hp\\AppData\\Roaming\\Python\\Python313\\site-packages\\sklearn\\utils\\validation.py:2739: UserWarning: X does not have valid feature names, but OneHotEncoder was fitted with feature names\n",
      "  warnings.warn(\n",
      "C:\\Users\\hp\\AppData\\Roaming\\Python\\Python313\\site-packages\\sklearn\\utils\\validation.py:2739: UserWarning: X does not have valid feature names, but StandardScaler was fitted with feature names\n",
      "  warnings.warn(\n"
     ]
    }
   ],
   "source": [
    "Area\t= 'Albania'\n",
    "Item\t='Maize'\n",
    "Year=1990\n",
    "crop_yield\t= 36613.0\n",
    "average_rain_fall_mm_per_year=1485.0\n",
    "pesticides_tonnes\t=121.0\n",
    "avg_temp\t=16.37\n",
    "\n",
    "\n",
    "result=prediction(Area,Item,Year,crop_yield,average_rain_fall_mm_per_year,pesticides_tonnes,avg_temp)\n",
    "print(result)"
   ]
  },
  {
   "cell_type": "code",
<<<<<<< HEAD
   "execution_count": 38,
=======
   "execution_count": 82,
>>>>>>> 23e538fdb6ef4ab44364712badeecf9b84320460
   "metadata": {},
   "outputs": [
    {
     "data": {
      "text/html": [
       "<div>\n",
       "<style scoped>\n",
       "    .dataframe tbody tr th:only-of-type {\n",
       "        vertical-align: middle;\n",
       "    }\n",
       "\n",
       "    .dataframe tbody tr th {\n",
       "        vertical-align: top;\n",
       "    }\n",
       "\n",
       "    .dataframe thead th {\n",
       "        text-align: right;\n",
       "    }\n",
       "</style>\n",
       "<table border=\"1\" class=\"dataframe\">\n",
       "  <thead>\n",
       "    <tr style=\"text-align: right;\">\n",
       "      <th></th>\n",
       "      <th>Area</th>\n",
       "      <th>Item</th>\n",
       "      <th>Year</th>\n",
       "      <th>crop_yield</th>\n",
       "      <th>average_rain_fall_mm_per_year</th>\n",
       "      <th>pesticides_tonnes</th>\n",
       "      <th>avg_temp</th>\n",
       "      <th>Price</th>\n",
       "    </tr>\n",
       "  </thead>\n",
       "  <tbody>\n",
       "    <tr>\n",
       "      <th>0</th>\n",
       "      <td>Albania</td>\n",
       "      <td>Maize</td>\n",
       "      <td>1990</td>\n",
       "      <td>36613.0</td>\n",
       "      <td>1485.0</td>\n",
       "      <td>121.0</td>\n",
       "      <td>16.37</td>\n",
       "      <td>183065.0</td>\n",
       "    </tr>\n",
       "    <tr>\n",
       "      <th>1</th>\n",
       "      <td>Albania</td>\n",
       "      <td>Potatoes</td>\n",
       "      <td>1990</td>\n",
       "      <td>66667.0</td>\n",
       "      <td>1485.0</td>\n",
       "      <td>121.0</td>\n",
       "      <td>16.37</td>\n",
       "      <td>200001.0</td>\n",
       "    </tr>\n",
       "    <tr>\n",
       "      <th>2</th>\n",
       "      <td>Albania</td>\n",
       "      <td>Rice, paddy</td>\n",
       "      <td>1990</td>\n",
       "      <td>23333.0</td>\n",
       "      <td>1485.0</td>\n",
       "      <td>121.0</td>\n",
       "      <td>16.37</td>\n",
       "      <td>139998.0</td>\n",
       "    </tr>\n",
       "    <tr>\n",
       "      <th>3</th>\n",
       "      <td>Albania</td>\n",
       "      <td>Sorghum</td>\n",
       "      <td>1990</td>\n",
       "      <td>12500.0</td>\n",
       "      <td>1485.0</td>\n",
       "      <td>121.0</td>\n",
       "      <td>16.37</td>\n",
       "      <td>50000.0</td>\n",
       "    </tr>\n",
       "    <tr>\n",
       "      <th>4</th>\n",
       "      <td>Albania</td>\n",
       "      <td>Soybeans</td>\n",
       "      <td>1990</td>\n",
       "      <td>7000.0</td>\n",
       "      <td>1485.0</td>\n",
       "      <td>121.0</td>\n",
       "      <td>16.37</td>\n",
       "      <td>56000.0</td>\n",
       "    </tr>\n",
       "  </tbody>\n",
       "</table>\n",
       "</div>"
      ],
      "text/plain": [
       "      Area         Item  Year  crop_yield  average_rain_fall_mm_per_year  \\\n",
       "0  Albania        Maize  1990     36613.0                         1485.0   \n",
       "1  Albania     Potatoes  1990     66667.0                         1485.0   \n",
       "2  Albania  Rice, paddy  1990     23333.0                         1485.0   \n",
       "3  Albania      Sorghum  1990     12500.0                         1485.0   \n",
       "4  Albania     Soybeans  1990      7000.0                         1485.0   \n",
       "\n",
       "   pesticides_tonnes  avg_temp     Price  \n",
       "0              121.0     16.37  183065.0  \n",
       "1              121.0     16.37  200001.0  \n",
       "2              121.0     16.37  139998.0  \n",
       "3              121.0     16.37   50000.0  \n",
       "4              121.0     16.37   56000.0  "
      ]
     },
<<<<<<< HEAD
     "execution_count": 38,
=======
     "execution_count": 82,
>>>>>>> 23e538fdb6ef4ab44364712badeecf9b84320460
     "metadata": {},
     "output_type": "execute_result"
    }
   ],
   "source": [
    "df.head()"
   ]
  },
  {
   "cell_type": "code",
<<<<<<< HEAD
   "execution_count": 39,
=======
   "execution_count": 83,
>>>>>>> 23e538fdb6ef4ab44364712badeecf9b84320460
   "metadata": {},
   "outputs": [
    {
     "data": {
      "text/html": [
       "<div>\n",
       "<style scoped>\n",
       "    .dataframe tbody tr th:only-of-type {\n",
       "        vertical-align: middle;\n",
       "    }\n",
       "\n",
       "    .dataframe tbody tr th {\n",
       "        vertical-align: top;\n",
       "    }\n",
       "\n",
       "    .dataframe thead th {\n",
       "        text-align: right;\n",
       "    }\n",
       "</style>\n",
       "<table border=\"1\" class=\"dataframe\">\n",
       "  <thead>\n",
       "    <tr style=\"text-align: right;\">\n",
       "      <th></th>\n",
       "      <th>Area</th>\n",
       "      <th>Item</th>\n",
       "      <th>Year</th>\n",
       "      <th>crop_yield</th>\n",
       "      <th>average_rain_fall_mm_per_year</th>\n",
       "      <th>pesticides_tonnes</th>\n",
       "      <th>avg_temp</th>\n",
       "    </tr>\n",
       "  </thead>\n",
       "  <tbody>\n",
       "    <tr>\n",
       "      <th>345</th>\n",
       "      <td>Angola</td>\n",
       "      <td>Cassava</td>\n",
       "      <td>2010</td>\n",
       "      <td>155782.0</td>\n",
       "      <td>1010.0</td>\n",
       "      <td>40.00</td>\n",
       "      <td>24.44</td>\n",
       "    </tr>\n",
       "    <tr>\n",
       "      <th>26405</th>\n",
       "      <td>Thailand</td>\n",
       "      <td>Soybeans</td>\n",
       "      <td>2006</td>\n",
       "      <td>15787.0</td>\n",
       "      <td>1622.0</td>\n",
       "      <td>41220.00</td>\n",
       "      <td>27.92</td>\n",
       "    </tr>\n",
       "    <tr>\n",
       "      <th>27032</th>\n",
       "      <td>Turkey</td>\n",
       "      <td>Maize</td>\n",
       "      <td>2010</td>\n",
       "      <td>72614.0</td>\n",
       "      <td>593.0</td>\n",
       "      <td>38554.69</td>\n",
       "      <td>13.80</td>\n",
       "    </tr>\n",
       "    <tr>\n",
       "      <th>24736</th>\n",
       "      <td>South Africa</td>\n",
       "      <td>Sorghum</td>\n",
       "      <td>1996</td>\n",
       "      <td>30774.0</td>\n",
       "      <td>495.0</td>\n",
       "      <td>19508.00</td>\n",
       "      <td>15.23</td>\n",
       "    </tr>\n",
       "    <tr>\n",
       "      <th>6053</th>\n",
       "      <td>Canada</td>\n",
       "      <td>Wheat</td>\n",
       "      <td>2010</td>\n",
       "      <td>28085.0</td>\n",
       "      <td>537.0</td>\n",
       "      <td>61050.00</td>\n",
       "      <td>9.47</td>\n",
       "    </tr>\n",
       "  </tbody>\n",
       "</table>\n",
       "</div>"
      ],
      "text/plain": [
       "               Area      Item  Year  crop_yield  \\\n",
       "345          Angola   Cassava  2010    155782.0   \n",
       "26405      Thailand  Soybeans  2006     15787.0   \n",
       "27032        Turkey     Maize  2010     72614.0   \n",
       "24736  South Africa   Sorghum  1996     30774.0   \n",
       "6053         Canada     Wheat  2010     28085.0   \n",
       "\n",
       "       average_rain_fall_mm_per_year  pesticides_tonnes  avg_temp  \n",
       "345                           1010.0              40.00     24.44  \n",
       "26405                         1622.0           41220.00     27.92  \n",
       "27032                          593.0           38554.69     13.80  \n",
       "24736                          495.0           19508.00     15.23  \n",
       "6053                           537.0           61050.00      9.47  "
      ]
     },
<<<<<<< HEAD
     "execution_count": 39,
=======
     "execution_count": 83,
>>>>>>> 23e538fdb6ef4ab44364712badeecf9b84320460
     "metadata": {},
     "output_type": "execute_result"
    }
   ],
   "source": [
    "X_test.head()"
   ]
  },
  {
   "cell_type": "code",
<<<<<<< HEAD
   "execution_count": 40,
=======
   "execution_count": 84,
>>>>>>> 23e538fdb6ef4ab44364712badeecf9b84320460
   "metadata": {},
   "outputs": [
    {
     "name": "stdout",
     "output_type": "stream",
     "text": [
      "Area                             Colombia\n",
      "Item                             Soybeans\n",
      "Year                                 1995\n",
      "crop_yield                        21075.0\n",
      "average_rain_fall_mm_per_year      3240.0\n",
      "pesticides_tonnes                20156.23\n",
      "avg_temp                             27.3\n",
      "Price                            168600.0\n",
      "Name: 6623, dtype: object\n"
     ]
    }
   ],
   "source": [
    "row_6053 = df.iloc[6053]\n",
    "print(row_6053)"
   ]
  },
  {
   "cell_type": "code",
<<<<<<< HEAD
   "execution_count": 41,
=======
   "execution_count": null,
>>>>>>> 23e538fdb6ef4ab44364712badeecf9b84320460
   "metadata": {},
   "outputs": [],
   "source": []
  },
  {
   "cell_type": "code",
<<<<<<< HEAD
   "execution_count": 42,
=======
   "execution_count": 85,
>>>>>>> 23e538fdb6ef4ab44364712badeecf9b84320460
   "metadata": {},
   "outputs": [],
   "source": [
    "import pickle  #used to store in a file it will convert python object into byte data(serilization)\n",
    "with open('best_model_price.pkl' ,'wb') as file:\n",
    "    pickle.dump(best_model,file)\n",
    "\n",
    "with open('preprocessor_price.pkl','wb') as file:\n",
    "    pickle.dump(preprocessor,file)\n"
   ]
  },
  {
   "cell_type": "code",
<<<<<<< HEAD
   "execution_count": 43,
=======
   "execution_count": 86,
>>>>>>> 23e538fdb6ef4ab44364712badeecf9b84320460
   "metadata": {},
   "outputs": [
    {
     "data": {
      "text/html": [
       "<div>\n",
       "<style scoped>\n",
       "    .dataframe tbody tr th:only-of-type {\n",
       "        vertical-align: middle;\n",
       "    }\n",
       "\n",
       "    .dataframe tbody tr th {\n",
       "        vertical-align: top;\n",
       "    }\n",
       "\n",
       "    .dataframe thead th {\n",
       "        text-align: right;\n",
       "    }\n",
       "</style>\n",
       "<table border=\"1\" class=\"dataframe\">\n",
       "  <thead>\n",
       "    <tr style=\"text-align: right;\">\n",
       "      <th></th>\n",
       "      <th>Area</th>\n",
       "      <th>Item</th>\n",
       "      <th>Year</th>\n",
       "      <th>crop_yield</th>\n",
       "      <th>average_rain_fall_mm_per_year</th>\n",
       "      <th>pesticides_tonnes</th>\n",
       "      <th>avg_temp</th>\n",
       "      <th>Price</th>\n",
       "    </tr>\n",
       "  </thead>\n",
       "  <tbody>\n",
       "    <tr>\n",
       "      <th>0</th>\n",
       "      <td>Albania</td>\n",
       "      <td>Maize</td>\n",
       "      <td>1990</td>\n",
       "      <td>36613.0</td>\n",
       "      <td>1485.0</td>\n",
       "      <td>121.0</td>\n",
       "      <td>16.37</td>\n",
       "      <td>183065.0</td>\n",
       "    </tr>\n",
       "    <tr>\n",
       "      <th>1</th>\n",
       "      <td>Albania</td>\n",
       "      <td>Potatoes</td>\n",
       "      <td>1990</td>\n",
       "      <td>66667.0</td>\n",
       "      <td>1485.0</td>\n",
       "      <td>121.0</td>\n",
       "      <td>16.37</td>\n",
       "      <td>200001.0</td>\n",
       "    </tr>\n",
       "    <tr>\n",
       "      <th>2</th>\n",
       "      <td>Albania</td>\n",
       "      <td>Rice, paddy</td>\n",
       "      <td>1990</td>\n",
       "      <td>23333.0</td>\n",
       "      <td>1485.0</td>\n",
       "      <td>121.0</td>\n",
       "      <td>16.37</td>\n",
       "      <td>139998.0</td>\n",
       "    </tr>\n",
       "    <tr>\n",
       "      <th>3</th>\n",
       "      <td>Albania</td>\n",
       "      <td>Sorghum</td>\n",
       "      <td>1990</td>\n",
       "      <td>12500.0</td>\n",
       "      <td>1485.0</td>\n",
       "      <td>121.0</td>\n",
       "      <td>16.37</td>\n",
       "      <td>50000.0</td>\n",
       "    </tr>\n",
       "    <tr>\n",
       "      <th>4</th>\n",
       "      <td>Albania</td>\n",
       "      <td>Soybeans</td>\n",
       "      <td>1990</td>\n",
       "      <td>7000.0</td>\n",
       "      <td>1485.0</td>\n",
       "      <td>121.0</td>\n",
       "      <td>16.37</td>\n",
       "      <td>56000.0</td>\n",
       "    </tr>\n",
       "  </tbody>\n",
       "</table>\n",
       "</div>"
      ],
      "text/plain": [
       "      Area         Item  Year  crop_yield  average_rain_fall_mm_per_year  \\\n",
       "0  Albania        Maize  1990     36613.0                         1485.0   \n",
       "1  Albania     Potatoes  1990     66667.0                         1485.0   \n",
       "2  Albania  Rice, paddy  1990     23333.0                         1485.0   \n",
       "3  Albania      Sorghum  1990     12500.0                         1485.0   \n",
       "4  Albania     Soybeans  1990      7000.0                         1485.0   \n",
       "\n",
       "   pesticides_tonnes  avg_temp     Price  \n",
       "0              121.0     16.37  183065.0  \n",
       "1              121.0     16.37  200001.0  \n",
       "2              121.0     16.37  139998.0  \n",
       "3              121.0     16.37   50000.0  \n",
       "4              121.0     16.37   56000.0  "
      ]
     },
<<<<<<< HEAD
     "execution_count": 43,
=======
     "execution_count": 86,
>>>>>>> 23e538fdb6ef4ab44364712badeecf9b84320460
     "metadata": {},
     "output_type": "execute_result"
    }
   ],
   "source": [
    "df.head()"
   ]
  },
  {
   "cell_type": "code",
   "execution_count": null,
   "metadata": {},
   "outputs": [],
   "source": []
  },
  {
   "cell_type": "code",
   "execution_count": null,
   "metadata": {},
   "outputs": [],
   "source": []
  },
  {
   "cell_type": "code",
   "execution_count": null,
   "metadata": {},
   "outputs": [],
   "source": []
  }
 ],
 "metadata": {
  "kernelspec": {
   "display_name": "Python 3",
   "language": "python",
   "name": "python3"
  },
  "language_info": {
   "codemirror_mode": {
    "name": "ipython",
    "version": 3
   },
   "file_extension": ".py",
   "mimetype": "text/x-python",
   "name": "python",
   "nbconvert_exporter": "python",
   "pygments_lexer": "ipython3",
   "version": "3.13.1"
  }
 },
 "nbformat": 4,
 "nbformat_minor": 2
}

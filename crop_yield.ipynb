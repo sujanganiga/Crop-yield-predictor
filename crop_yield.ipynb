{
 "cells": [
  {
   "cell_type": "markdown",
   "metadata": {},
   "source": [
    "lets start the project Keep going"
   ]
  },
  {
   "cell_type": "code",
<<<<<<< HEAD
   "execution_count": 1,
=======
   "execution_count": 135,
>>>>>>> 23e538fdb6ef4ab44364712badeecf9b84320460
   "metadata": {},
   "outputs": [],
   "source": [
    "import numpy as np \n",
    "import pandas as pd\n",
    "import matplotlib.pyplot as plt\n",
    "import seaborn as sns"
   ]
  },
  {
   "cell_type": "code",
<<<<<<< HEAD
   "execution_count": 2,
=======
   "execution_count": 136,
>>>>>>> 23e538fdb6ef4ab44364712badeecf9b84320460
   "metadata": {},
   "outputs": [],
   "source": [
    "df=pd.read_csv('yield_df.csv')"
   ]
  },
  {
   "cell_type": "code",
<<<<<<< HEAD
   "execution_count": 3,
=======
   "execution_count": 137,
>>>>>>> 23e538fdb6ef4ab44364712badeecf9b84320460
   "metadata": {},
   "outputs": [
    {
     "data": {
      "text/html": [
       "<div>\n",
       "<style scoped>\n",
       "    .dataframe tbody tr th:only-of-type {\n",
       "        vertical-align: middle;\n",
       "    }\n",
       "\n",
       "    .dataframe tbody tr th {\n",
       "        vertical-align: top;\n",
       "    }\n",
       "\n",
       "    .dataframe thead th {\n",
       "        text-align: right;\n",
       "    }\n",
       "</style>\n",
       "<table border=\"1\" class=\"dataframe\">\n",
       "  <thead>\n",
       "    <tr style=\"text-align: right;\">\n",
       "      <th></th>\n",
       "      <th>Unnamed: 0</th>\n",
       "      <th>Area</th>\n",
       "      <th>Item</th>\n",
       "      <th>Year</th>\n",
       "      <th>hg/ha_yield</th>\n",
       "      <th>average_rain_fall_mm_per_year</th>\n",
       "      <th>pesticides_tonnes</th>\n",
       "      <th>avg_temp</th>\n",
       "    </tr>\n",
       "  </thead>\n",
       "  <tbody>\n",
       "    <tr>\n",
       "      <th>0</th>\n",
       "      <td>0</td>\n",
       "      <td>Albania</td>\n",
       "      <td>Maize</td>\n",
       "      <td>1990</td>\n",
       "      <td>36613</td>\n",
       "      <td>1485.0</td>\n",
       "      <td>121.0</td>\n",
       "      <td>16.37</td>\n",
       "    </tr>\n",
       "    <tr>\n",
       "      <th>1</th>\n",
       "      <td>1</td>\n",
       "      <td>Albania</td>\n",
       "      <td>Potatoes</td>\n",
       "      <td>1990</td>\n",
       "      <td>66667</td>\n",
       "      <td>1485.0</td>\n",
       "      <td>121.0</td>\n",
       "      <td>16.37</td>\n",
       "    </tr>\n",
       "    <tr>\n",
       "      <th>2</th>\n",
       "      <td>2</td>\n",
       "      <td>Albania</td>\n",
       "      <td>Rice, paddy</td>\n",
       "      <td>1990</td>\n",
       "      <td>23333</td>\n",
       "      <td>1485.0</td>\n",
       "      <td>121.0</td>\n",
       "      <td>16.37</td>\n",
       "    </tr>\n",
       "    <tr>\n",
       "      <th>3</th>\n",
       "      <td>3</td>\n",
       "      <td>Albania</td>\n",
       "      <td>Sorghum</td>\n",
       "      <td>1990</td>\n",
       "      <td>12500</td>\n",
       "      <td>1485.0</td>\n",
       "      <td>121.0</td>\n",
       "      <td>16.37</td>\n",
       "    </tr>\n",
       "    <tr>\n",
       "      <th>4</th>\n",
       "      <td>4</td>\n",
       "      <td>Albania</td>\n",
       "      <td>Soybeans</td>\n",
       "      <td>1990</td>\n",
       "      <td>7000</td>\n",
       "      <td>1485.0</td>\n",
       "      <td>121.0</td>\n",
       "      <td>16.37</td>\n",
       "    </tr>\n",
       "  </tbody>\n",
       "</table>\n",
       "</div>"
      ],
      "text/plain": [
       "   Unnamed: 0     Area         Item  Year  hg/ha_yield  \\\n",
       "0           0  Albania        Maize  1990        36613   \n",
       "1           1  Albania     Potatoes  1990        66667   \n",
       "2           2  Albania  Rice, paddy  1990        23333   \n",
       "3           3  Albania      Sorghum  1990        12500   \n",
       "4           4  Albania     Soybeans  1990         7000   \n",
       "\n",
       "   average_rain_fall_mm_per_year  pesticides_tonnes  avg_temp  \n",
       "0                         1485.0              121.0     16.37  \n",
       "1                         1485.0              121.0     16.37  \n",
       "2                         1485.0              121.0     16.37  \n",
       "3                         1485.0              121.0     16.37  \n",
       "4                         1485.0              121.0     16.37  "
      ]
     },
<<<<<<< HEAD
     "execution_count": 3,
=======
     "execution_count": 137,
>>>>>>> 23e538fdb6ef4ab44364712badeecf9b84320460
     "metadata": {},
     "output_type": "execute_result"
    }
   ],
   "source": [
    "df.head()"
   ]
  },
  {
   "cell_type": "markdown",
   "metadata": {},
   "source": [
    "we need to delete unnecassary cloumn"
   ]
  },
  {
   "cell_type": "code",
<<<<<<< HEAD
   "execution_count": 4,
=======
   "execution_count": 138,
>>>>>>> 23e538fdb6ef4ab44364712badeecf9b84320460
   "metadata": {},
   "outputs": [],
   "source": [
    "df.drop('Unnamed: 0',axis=1,inplace=True)"
   ]
  },
  {
   "cell_type": "code",
<<<<<<< HEAD
   "execution_count": 5,
=======
   "execution_count": 139,
>>>>>>> 23e538fdb6ef4ab44364712badeecf9b84320460
   "metadata": {},
   "outputs": [
    {
     "data": {
      "text/html": [
       "<div>\n",
       "<style scoped>\n",
       "    .dataframe tbody tr th:only-of-type {\n",
       "        vertical-align: middle;\n",
       "    }\n",
       "\n",
       "    .dataframe tbody tr th {\n",
       "        vertical-align: top;\n",
       "    }\n",
       "\n",
       "    .dataframe thead th {\n",
       "        text-align: right;\n",
       "    }\n",
       "</style>\n",
       "<table border=\"1\" class=\"dataframe\">\n",
       "  <thead>\n",
       "    <tr style=\"text-align: right;\">\n",
       "      <th></th>\n",
       "      <th>Area</th>\n",
       "      <th>Item</th>\n",
       "      <th>Year</th>\n",
       "      <th>hg/ha_yield</th>\n",
       "      <th>average_rain_fall_mm_per_year</th>\n",
       "      <th>pesticides_tonnes</th>\n",
       "      <th>avg_temp</th>\n",
       "    </tr>\n",
       "  </thead>\n",
       "  <tbody>\n",
       "    <tr>\n",
       "      <th>0</th>\n",
       "      <td>Albania</td>\n",
       "      <td>Maize</td>\n",
       "      <td>1990</td>\n",
       "      <td>36613</td>\n",
       "      <td>1485.0</td>\n",
       "      <td>121.0</td>\n",
       "      <td>16.37</td>\n",
       "    </tr>\n",
       "    <tr>\n",
       "      <th>1</th>\n",
       "      <td>Albania</td>\n",
       "      <td>Potatoes</td>\n",
       "      <td>1990</td>\n",
       "      <td>66667</td>\n",
       "      <td>1485.0</td>\n",
       "      <td>121.0</td>\n",
       "      <td>16.37</td>\n",
       "    </tr>\n",
       "    <tr>\n",
       "      <th>2</th>\n",
       "      <td>Albania</td>\n",
       "      <td>Rice, paddy</td>\n",
       "      <td>1990</td>\n",
       "      <td>23333</td>\n",
       "      <td>1485.0</td>\n",
       "      <td>121.0</td>\n",
       "      <td>16.37</td>\n",
       "    </tr>\n",
       "    <tr>\n",
       "      <th>3</th>\n",
       "      <td>Albania</td>\n",
       "      <td>Sorghum</td>\n",
       "      <td>1990</td>\n",
       "      <td>12500</td>\n",
       "      <td>1485.0</td>\n",
       "      <td>121.0</td>\n",
       "      <td>16.37</td>\n",
       "    </tr>\n",
       "    <tr>\n",
       "      <th>4</th>\n",
       "      <td>Albania</td>\n",
       "      <td>Soybeans</td>\n",
       "      <td>1990</td>\n",
       "      <td>7000</td>\n",
       "      <td>1485.0</td>\n",
       "      <td>121.0</td>\n",
       "      <td>16.37</td>\n",
       "    </tr>\n",
       "  </tbody>\n",
       "</table>\n",
       "</div>"
      ],
      "text/plain": [
       "      Area         Item  Year  hg/ha_yield  average_rain_fall_mm_per_year  \\\n",
       "0  Albania        Maize  1990        36613                         1485.0   \n",
       "1  Albania     Potatoes  1990        66667                         1485.0   \n",
       "2  Albania  Rice, paddy  1990        23333                         1485.0   \n",
       "3  Albania      Sorghum  1990        12500                         1485.0   \n",
       "4  Albania     Soybeans  1990         7000                         1485.0   \n",
       "\n",
       "   pesticides_tonnes  avg_temp  \n",
       "0              121.0     16.37  \n",
       "1              121.0     16.37  \n",
       "2              121.0     16.37  \n",
       "3              121.0     16.37  \n",
       "4              121.0     16.37  "
      ]
     },
<<<<<<< HEAD
     "execution_count": 5,
=======
     "execution_count": 139,
>>>>>>> 23e538fdb6ef4ab44364712badeecf9b84320460
     "metadata": {},
     "output_type": "execute_result"
    }
   ],
   "source": [
    "df.head()"
   ]
  },
  {
   "cell_type": "code",
<<<<<<< HEAD
   "execution_count": 6,
=======
   "execution_count": 140,
>>>>>>> 23e538fdb6ef4ab44364712badeecf9b84320460
   "metadata": {},
   "outputs": [
    {
     "data": {
      "text/plain": [
       "(28242, 7)"
      ]
     },
<<<<<<< HEAD
     "execution_count": 6,
=======
     "execution_count": 140,
>>>>>>> 23e538fdb6ef4ab44364712badeecf9b84320460
     "metadata": {},
     "output_type": "execute_result"
    }
   ],
   "source": [
    "df.shape"
   ]
  },
  {
   "cell_type": "markdown",
   "metadata": {},
   "source": [
    "checking for null values"
   ]
  },
  {
   "cell_type": "code",
<<<<<<< HEAD
   "execution_count": 7,
=======
   "execution_count": 141,
>>>>>>> 23e538fdb6ef4ab44364712badeecf9b84320460
   "metadata": {},
   "outputs": [
    {
     "data": {
      "text/plain": [
       "Area                             0\n",
       "Item                             0\n",
       "Year                             0\n",
       "hg/ha_yield                      0\n",
       "average_rain_fall_mm_per_year    0\n",
       "pesticides_tonnes                0\n",
       "avg_temp                         0\n",
       "dtype: int64"
      ]
     },
<<<<<<< HEAD
     "execution_count": 7,
=======
     "execution_count": 141,
>>>>>>> 23e538fdb6ef4ab44364712badeecf9b84320460
     "metadata": {},
     "output_type": "execute_result"
    }
   ],
   "source": [
    "df.isnull().sum()"
   ]
  },
  {
   "cell_type": "code",
<<<<<<< HEAD
   "execution_count": 8,
=======
   "execution_count": 142,
>>>>>>> 23e538fdb6ef4ab44364712badeecf9b84320460
   "metadata": {},
   "outputs": [
    {
     "name": "stdout",
     "output_type": "stream",
     "text": [
      "<class 'pandas.core.frame.DataFrame'>\n",
      "RangeIndex: 28242 entries, 0 to 28241\n",
      "Data columns (total 7 columns):\n",
      " #   Column                         Non-Null Count  Dtype  \n",
      "---  ------                         --------------  -----  \n",
      " 0   Area                           28242 non-null  object \n",
      " 1   Item                           28242 non-null  object \n",
      " 2   Year                           28242 non-null  int64  \n",
      " 3   hg/ha_yield                    28242 non-null  int64  \n",
      " 4   average_rain_fall_mm_per_year  28242 non-null  float64\n",
      " 5   pesticides_tonnes              28242 non-null  float64\n",
      " 6   avg_temp                       28242 non-null  float64\n",
      "dtypes: float64(3), int64(2), object(2)\n",
      "memory usage: 1.5+ MB\n"
     ]
    }
   ],
   "source": [
    "df.info()"
   ]
  },
  {
   "cell_type": "code",
<<<<<<< HEAD
   "execution_count": 9,
   "metadata": {},
   "outputs": [
    {
     "data": {
      "text/plain": [
       "2310"
      ]
     },
     "execution_count": 9,
     "metadata": {},
     "output_type": "execute_result"
    }
   ],
   "source": [
    "df.duplicated().sum()"
   ]
  },
  {
   "cell_type": "code",
   "execution_count": 10,
   "metadata": {},
   "outputs": [],
   "source": [
    "df.drop_duplicates(inplace=True)"
   ]
  },
  {
   "cell_type": "code",
   "execution_count": 11,
=======
   "execution_count": 143,
>>>>>>> 23e538fdb6ef4ab44364712badeecf9b84320460
   "metadata": {},
   "outputs": [
    {
     "data": {
      "text/plain": [
       "np.int64(2310)"
      ]
     },
     "execution_count": 11,
     "metadata": {},
     "output_type": "execute_result"
    }
   ],
   "source": [
    "df.duplicated().sum()"
   ]
  },
  {
   "cell_type": "code",
   "execution_count": 12,
   "metadata": {},
   "outputs": [],
   "source": [
    "df.drop_duplicates(inplace=True)"
   ]
  },
  {
   "cell_type": "code",
   "execution_count": 145,
   "metadata": {},
   "outputs": [
    {
     "data": {
      "text/plain": [
       "np.int64(0)"
      ]
     },
     "execution_count": 145,
     "metadata": {},
     "output_type": "execute_result"
    }
   ],
   "source": [
    "df.duplicated().sum()"
   ]
  },
  {
   "cell_type": "code",
   "execution_count": 146,
   "metadata": {},
   "outputs": [
    {
     "data": {
      "text/html": [
       "<div>\n",
       "<style scoped>\n",
       "    .dataframe tbody tr th:only-of-type {\n",
       "        vertical-align: middle;\n",
       "    }\n",
       "\n",
       "    .dataframe tbody tr th {\n",
       "        vertical-align: top;\n",
       "    }\n",
       "\n",
       "    .dataframe thead th {\n",
       "        text-align: right;\n",
       "    }\n",
       "</style>\n",
       "<table border=\"1\" class=\"dataframe\">\n",
       "  <thead>\n",
       "    <tr style=\"text-align: right;\">\n",
       "      <th></th>\n",
       "      <th>Year</th>\n",
       "      <th>hg/ha_yield</th>\n",
       "      <th>average_rain_fall_mm_per_year</th>\n",
       "      <th>pesticides_tonnes</th>\n",
       "      <th>avg_temp</th>\n",
       "    </tr>\n",
       "  </thead>\n",
       "  <tbody>\n",
       "    <tr>\n",
       "      <th>count</th>\n",
       "      <td>25932.000000</td>\n",
       "      <td>25932.000000</td>\n",
       "      <td>25932.000000</td>\n",
       "      <td>25932.000000</td>\n",
       "      <td>25932.000000</td>\n",
       "    </tr>\n",
       "    <tr>\n",
       "      <th>mean</th>\n",
       "      <td>2001.556455</td>\n",
       "      <td>76978.132925</td>\n",
       "      <td>1146.836688</td>\n",
       "      <td>34782.573241</td>\n",
       "      <td>20.422251</td>\n",
       "    </tr>\n",
       "    <tr>\n",
       "      <th>std</th>\n",
       "      <td>7.055924</td>\n",
       "      <td>84647.605552</td>\n",
       "      <td>717.391098</td>\n",
       "      <td>57228.568244</td>\n",
       "      <td>6.439402</td>\n",
       "    </tr>\n",
       "    <tr>\n",
       "      <th>min</th>\n",
       "      <td>1990.000000</td>\n",
       "      <td>50.000000</td>\n",
       "      <td>51.000000</td>\n",
       "      <td>0.040000</td>\n",
       "      <td>1.300000</td>\n",
       "    </tr>\n",
       "    <tr>\n",
       "      <th>25%</th>\n",
       "      <td>1995.000000</td>\n",
       "      <td>19996.000000</td>\n",
       "      <td>593.000000</td>\n",
       "      <td>1597.000000</td>\n",
       "      <td>16.580000</td>\n",
       "    </tr>\n",
       "    <tr>\n",
       "      <th>50%</th>\n",
       "      <td>2001.000000</td>\n",
       "      <td>39530.000000</td>\n",
       "      <td>1083.000000</td>\n",
       "      <td>15373.000000</td>\n",
       "      <td>21.420000</td>\n",
       "    </tr>\n",
       "    <tr>\n",
       "      <th>75%</th>\n",
       "      <td>2008.000000</td>\n",
       "      <td>104168.000000</td>\n",
       "      <td>1668.000000</td>\n",
       "      <td>45620.000000</td>\n",
       "      <td>26.060000</td>\n",
       "    </tr>\n",
       "    <tr>\n",
       "      <th>max</th>\n",
       "      <td>2013.000000</td>\n",
       "      <td>501412.000000</td>\n",
       "      <td>3240.000000</td>\n",
       "      <td>367778.000000</td>\n",
       "      <td>30.650000</td>\n",
       "    </tr>\n",
       "  </tbody>\n",
       "</table>\n",
       "</div>"
      ],
      "text/plain": [
       "               Year    hg/ha_yield  average_rain_fall_mm_per_year  \\\n",
       "count  25932.000000   25932.000000                   25932.000000   \n",
       "mean    2001.556455   76978.132925                    1146.836688   \n",
       "std        7.055924   84647.605552                     717.391098   \n",
       "min     1990.000000      50.000000                      51.000000   \n",
       "25%     1995.000000   19996.000000                     593.000000   \n",
       "50%     2001.000000   39530.000000                    1083.000000   \n",
       "75%     2008.000000  104168.000000                    1668.000000   \n",
       "max     2013.000000  501412.000000                    3240.000000   \n",
       "\n",
       "       pesticides_tonnes      avg_temp  \n",
       "count       25932.000000  25932.000000  \n",
       "mean        34782.573241     20.422251  \n",
       "std         57228.568244      6.439402  \n",
       "min             0.040000      1.300000  \n",
       "25%          1597.000000     16.580000  \n",
       "50%         15373.000000     21.420000  \n",
       "75%         45620.000000     26.060000  \n",
       "max        367778.000000     30.650000  "
      ]
     },
<<<<<<< HEAD
     "execution_count": 12,
=======
     "execution_count": 146,
>>>>>>> 23e538fdb6ef4ab44364712badeecf9b84320460
     "metadata": {},
     "output_type": "execute_result"
    }
   ],
   "source": [
    "df.describe()"
   ]
  },
  {
   "cell_type": "code",
<<<<<<< HEAD
   "execution_count": 13,
=======
   "execution_count": 147,
>>>>>>> 23e538fdb6ef4ab44364712badeecf9b84320460
   "metadata": {},
   "outputs": [
    {
     "data": {
      "text/plain": [
       "0        1485.0\n",
       "1        1485.0\n",
       "2        1485.0\n",
       "3        1485.0\n",
       "4        1485.0\n",
       "          ...  \n",
       "28237     657.0\n",
       "28238     657.0\n",
       "28239     657.0\n",
       "28240     657.0\n",
       "28241     657.0\n",
       "Name: average_rain_fall_mm_per_year, Length: 25932, dtype: float64"
      ]
     },
<<<<<<< HEAD
     "execution_count": 13,
=======
     "execution_count": 147,
>>>>>>> 23e538fdb6ef4ab44364712badeecf9b84320460
     "metadata": {},
     "output_type": "execute_result"
    }
   ],
   "source": [
    "# transforming the  avg_rain_fall col\n",
    "df['average_rain_fall_mm_per_year']\n"
   ]
  },
  {
   "cell_type": "markdown",
   "metadata": {},
   "source": [
    "Below is used to drop the row which has  strings like \"N/A\" and retain the float values in the avg_rain_fall_mm_per_year"
   ]
  },
  {
   "cell_type": "code",
<<<<<<< HEAD
   "execution_count": 14,
=======
   "execution_count": 148,
>>>>>>> 23e538fdb6ef4ab44364712badeecf9b84320460
   "metadata": {},
   "outputs": [],
   "source": [
    "def isStr(obj):\n",
    "    try:\n",
    "        float(obj)\n",
    "        return False\n",
    "    except:\n",
    "        return True"
   ]
  },
  {
   "cell_type": "code",
<<<<<<< HEAD
   "execution_count": 15,
=======
   "execution_count": 149,
>>>>>>> 23e538fdb6ef4ab44364712badeecf9b84320460
   "metadata": {},
   "outputs": [],
   "source": [
    "to_drop=df[df['average_rain_fall_mm_per_year'].apply(isStr)].index"
   ]
  },
  {
   "cell_type": "code",
<<<<<<< HEAD
   "execution_count": 16,
=======
   "execution_count": 150,
>>>>>>> 23e538fdb6ef4ab44364712badeecf9b84320460
   "metadata": {},
   "outputs": [
    {
     "data": {
      "text/plain": [
       "Index([], dtype='int64')"
      ]
     },
<<<<<<< HEAD
     "execution_count": 16,
=======
     "execution_count": 150,
>>>>>>> 23e538fdb6ef4ab44364712badeecf9b84320460
     "metadata": {},
     "output_type": "execute_result"
    }
   ],
   "source": [
    "to_drop"
   ]
  },
  {
   "cell_type": "code",
<<<<<<< HEAD
   "execution_count": 17,
=======
   "execution_count": 151,
>>>>>>> 23e538fdb6ef4ab44364712badeecf9b84320460
   "metadata": {},
   "outputs": [
    {
     "data": {
      "text/html": [
       "<div>\n",
       "<style scoped>\n",
       "    .dataframe tbody tr th:only-of-type {\n",
       "        vertical-align: middle;\n",
       "    }\n",
       "\n",
       "    .dataframe tbody tr th {\n",
       "        vertical-align: top;\n",
       "    }\n",
       "\n",
       "    .dataframe thead th {\n",
       "        text-align: right;\n",
       "    }\n",
       "</style>\n",
       "<table border=\"1\" class=\"dataframe\">\n",
       "  <thead>\n",
       "    <tr style=\"text-align: right;\">\n",
       "      <th></th>\n",
       "      <th>Area</th>\n",
       "      <th>Item</th>\n",
       "      <th>Year</th>\n",
       "      <th>hg/ha_yield</th>\n",
       "      <th>average_rain_fall_mm_per_year</th>\n",
       "      <th>pesticides_tonnes</th>\n",
       "      <th>avg_temp</th>\n",
       "    </tr>\n",
       "  </thead>\n",
       "  <tbody>\n",
       "    <tr>\n",
       "      <th>0</th>\n",
       "      <td>Albania</td>\n",
       "      <td>Maize</td>\n",
       "      <td>1990</td>\n",
       "      <td>36613</td>\n",
       "      <td>1485.0</td>\n",
       "      <td>121.00</td>\n",
       "      <td>16.37</td>\n",
       "    </tr>\n",
       "    <tr>\n",
       "      <th>1</th>\n",
       "      <td>Albania</td>\n",
       "      <td>Potatoes</td>\n",
       "      <td>1990</td>\n",
       "      <td>66667</td>\n",
       "      <td>1485.0</td>\n",
       "      <td>121.00</td>\n",
       "      <td>16.37</td>\n",
       "    </tr>\n",
       "    <tr>\n",
       "      <th>2</th>\n",
       "      <td>Albania</td>\n",
       "      <td>Rice, paddy</td>\n",
       "      <td>1990</td>\n",
       "      <td>23333</td>\n",
       "      <td>1485.0</td>\n",
       "      <td>121.00</td>\n",
       "      <td>16.37</td>\n",
       "    </tr>\n",
       "    <tr>\n",
       "      <th>3</th>\n",
       "      <td>Albania</td>\n",
       "      <td>Sorghum</td>\n",
       "      <td>1990</td>\n",
       "      <td>12500</td>\n",
       "      <td>1485.0</td>\n",
       "      <td>121.00</td>\n",
       "      <td>16.37</td>\n",
       "    </tr>\n",
       "    <tr>\n",
       "      <th>4</th>\n",
       "      <td>Albania</td>\n",
       "      <td>Soybeans</td>\n",
       "      <td>1990</td>\n",
       "      <td>7000</td>\n",
       "      <td>1485.0</td>\n",
       "      <td>121.00</td>\n",
       "      <td>16.37</td>\n",
       "    </tr>\n",
       "    <tr>\n",
       "      <th>...</th>\n",
       "      <td>...</td>\n",
       "      <td>...</td>\n",
       "      <td>...</td>\n",
       "      <td>...</td>\n",
       "      <td>...</td>\n",
       "      <td>...</td>\n",
       "      <td>...</td>\n",
       "    </tr>\n",
       "    <tr>\n",
       "      <th>28237</th>\n",
       "      <td>Zimbabwe</td>\n",
       "      <td>Rice, paddy</td>\n",
       "      <td>2013</td>\n",
       "      <td>22581</td>\n",
       "      <td>657.0</td>\n",
       "      <td>2550.07</td>\n",
       "      <td>19.76</td>\n",
       "    </tr>\n",
       "    <tr>\n",
       "      <th>28238</th>\n",
       "      <td>Zimbabwe</td>\n",
       "      <td>Sorghum</td>\n",
       "      <td>2013</td>\n",
       "      <td>3066</td>\n",
       "      <td>657.0</td>\n",
       "      <td>2550.07</td>\n",
       "      <td>19.76</td>\n",
       "    </tr>\n",
       "    <tr>\n",
       "      <th>28239</th>\n",
       "      <td>Zimbabwe</td>\n",
       "      <td>Soybeans</td>\n",
       "      <td>2013</td>\n",
       "      <td>13142</td>\n",
       "      <td>657.0</td>\n",
       "      <td>2550.07</td>\n",
       "      <td>19.76</td>\n",
       "    </tr>\n",
       "    <tr>\n",
       "      <th>28240</th>\n",
       "      <td>Zimbabwe</td>\n",
       "      <td>Sweet potatoes</td>\n",
       "      <td>2013</td>\n",
       "      <td>22222</td>\n",
       "      <td>657.0</td>\n",
       "      <td>2550.07</td>\n",
       "      <td>19.76</td>\n",
       "    </tr>\n",
       "    <tr>\n",
       "      <th>28241</th>\n",
       "      <td>Zimbabwe</td>\n",
       "      <td>Wheat</td>\n",
       "      <td>2013</td>\n",
       "      <td>22888</td>\n",
       "      <td>657.0</td>\n",
       "      <td>2550.07</td>\n",
       "      <td>19.76</td>\n",
       "    </tr>\n",
       "  </tbody>\n",
       "</table>\n",
       "<p>25932 rows × 7 columns</p>\n",
       "</div>"
      ],
      "text/plain": [
       "           Area            Item  Year  hg/ha_yield  \\\n",
       "0       Albania           Maize  1990        36613   \n",
       "1       Albania        Potatoes  1990        66667   \n",
       "2       Albania     Rice, paddy  1990        23333   \n",
       "3       Albania         Sorghum  1990        12500   \n",
       "4       Albania        Soybeans  1990         7000   \n",
       "...         ...             ...   ...          ...   \n",
       "28237  Zimbabwe     Rice, paddy  2013        22581   \n",
       "28238  Zimbabwe         Sorghum  2013         3066   \n",
       "28239  Zimbabwe        Soybeans  2013        13142   \n",
       "28240  Zimbabwe  Sweet potatoes  2013        22222   \n",
       "28241  Zimbabwe           Wheat  2013        22888   \n",
       "\n",
       "       average_rain_fall_mm_per_year  pesticides_tonnes  avg_temp  \n",
       "0                             1485.0             121.00     16.37  \n",
       "1                             1485.0             121.00     16.37  \n",
       "2                             1485.0             121.00     16.37  \n",
       "3                             1485.0             121.00     16.37  \n",
       "4                             1485.0             121.00     16.37  \n",
       "...                              ...                ...       ...  \n",
       "28237                          657.0            2550.07     19.76  \n",
       "28238                          657.0            2550.07     19.76  \n",
       "28239                          657.0            2550.07     19.76  \n",
       "28240                          657.0            2550.07     19.76  \n",
       "28241                          657.0            2550.07     19.76  \n",
       "\n",
       "[25932 rows x 7 columns]"
      ]
     },
<<<<<<< HEAD
     "execution_count": 17,
=======
     "execution_count": 151,
>>>>>>> 23e538fdb6ef4ab44364712badeecf9b84320460
     "metadata": {},
     "output_type": "execute_result"
    }
   ],
   "source": [
    "df.drop(to_drop)"
   ]
  },
  {
   "cell_type": "code",
<<<<<<< HEAD
   "execution_count": 18,
=======
   "execution_count": 152,
>>>>>>> 23e538fdb6ef4ab44364712badeecf9b84320460
   "metadata": {},
   "outputs": [],
   "source": [
    "df['average_rain_fall_mm_per_year']=df['average_rain_fall_mm_per_year'].astype(np.float64) # to make this column to become float type as datatype"
   ]
  },
  {
   "cell_type": "code",
<<<<<<< HEAD
   "execution_count": 19,
=======
   "execution_count": 153,
>>>>>>> 23e538fdb6ef4ab44364712badeecf9b84320460
   "metadata": {},
   "outputs": [
    {
     "name": "stdout",
     "output_type": "stream",
     "text": [
      "<class 'pandas.core.frame.DataFrame'>\n",
      "Index: 25932 entries, 0 to 28241\n",
      "Data columns (total 7 columns):\n",
      " #   Column                         Non-Null Count  Dtype  \n",
      "---  ------                         --------------  -----  \n",
      " 0   Area                           25932 non-null  object \n",
      " 1   Item                           25932 non-null  object \n",
      " 2   Year                           25932 non-null  int64  \n",
      " 3   hg/ha_yield                    25932 non-null  int64  \n",
      " 4   average_rain_fall_mm_per_year  25932 non-null  float64\n",
      " 5   pesticides_tonnes              25932 non-null  float64\n",
      " 6   avg_temp                       25932 non-null  float64\n",
      "dtypes: float64(3), int64(2), object(2)\n",
      "memory usage: 2.6+ MB\n"
     ]
    }
   ],
   "source": [
    "df.info()"
   ]
  },
  {
   "cell_type": "markdown",
   "metadata": {},
   "source": [
    "Graph freuency versus area"
   ]
  },
  {
   "cell_type": "code",
<<<<<<< HEAD
   "execution_count": 20,
=======
   "execution_count": 154,
>>>>>>> 23e538fdb6ef4ab44364712badeecf9b84320460
   "metadata": {},
   "outputs": [
    {
     "data": {
      "image/png": "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",
      "text/plain": [
       "<Figure size 1000x2000 with 1 Axes>"
      ]
     },
     "metadata": {},
     "output_type": "display_data"
    }
   ],
   "source": [
    "plt.figure(figsize=(10,20)) #hieght and width\n",
    "sns.countplot(y=df['Area'])\n",
    "plt.show()\n"
   ]
  },
  {
   "cell_type": "markdown",
   "metadata": {},
   "source": [
    "Yield_per_country"
   ]
  },
  {
   "cell_type": "code",
<<<<<<< HEAD
   "execution_count": 21,
=======
   "execution_count": 155,
>>>>>>> 23e538fdb6ef4ab44364712badeecf9b84320460
   "metadata": {},
   "outputs": [
    {
     "data": {
      "text/plain": [
       "<bound method NDFrame.head of 0         Albania\n",
       "1         Albania\n",
       "2         Albania\n",
       "3         Albania\n",
       "4         Albania\n",
       "           ...   \n",
       "28237    Zimbabwe\n",
       "28238    Zimbabwe\n",
       "28239    Zimbabwe\n",
       "28240    Zimbabwe\n",
       "28241    Zimbabwe\n",
       "Name: Area, Length: 25932, dtype: object>"
      ]
     },
<<<<<<< HEAD
     "execution_count": 21,
=======
     "execution_count": 155,
>>>>>>> 23e538fdb6ef4ab44364712badeecf9b84320460
     "metadata": {},
     "output_type": "execute_result"
    }
   ],
   "source": [
    "df['Area'].head"
   ]
  },
  {
   "cell_type": "code",
<<<<<<< HEAD
   "execution_count": 22,
=======
   "execution_count": 156,
>>>>>>> 23e538fdb6ef4ab44364712badeecf9b84320460
   "metadata": {},
   "outputs": [
    {
     "name": "stdout",
     "output_type": "stream",
     "text": [
      "101\n"
     ]
    }
   ],
   "source": [
    "country=len(df['Area'].unique())\n",
    "print(country)"
   ]
  },
  {
   "cell_type": "code",
<<<<<<< HEAD
   "execution_count": 23,
=======
   "execution_count": 157,
>>>>>>> 23e538fdb6ef4ab44364712badeecf9b84320460
   "metadata": {},
   "outputs": [
    {
     "data": {
      "text/plain": [
       "array(['Albania', 'Algeria', 'Angola', 'Argentina', 'Armenia',\n",
       "       'Australia', 'Austria', 'Azerbaijan', 'Bahamas', 'Bahrain',\n",
       "       'Bangladesh', 'Belarus', 'Belgium', 'Botswana', 'Brazil',\n",
       "       'Bulgaria', 'Burkina Faso', 'Burundi', 'Cameroon', 'Canada',\n",
       "       'Central African Republic', 'Chile', 'Colombia', 'Croatia',\n",
       "       'Denmark', 'Dominican Republic', 'Ecuador', 'Egypt', 'El Salvador',\n",
       "       'Eritrea', 'Estonia', 'Finland', 'France', 'Germany', 'Ghana',\n",
       "       'Greece', 'Guatemala', 'Guinea', 'Guyana', 'Haiti', 'Honduras',\n",
       "       'Hungary', 'India', 'Indonesia', 'Iraq', 'Ireland', 'Italy',\n",
       "       'Jamaica', 'Japan', 'Kazakhstan', 'Kenya', 'Latvia', 'Lebanon',\n",
       "       'Lesotho', 'Libya', 'Lithuania', 'Madagascar', 'Malawi',\n",
       "       'Malaysia', 'Mali', 'Mauritania', 'Mauritius', 'Mexico',\n",
       "       'Montenegro', 'Morocco', 'Mozambique', 'Namibia', 'Nepal',\n",
       "       'Netherlands', 'New Zealand', 'Nicaragua', 'Niger', 'Norway',\n",
       "       'Pakistan', 'Papua New Guinea', 'Peru', 'Poland', 'Portugal',\n",
       "       'Qatar', 'Romania', 'Rwanda', 'Saudi Arabia', 'Senegal',\n",
       "       'Slovenia', 'South Africa', 'Spain', 'Sri Lanka', 'Sudan',\n",
       "       'Suriname', 'Sweden', 'Switzerland', 'Tajikistan', 'Thailand',\n",
       "       'Tunisia', 'Turkey', 'Uganda', 'Ukraine', 'United Kingdom',\n",
       "       'Uruguay', 'Zambia', 'Zimbabwe'], dtype=object)"
      ]
     },
<<<<<<< HEAD
     "execution_count": 23,
=======
     "execution_count": 157,
>>>>>>> 23e538fdb6ef4ab44364712badeecf9b84320460
     "metadata": {},
     "output_type": "execute_result"
    }
   ],
   "source": [
    "country=(df['Area'].unique())\n",
    "country # country is an array now\n"
   ]
  },
  {
   "cell_type": "code",
<<<<<<< HEAD
   "execution_count": 24,
=======
   "execution_count": 158,
>>>>>>> 23e538fdb6ef4ab44364712badeecf9b84320460
   "metadata": {},
   "outputs": [
    {
     "name": "stdout",
     "output_type": "stream",
     "text": [
      "Albania\n",
      "Algeria\n",
      "Angola\n",
      "Argentina\n",
      "Armenia\n",
      "Australia\n",
      "Austria\n",
      "Azerbaijan\n",
      "Bahamas\n",
      "Bahrain\n",
      "Bangladesh\n",
      "Belarus\n",
      "Belgium\n",
      "Botswana\n",
      "Brazil\n",
      "Bulgaria\n",
      "Burkina Faso\n",
      "Burundi\n",
      "Cameroon\n",
      "Canada\n",
      "Central African Republic\n",
      "Chile\n",
      "Colombia\n",
      "Croatia\n",
      "Denmark\n",
      "Dominican Republic\n",
      "Ecuador\n",
      "Egypt\n",
      "El Salvador\n",
      "Eritrea\n",
      "Estonia\n",
      "Finland\n",
      "France\n",
      "Germany\n",
      "Ghana\n",
      "Greece\n",
      "Guatemala\n",
      "Guinea\n",
      "Guyana\n",
      "Haiti\n",
      "Honduras\n",
      "Hungary\n",
      "India\n",
      "Indonesia\n",
      "Iraq\n",
      "Ireland\n",
      "Italy\n",
      "Jamaica\n",
      "Japan\n",
      "Kazakhstan\n",
      "Kenya\n",
      "Latvia\n",
      "Lebanon\n",
      "Lesotho\n",
      "Libya\n",
      "Lithuania\n",
      "Madagascar\n",
      "Malawi\n",
      "Malaysia\n",
      "Mali\n",
      "Mauritania\n",
      "Mauritius\n",
      "Mexico\n",
      "Montenegro\n",
      "Morocco\n",
      "Mozambique\n",
      "Namibia\n",
      "Nepal\n",
      "Netherlands\n",
      "New Zealand\n",
      "Nicaragua\n",
      "Niger\n",
      "Norway\n",
      "Pakistan\n",
      "Papua New Guinea\n",
      "Peru\n",
      "Poland\n",
      "Portugal\n",
      "Qatar\n",
      "Romania\n",
      "Rwanda\n",
      "Saudi Arabia\n",
      "Senegal\n",
      "Slovenia\n",
      "South Africa\n",
      "Spain\n",
      "Sri Lanka\n",
      "Sudan\n",
      "Suriname\n",
      "Sweden\n",
      "Switzerland\n",
      "Tajikistan\n",
      "Thailand\n",
      "Tunisia\n",
      "Turkey\n",
      "Uganda\n",
      "Ukraine\n",
      "United Kingdom\n",
      "Uruguay\n",
      "Zambia\n",
      "Zimbabwe\n"
     ]
    }
   ],
   "source": [
    "for state in country:\n",
    "    print(state)"
   ]
  },
  {
   "cell_type": "code",
<<<<<<< HEAD
   "execution_count": 25,
=======
   "execution_count": 159,
>>>>>>> 23e538fdb6ef4ab44364712badeecf9b84320460
   "metadata": {},
   "outputs": [
    {
     "data": {
      "text/html": [
       "<div>\n",
       "<style scoped>\n",
       "    .dataframe tbody tr th:only-of-type {\n",
       "        vertical-align: middle;\n",
       "    }\n",
       "\n",
       "    .dataframe tbody tr th {\n",
       "        vertical-align: top;\n",
       "    }\n",
       "\n",
       "    .dataframe thead th {\n",
       "        text-align: right;\n",
       "    }\n",
       "</style>\n",
       "<table border=\"1\" class=\"dataframe\">\n",
       "  <thead>\n",
       "    <tr style=\"text-align: right;\">\n",
       "      <th></th>\n",
       "      <th>Area</th>\n",
       "      <th>Item</th>\n",
       "      <th>Year</th>\n",
       "      <th>hg/ha_yield</th>\n",
       "      <th>average_rain_fall_mm_per_year</th>\n",
       "      <th>pesticides_tonnes</th>\n",
       "      <th>avg_temp</th>\n",
       "    </tr>\n",
       "  </thead>\n",
       "  <tbody>\n",
       "    <tr>\n",
       "      <th>0</th>\n",
       "      <td>Albania</td>\n",
       "      <td>Maize</td>\n",
       "      <td>1990</td>\n",
       "      <td>36613</td>\n",
       "      <td>1485.0</td>\n",
       "      <td>121.0</td>\n",
       "      <td>16.37</td>\n",
       "    </tr>\n",
       "    <tr>\n",
       "      <th>1</th>\n",
       "      <td>Albania</td>\n",
       "      <td>Potatoes</td>\n",
       "      <td>1990</td>\n",
       "      <td>66667</td>\n",
       "      <td>1485.0</td>\n",
       "      <td>121.0</td>\n",
       "      <td>16.37</td>\n",
       "    </tr>\n",
       "    <tr>\n",
       "      <th>2</th>\n",
       "      <td>Albania</td>\n",
       "      <td>Rice, paddy</td>\n",
       "      <td>1990</td>\n",
       "      <td>23333</td>\n",
       "      <td>1485.0</td>\n",
       "      <td>121.0</td>\n",
       "      <td>16.37</td>\n",
       "    </tr>\n",
       "    <tr>\n",
       "      <th>3</th>\n",
       "      <td>Albania</td>\n",
       "      <td>Sorghum</td>\n",
       "      <td>1990</td>\n",
       "      <td>12500</td>\n",
       "      <td>1485.0</td>\n",
       "      <td>121.0</td>\n",
       "      <td>16.37</td>\n",
       "    </tr>\n",
       "    <tr>\n",
       "      <th>4</th>\n",
       "      <td>Albania</td>\n",
       "      <td>Soybeans</td>\n",
       "      <td>1990</td>\n",
       "      <td>7000</td>\n",
       "      <td>1485.0</td>\n",
       "      <td>121.0</td>\n",
       "      <td>16.37</td>\n",
       "    </tr>\n",
       "  </tbody>\n",
       "</table>\n",
       "</div>"
      ],
      "text/plain": [
       "      Area         Item  Year  hg/ha_yield  average_rain_fall_mm_per_year  \\\n",
       "0  Albania        Maize  1990        36613                         1485.0   \n",
       "1  Albania     Potatoes  1990        66667                         1485.0   \n",
       "2  Albania  Rice, paddy  1990        23333                         1485.0   \n",
       "3  Albania      Sorghum  1990        12500                         1485.0   \n",
       "4  Albania     Soybeans  1990         7000                         1485.0   \n",
       "\n",
       "   pesticides_tonnes  avg_temp  \n",
       "0              121.0     16.37  \n",
       "1              121.0     16.37  \n",
       "2              121.0     16.37  \n",
       "3              121.0     16.37  \n",
       "4              121.0     16.37  "
      ]
     },
<<<<<<< HEAD
     "execution_count": 25,
=======
     "execution_count": 159,
>>>>>>> 23e538fdb6ef4ab44364712badeecf9b84320460
     "metadata": {},
     "output_type": "execute_result"
    }
   ],
   "source": [
    "df.head()"
   ]
  },
  {
   "cell_type": "code",
<<<<<<< HEAD
   "execution_count": 26,
=======
   "execution_count": 160,
>>>>>>> 23e538fdb6ef4ab44364712badeecf9b84320460
   "metadata": {},
   "outputs": [],
   "source": [
    "# below function is doing sum of the total yield in a country include different item(ex: Miaze,potatoes,Rice,Paddy)\n",
    "# yeild per country\n",
    "# df[df['Area'] == state]: Filters the DataFrame df to include only rows corresponding to the current state.\n",
    "# ['hg/ha_yield'].sum(): Calculates the sum of the hg/ha_yield column for the filtered rows, which represents the yield for that state.\n",
    "yeild_per_country=[]\n",
    "for state in country:\n",
    "    yeild_per_country.append(df[df['Area']==state]['hg/ha_yield'].sum())"
   ]
  },
  {
   "cell_type": "code",
<<<<<<< HEAD
   "execution_count": 27,
=======
   "execution_count": 161,
>>>>>>> 23e538fdb6ef4ab44364712badeecf9b84320460
   "metadata": {},
   "outputs": [
    {
     "data": {
      "text/plain": [
       "[np.int64(5711536),\n",
       " np.int64(6711464),\n",
       " np.int64(5722563),\n",
       " np.int64(32864032),\n",
       " np.int64(4524100),\n",
       " np.int64(109111062),\n",
       " np.int64(10852258),\n",
       " np.int64(4608380),\n",
       " np.int64(4384717),\n",
       " np.int64(4443889),\n",
       " np.int64(7720159),\n",
       " np.int64(4704812),\n",
       " np.int64(8442270),\n",
       " np.int64(470651),\n",
       " np.int64(136340329),\n",
       " np.int64(6263075),\n",
       " np.int64(6083337),\n",
       " np.int64(7031146),\n",
       " np.int64(10717883),\n",
       " np.int64(34706922),\n",
       " np.int64(4255627),\n",
       " np.int64(20561214),\n",
       " np.int64(26927138),\n",
       " np.int64(6083167),\n",
       " np.int64(10701651),\n",
       " np.int64(25312166),\n",
       " np.int64(21315591),\n",
       " np.int64(36828848),\n",
       " np.int64(16855944),\n",
       " np.int64(1452416),\n",
       " np.int64(3595638),\n",
       " np.int64(6210668),\n",
       " np.int64(15790618),\n",
       " np.int64(38780463),\n",
       " np.int64(9260371),\n",
       " np.int64(14571925),\n",
       " np.int64(16508723),\n",
       " np.int64(7975743),\n",
       " np.int64(8361103),\n",
       " np.int64(8619194),\n",
       " np.int64(10920131),\n",
       " np.int64(8824110),\n",
       " np.int64(274219558),\n",
       " np.int64(68067328),\n",
       " np.int64(10984722),\n",
       " np.int64(9104030),\n",
       " np.int64(32280700),\n",
       " np.int64(19698007),\n",
       " np.int64(100924145),\n",
       " np.int64(9965212),\n",
       " np.int64(14391737),\n",
       " np.int64(3698588),\n",
       " np.int64(6956804),\n",
       " np.int64(4258932),\n",
       " np.int64(9016288),\n",
       " np.int64(4174348),\n",
       " np.int64(6103523),\n",
       " np.int64(8346715),\n",
       " np.int64(7934982),\n",
       " np.int64(15106720),\n",
       " np.int64(4465841),\n",
       " np.int64(12684212),\n",
       " np.int64(113698872),\n",
       " np.int64(1645100),\n",
       " np.int64(22173010),\n",
       " np.int64(6964027),\n",
       " np.int64(3165475),\n",
       " np.int64(4113713),\n",
       " np.int64(14086433),\n",
       " np.int64(17657728),\n",
       " np.int64(12819227),\n",
       " np.int64(12316327),\n",
       " np.int64(6721305),\n",
       " np.int64(49264956),\n",
       " np.int64(10729929),\n",
       " np.int64(15201910),\n",
       " np.int64(6564711),\n",
       " np.int64(12154347),\n",
       " np.int64(5995626),\n",
       " np.int64(6006156),\n",
       " np.int64(7741053),\n",
       " np.int64(15171886),\n",
       " np.int64(10342677),\n",
       " np.int64(7197013),\n",
       " np.int64(30999849),\n",
       " np.int64(46773540),\n",
       " np.int64(11217741),\n",
       " np.int64(1896346),\n",
       " np.int64(14786468),\n",
       " np.int64(8620653),\n",
       " np.int64(13336346),\n",
       " np.int64(6295210),\n",
       " np.int64(9511720),\n",
       " np.int64(3724246),\n",
       " np.int64(52263950),\n",
       " np.int64(7494314),\n",
       " np.int64(5496901),\n",
       " np.int64(44335992),\n",
       " np.int64(9539820),\n",
       " np.int64(7254311),\n",
       " np.int64(7408629)]"
      ]
     },
<<<<<<< HEAD
     "execution_count": 27,
=======
     "execution_count": 161,
>>>>>>> 23e538fdb6ef4ab44364712badeecf9b84320460
     "metadata": {},
     "output_type": "execute_result"
    }
   ],
   "source": [
    "yeild_per_country"
   ]
  },
  {
   "cell_type": "markdown",
   "metadata": {},
   "source": [
    "Yeild_per_country Graph"
   ]
  },
  {
   "cell_type": "code",
<<<<<<< HEAD
   "execution_count": 28,
=======
   "execution_count": 162,
>>>>>>> 23e538fdb6ef4ab44364712badeecf9b84320460
   "metadata": {},
   "outputs": [
    {
     "data": {
      "image/png": "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",
      "text/plain": [
       "<Figure size 1000x2000 with 1 Axes>"
      ]
     },
     "metadata": {},
     "output_type": "display_data"
    }
   ],
   "source": [
    "plt.figure(figsize=(10, 20))\n",
    "sns.barplot(y=country, x=yeild_per_country, orient='h')  # 'orient=\"h\"' ensures a horizontal bar plot\n",
    "plt.xlabel('Total Yield (hg/ha)')\n",
    "plt.ylabel('Country')\n",
    "plt.title('Total Yield per Country')\n",
    "plt.show()"
   ]
  },
  {
   "cell_type": "code",
<<<<<<< HEAD
   "execution_count": 29,
=======
   "execution_count": 163,
>>>>>>> 23e538fdb6ef4ab44364712badeecf9b84320460
   "metadata": {},
   "outputs": [
    {
     "data": {
      "text/plain": [
       "Item\n",
       "Potatoes                3956\n",
       "Maize                   3824\n",
       "Wheat                   3539\n",
       "Rice, paddy             3091\n",
       "Soybeans                2940\n",
       "Sorghum                 2770\n",
       "Sweet potatoes          2593\n",
       "Cassava                 1889\n",
       "Yams                     774\n",
       "Plantains and others     556\n",
       "Name: count, dtype: int64"
      ]
     },
<<<<<<< HEAD
     "execution_count": 29,
=======
     "execution_count": 163,
>>>>>>> 23e538fdb6ef4ab44364712badeecf9b84320460
     "metadata": {},
     "output_type": "execute_result"
    }
   ],
   "source": [
    "df['Item'].value_counts()"
   ]
  },
  {
   "cell_type": "code",
<<<<<<< HEAD
   "execution_count": 30,
=======
   "execution_count": 164,
>>>>>>> 23e538fdb6ef4ab44364712badeecf9b84320460
   "metadata": {},
   "outputs": [
    {
     "data": {
      "image/png": "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",
      "text/plain": [
       "<Figure size 640x480 with 1 Axes>"
      ]
     },
     "metadata": {},
     "output_type": "display_data"
    }
   ],
   "source": [
    "# visuliaze\n",
    "sns.countplot(y=df['Item'])\n",
    "plt.show()"
   ]
  },
  {
   "cell_type": "markdown",
   "metadata": {},
   "source": [
    "Yield Vs Item"
   ]
  },
  {
   "cell_type": "code",
<<<<<<< HEAD
   "execution_count": 31,
=======
   "execution_count": 165,
>>>>>>> 23e538fdb6ef4ab44364712badeecf9b84320460
   "metadata": {},
   "outputs": [],
   "source": [
    "crops=df['Item'].unique()"
   ]
  },
  {
   "cell_type": "code",
<<<<<<< HEAD
   "execution_count": 32,
=======
   "execution_count": 166,
>>>>>>> 23e538fdb6ef4ab44364712badeecf9b84320460
   "metadata": {},
   "outputs": [],
   "source": [
    "yeild_per_Item=[]\n",
    "for crop in crops:\n",
    "    yeild_per_Item.append(df[df['Item']==crop]['hg/ha_yield'].sum())\n"
   ]
  },
  {
   "cell_type": "code",
<<<<<<< HEAD
   "execution_count": 33,
=======
   "execution_count": 167,
>>>>>>> 23e538fdb6ef4ab44364712badeecf9b84320460
   "metadata": {},
   "outputs": [
    {
     "data": {
      "text/plain": [
       "[np.int64(142020761),\n",
       " np.int64(785921609),\n",
       " np.int64(127646024),\n",
       " np.int64(52906376),\n",
       " np.int64(49957039),\n",
       " np.int64(106614786),\n",
       " np.int64(275132269),\n",
       " np.int64(310269345),\n",
       " np.int64(58958974),\n",
       " np.int64(86769760)]"
      ]
     },
<<<<<<< HEAD
     "execution_count": 33,
=======
     "execution_count": 167,
>>>>>>> 23e538fdb6ef4ab44364712badeecf9b84320460
     "metadata": {},
     "output_type": "execute_result"
    }
   ],
   "source": [
    "yeild_per_Item"
   ]
  },
  {
   "cell_type": "code",
<<<<<<< HEAD
   "execution_count": 34,
=======
   "execution_count": 168,
>>>>>>> 23e538fdb6ef4ab44364712badeecf9b84320460
   "metadata": {},
   "outputs": [
    {
     "data": {
      "text/plain": [
       "<Axes: >"
      ]
     },
<<<<<<< HEAD
     "execution_count": 34,
=======
     "execution_count": 168,
>>>>>>> 23e538fdb6ef4ab44364712badeecf9b84320460
     "metadata": {},
     "output_type": "execute_result"
    },
    {
     "data": {
      "image/png": "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",
      "text/plain": [
       "<Figure size 1500x500 with 1 Axes>"
      ]
     },
     "metadata": {},
     "output_type": "display_data"
    }
   ],
   "source": [
    "plt.figure(figsize=(15,5))\n",
    "sns.barplot(x=crops,y=yeild_per_Item)"
   ]
  },
  {
   "cell_type": "code",
<<<<<<< HEAD
   "execution_count": 35,
   "metadata": {},
   "outputs": [
    {
     "data": {
      "text/html": [
       "<div>\n",
       "<style scoped>\n",
       "    .dataframe tbody tr th:only-of-type {\n",
       "        vertical-align: middle;\n",
       "    }\n",
       "\n",
       "    .dataframe tbody tr th {\n",
       "        vertical-align: top;\n",
       "    }\n",
       "\n",
       "    .dataframe thead th {\n",
       "        text-align: right;\n",
       "    }\n",
       "</style>\n",
       "<table border=\"1\" class=\"dataframe\">\n",
       "  <thead>\n",
       "    <tr style=\"text-align: right;\">\n",
       "      <th></th>\n",
       "      <th>Area</th>\n",
       "      <th>Item</th>\n",
       "      <th>Year</th>\n",
       "      <th>hg/ha_yield</th>\n",
       "      <th>average_rain_fall_mm_per_year</th>\n",
       "      <th>pesticides_tonnes</th>\n",
       "      <th>avg_temp</th>\n",
       "    </tr>\n",
       "  </thead>\n",
       "  <tbody>\n",
       "    <tr>\n",
       "      <th>0</th>\n",
       "      <td>Albania</td>\n",
       "      <td>Maize</td>\n",
       "      <td>1990</td>\n",
       "      <td>36613</td>\n",
       "      <td>1485.0</td>\n",
       "      <td>121.0</td>\n",
       "      <td>16.37</td>\n",
       "    </tr>\n",
       "    <tr>\n",
       "      <th>1</th>\n",
       "      <td>Albania</td>\n",
       "      <td>Potatoes</td>\n",
       "      <td>1990</td>\n",
       "      <td>66667</td>\n",
       "      <td>1485.0</td>\n",
       "      <td>121.0</td>\n",
       "      <td>16.37</td>\n",
       "    </tr>\n",
       "    <tr>\n",
       "      <th>2</th>\n",
       "      <td>Albania</td>\n",
       "      <td>Rice, paddy</td>\n",
       "      <td>1990</td>\n",
       "      <td>23333</td>\n",
       "      <td>1485.0</td>\n",
       "      <td>121.0</td>\n",
       "      <td>16.37</td>\n",
       "    </tr>\n",
       "    <tr>\n",
       "      <th>3</th>\n",
       "      <td>Albania</td>\n",
       "      <td>Sorghum</td>\n",
       "      <td>1990</td>\n",
       "      <td>12500</td>\n",
       "      <td>1485.0</td>\n",
       "      <td>121.0</td>\n",
       "      <td>16.37</td>\n",
       "    </tr>\n",
       "    <tr>\n",
       "      <th>4</th>\n",
       "      <td>Albania</td>\n",
       "      <td>Soybeans</td>\n",
       "      <td>1990</td>\n",
       "      <td>7000</td>\n",
       "      <td>1485.0</td>\n",
       "      <td>121.0</td>\n",
       "      <td>16.37</td>\n",
       "    </tr>\n",
       "  </tbody>\n",
       "</table>\n",
       "</div>"
      ],
      "text/plain": [
       "      Area         Item  Year  hg/ha_yield  average_rain_fall_mm_per_year  \\\n",
       "0  Albania        Maize  1990        36613                         1485.0   \n",
       "1  Albania     Potatoes  1990        66667                         1485.0   \n",
       "2  Albania  Rice, paddy  1990        23333                         1485.0   \n",
       "3  Albania      Sorghum  1990        12500                         1485.0   \n",
       "4  Albania     Soybeans  1990         7000                         1485.0   \n",
       "\n",
       "   pesticides_tonnes  avg_temp  \n",
       "0              121.0     16.37  \n",
       "1              121.0     16.37  \n",
       "2              121.0     16.37  \n",
       "3              121.0     16.37  \n",
       "4              121.0     16.37  "
      ]
     },
     "execution_count": 35,
     "metadata": {},
     "output_type": "execute_result"
    }
   ],
   "source": [
    "df.head()"
   ]
  },
  {
   "cell_type": "code",
   "execution_count": 36,
   "metadata": {},
   "outputs": [],
   "source": [
    "# Move 'hg/ha_yield' to the last position\n",
    "columns = [col for col in df.columns if col != 'hg/ha_yield']  # Get all columns except 'hg/ha_yield'\n",
    "columns.append('hg/ha_yield')  # Add 'hg/ha_yield' to the end\n",
    "df = df[columns]  # Reorder columns"
   ]
  },
  {
   "cell_type": "code",
   "execution_count": 37,
=======
   "execution_count": 169,
>>>>>>> 23e538fdb6ef4ab44364712badeecf9b84320460
   "metadata": {},
   "outputs": [
    {
     "data": {
      "text/html": [
       "<div>\n",
       "<style scoped>\n",
       "    .dataframe tbody tr th:only-of-type {\n",
       "        vertical-align: middle;\n",
       "    }\n",
       "\n",
       "    .dataframe tbody tr th {\n",
       "        vertical-align: top;\n",
       "    }\n",
       "\n",
       "    .dataframe thead th {\n",
       "        text-align: right;\n",
       "    }\n",
       "</style>\n",
       "<table border=\"1\" class=\"dataframe\">\n",
       "  <thead>\n",
       "    <tr style=\"text-align: right;\">\n",
       "      <th></th>\n",
       "      <th>Area</th>\n",
       "      <th>Item</th>\n",
       "      <th>Year</th>\n",
       "      <th>hg/ha_yield</th>\n",
       "      <th>average_rain_fall_mm_per_year</th>\n",
       "      <th>pesticides_tonnes</th>\n",
       "      <th>avg_temp</th>\n",
       "    </tr>\n",
       "  </thead>\n",
       "  <tbody>\n",
       "    <tr>\n",
       "      <th>0</th>\n",
       "      <td>Albania</td>\n",
       "      <td>Maize</td>\n",
       "      <td>1990</td>\n",
       "      <td>36613</td>\n",
       "      <td>1485.0</td>\n",
       "      <td>121.0</td>\n",
       "      <td>16.37</td>\n",
       "    </tr>\n",
       "    <tr>\n",
       "      <th>1</th>\n",
       "      <td>Albania</td>\n",
       "      <td>Potatoes</td>\n",
       "      <td>1990</td>\n",
       "      <td>66667</td>\n",
       "      <td>1485.0</td>\n",
       "      <td>121.0</td>\n",
       "      <td>16.37</td>\n",
       "    </tr>\n",
       "    <tr>\n",
       "      <th>2</th>\n",
       "      <td>Albania</td>\n",
       "      <td>Rice, paddy</td>\n",
       "      <td>1990</td>\n",
       "      <td>23333</td>\n",
       "      <td>1485.0</td>\n",
       "      <td>121.0</td>\n",
       "      <td>16.37</td>\n",
       "    </tr>\n",
       "    <tr>\n",
       "      <th>3</th>\n",
       "      <td>Albania</td>\n",
       "      <td>Sorghum</td>\n",
       "      <td>1990</td>\n",
       "      <td>12500</td>\n",
       "      <td>1485.0</td>\n",
       "      <td>121.0</td>\n",
       "      <td>16.37</td>\n",
       "    </tr>\n",
       "    <tr>\n",
       "      <th>4</th>\n",
       "      <td>Albania</td>\n",
       "      <td>Soybeans</td>\n",
       "      <td>1990</td>\n",
       "      <td>7000</td>\n",
       "      <td>1485.0</td>\n",
       "      <td>121.0</td>\n",
       "      <td>16.37</td>\n",
       "    </tr>\n",
       "  </tbody>\n",
       "</table>\n",
       "</div>"
      ],
      "text/plain": [
       "      Area         Item  Year  hg/ha_yield  average_rain_fall_mm_per_year  \\\n",
       "0  Albania        Maize  1990        36613                         1485.0   \n",
       "1  Albania     Potatoes  1990        66667                         1485.0   \n",
       "2  Albania  Rice, paddy  1990        23333                         1485.0   \n",
       "3  Albania      Sorghum  1990        12500                         1485.0   \n",
       "4  Albania     Soybeans  1990         7000                         1485.0   \n",
       "\n",
       "   pesticides_tonnes  avg_temp  \n",
       "0              121.0     16.37  \n",
       "1              121.0     16.37  \n",
       "2              121.0     16.37  \n",
       "3              121.0     16.37  \n",
       "4              121.0     16.37  "
      ]
     },
     "execution_count": 37,
     "metadata": {},
     "output_type": "execute_result"
    }
   ],
   "source": [
    "df.head()"
   ]
  },
  {
   "cell_type": "code",
   "execution_count": 38,
   "metadata": {},
   "outputs": [],
   "source": [
    "# Move 'hg/ha_yield' to the last position\n",
    "columns = [col for col in df.columns if col != 'hg/ha_yield']  # Get all columns except 'hg/ha_yield'\n",
    "columns.append('hg/ha_yield')  # Add 'hg/ha_yield' to the end\n",
    "df = df[columns]  # Reorder columns"
   ]
  },
  {
   "cell_type": "code",
   "execution_count": 39,
   "metadata": {},
   "outputs": [
    {
     "data": {
      "text/html": [
       "<div>\n",
       "<style scoped>\n",
       "    .dataframe tbody tr th:only-of-type {\n",
       "        vertical-align: middle;\n",
       "    }\n",
       "\n",
       "    .dataframe tbody tr th {\n",
       "        vertical-align: top;\n",
       "    }\n",
       "\n",
       "    .dataframe thead th {\n",
       "        text-align: right;\n",
       "    }\n",
       "</style>\n",
       "<table border=\"1\" class=\"dataframe\">\n",
       "  <thead>\n",
       "    <tr style=\"text-align: right;\">\n",
       "      <th></th>\n",
       "      <th>Area</th>\n",
       "      <th>Item</th>\n",
       "      <th>Year</th>\n",
       "      <th>average_rain_fall_mm_per_year</th>\n",
       "      <th>pesticides_tonnes</th>\n",
       "      <th>avg_temp</th>\n",
       "      <th>hg/ha_yield</th>\n",
       "    </tr>\n",
       "  </thead>\n",
       "  <tbody>\n",
       "    <tr>\n",
       "      <th>0</th>\n",
       "      <td>Albania</td>\n",
       "      <td>Maize</td>\n",
       "      <td>1990</td>\n",
       "      <td>1485.0</td>\n",
       "      <td>121.0</td>\n",
       "      <td>16.37</td>\n",
       "      <td>36613</td>\n",
       "    </tr>\n",
       "    <tr>\n",
       "      <th>1</th>\n",
       "      <td>Albania</td>\n",
       "      <td>Potatoes</td>\n",
       "      <td>1990</td>\n",
       "      <td>1485.0</td>\n",
       "      <td>121.0</td>\n",
       "      <td>16.37</td>\n",
       "      <td>66667</td>\n",
       "    </tr>\n",
       "    <tr>\n",
       "      <th>2</th>\n",
       "      <td>Albania</td>\n",
       "      <td>Rice, paddy</td>\n",
       "      <td>1990</td>\n",
       "      <td>1485.0</td>\n",
       "      <td>121.0</td>\n",
       "      <td>16.37</td>\n",
       "      <td>23333</td>\n",
       "    </tr>\n",
       "    <tr>\n",
       "      <th>3</th>\n",
       "      <td>Albania</td>\n",
       "      <td>Sorghum</td>\n",
       "      <td>1990</td>\n",
       "      <td>1485.0</td>\n",
       "      <td>121.0</td>\n",
       "      <td>16.37</td>\n",
       "      <td>12500</td>\n",
       "    </tr>\n",
       "    <tr>\n",
       "      <th>4</th>\n",
       "      <td>Albania</td>\n",
       "      <td>Soybeans</td>\n",
       "      <td>1990</td>\n",
       "      <td>1485.0</td>\n",
       "      <td>121.0</td>\n",
       "      <td>16.37</td>\n",
       "      <td>7000</td>\n",
       "    </tr>\n",
       "  </tbody>\n",
       "</table>\n",
       "</div>"
      ],
      "text/plain": [
       "      Area         Item  Year  average_rain_fall_mm_per_year  \\\n",
       "0  Albania        Maize  1990                         1485.0   \n",
       "1  Albania     Potatoes  1990                         1485.0   \n",
       "2  Albania  Rice, paddy  1990                         1485.0   \n",
       "3  Albania      Sorghum  1990                         1485.0   \n",
       "4  Albania     Soybeans  1990                         1485.0   \n",
       "\n",
       "   pesticides_tonnes  avg_temp  hg/ha_yield  \n",
       "0              121.0     16.37        36613  \n",
       "1              121.0     16.37        66667  \n",
       "2              121.0     16.37        23333  \n",
       "3              121.0     16.37        12500  \n",
       "4              121.0     16.37         7000  "
      ]
     },
     "execution_count": 171,
     "metadata": {},
     "output_type": "execute_result"
    }
   ],
   "source": [
    "df.head()"
   ]
  },
  {
   "cell_type": "code",
   "execution_count": 172,
   "metadata": {},
   "outputs": [],
   "source": [
    "# axis=0: Operates on rows .\n",
    "# axis=1: Operates on columns.\n",
    "X=df.drop(columns='hg/ha_yield',axis=1)\n",
    "y=df['hg/ha_yield']"
   ]
  },
  {
   "cell_type": "code",
   "execution_count": 173,
   "metadata": {},
   "outputs": [
    {
     "data": {
      "text/html": [
       "<div>\n",
       "<style scoped>\n",
       "    .dataframe tbody tr th:only-of-type {\n",
       "        vertical-align: middle;\n",
       "    }\n",
       "\n",
       "    .dataframe tbody tr th {\n",
       "        vertical-align: top;\n",
       "    }\n",
       "\n",
       "    .dataframe thead th {\n",
       "        text-align: right;\n",
       "    }\n",
       "</style>\n",
       "<table border=\"1\" class=\"dataframe\">\n",
       "  <thead>\n",
       "    <tr style=\"text-align: right;\">\n",
       "      <th></th>\n",
       "      <th>Area</th>\n",
       "      <th>Item</th>\n",
       "      <th>Year</th>\n",
       "      <th>average_rain_fall_mm_per_year</th>\n",
       "      <th>pesticides_tonnes</th>\n",
       "      <th>avg_temp</th>\n",
       "    </tr>\n",
       "  </thead>\n",
       "  <tbody>\n",
       "    <tr>\n",
       "      <th>0</th>\n",
       "      <td>Albania</td>\n",
       "      <td>Maize</td>\n",
       "      <td>1990</td>\n",
       "      <td>1485.0</td>\n",
       "      <td>121.0</td>\n",
       "      <td>16.37</td>\n",
       "    </tr>\n",
       "    <tr>\n",
       "      <th>1</th>\n",
       "      <td>Albania</td>\n",
       "      <td>Potatoes</td>\n",
       "      <td>1990</td>\n",
       "      <td>1485.0</td>\n",
       "      <td>121.0</td>\n",
       "      <td>16.37</td>\n",
       "    </tr>\n",
       "    <tr>\n",
       "      <th>2</th>\n",
       "      <td>Albania</td>\n",
       "      <td>Rice, paddy</td>\n",
       "      <td>1990</td>\n",
       "      <td>1485.0</td>\n",
       "      <td>121.0</td>\n",
       "      <td>16.37</td>\n",
       "    </tr>\n",
       "    <tr>\n",
       "      <th>3</th>\n",
       "      <td>Albania</td>\n",
       "      <td>Sorghum</td>\n",
       "      <td>1990</td>\n",
       "      <td>1485.0</td>\n",
       "      <td>121.0</td>\n",
       "      <td>16.37</td>\n",
       "    </tr>\n",
       "    <tr>\n",
       "      <th>4</th>\n",
       "      <td>Albania</td>\n",
       "      <td>Soybeans</td>\n",
       "      <td>1990</td>\n",
       "      <td>1485.0</td>\n",
       "      <td>121.0</td>\n",
       "      <td>16.37</td>\n",
       "    </tr>\n",
       "  </tbody>\n",
       "</table>\n",
       "</div>"
      ],
      "text/plain": [
       "      Area         Item  Year  average_rain_fall_mm_per_year  \\\n",
       "0  Albania        Maize  1990                         1485.0   \n",
       "1  Albania     Potatoes  1990                         1485.0   \n",
       "2  Albania  Rice, paddy  1990                         1485.0   \n",
       "3  Albania      Sorghum  1990                         1485.0   \n",
       "4  Albania     Soybeans  1990                         1485.0   \n",
       "\n",
       "   pesticides_tonnes  avg_temp  \n",
       "0              121.0     16.37  \n",
       "1              121.0     16.37  \n",
       "2              121.0     16.37  \n",
       "3              121.0     16.37  \n",
       "4              121.0     16.37  "
      ]
     },
<<<<<<< HEAD
     "execution_count": 39,
=======
     "execution_count": 173,
>>>>>>> 23e538fdb6ef4ab44364712badeecf9b84320460
     "metadata": {},
     "output_type": "execute_result"
    }
   ],
   "source": [
    "X.head()"
   ]
  },
  {
   "cell_type": "code",
<<<<<<< HEAD
   "execution_count": 40,
=======
   "execution_count": 174,
>>>>>>> 23e538fdb6ef4ab44364712badeecf9b84320460
   "metadata": {},
   "outputs": [
    {
     "data": {
      "text/plain": [
       "0    36613\n",
       "1    66667\n",
       "2    23333\n",
       "3    12500\n",
       "4     7000\n",
       "Name: hg/ha_yield, dtype: int64"
      ]
     },
<<<<<<< HEAD
     "execution_count": 40,
=======
     "execution_count": 174,
>>>>>>> 23e538fdb6ef4ab44364712badeecf9b84320460
     "metadata": {},
     "output_type": "execute_result"
    }
   ],
   "source": [
    "y.head()"
   ]
  },
  {
   "cell_type": "code",
<<<<<<< HEAD
   "execution_count": 41,
=======
   "execution_count": 175,
>>>>>>> 23e538fdb6ef4ab44364712badeecf9b84320460
   "metadata": {},
   "outputs": [],
   "source": [
    "from sklearn.model_selection import train_test_split\n",
    "X_train, X_test, y_train, y_test = train_test_split(X, y, test_size=0.2, random_state=42)"
   ]
  },
  {
   "cell_type": "code",
<<<<<<< HEAD
   "execution_count": 42,
   "metadata": {},
   "outputs": [
    {
     "data": {
      "text/plain": [
       "(20745, 6)"
      ]
     },
     "execution_count": 42,
     "metadata": {},
     "output_type": "execute_result"
    }
   ],
   "source": [
    "X_train.shape"
   ]
  },
  {
   "cell_type": "code",
   "execution_count": 43,
   "metadata": {},
   "outputs": [
    {
     "data": {
      "text/plain": [
       "(20745,)"
      ]
     },
     "execution_count": 43,
     "metadata": {},
     "output_type": "execute_result"
    }
   ],
   "source": [
    "y_train.shape"
   ]
  },
  {
   "cell_type": "code",
   "execution_count": 44,
=======
   "execution_count": 176,
>>>>>>> 23e538fdb6ef4ab44364712badeecf9b84320460
   "metadata": {},
   "outputs": [
    {
     "data": {
      "text/plain": [
       "(20745, 6)"
      ]
     },
     "execution_count": 44,
     "metadata": {},
     "output_type": "execute_result"
    }
   ],
   "source": [
    "X_train.shape"
   ]
  },
  {
   "cell_type": "code",
   "execution_count": 177,
   "metadata": {},
   "outputs": [
    {
     "data": {
      "text/plain": [
       "(20745,)"
      ]
     },
     "execution_count": 177,
     "metadata": {},
     "output_type": "execute_result"
    }
   ],
   "source": [
    "y_train.shape"
   ]
  },
  {
   "cell_type": "code",
   "execution_count": 178,
   "metadata": {},
   "outputs": [
    {
     "data": {
      "text/plain": [
       "(5187,)"
      ]
     },
     "execution_count": 178,
     "metadata": {},
     "output_type": "execute_result"
    }
   ],
   "source": [
    "y_test.shape"
   ]
  },
  {
   "cell_type": "markdown",
   "metadata": {},
   "source": [
    "COnverting categorical values to numerical and scaling the values"
   ]
  },
  {
   "cell_type": "code",
<<<<<<< HEAD
   "execution_count": 45,
=======
   "execution_count": 179,
>>>>>>> 23e538fdb6ef4ab44364712badeecf9b84320460
   "metadata": {},
   "outputs": [],
   "source": [
    "from sklearn.preprocessing import StandardScaler,OneHotEncoder\n",
    "from sklearn.compose import ColumnTransformer # it is tool that allows you to apply different preprocessing or transformation steps to specific columns in a dataset"
   ]
  },
  {
   "cell_type": "code",
<<<<<<< HEAD
   "execution_count": 46,
=======
   "execution_count": 180,
>>>>>>> 23e538fdb6ef4ab44364712badeecf9b84320460
   "metadata": {},
   "outputs": [],
   "source": [
    "ohe=OneHotEncoder(drop='first')\n",
    "# it drops the first category of each feature to avoid the \"dummy variable trap,\" where one feature is highly correlated with others.\n",
    "scaler=StandardScaler()"
   ]
  },
  {
   "cell_type": "code",
<<<<<<< HEAD
   "execution_count": 47,
=======
   "execution_count": 181,
>>>>>>> 23e538fdb6ef4ab44364712badeecf9b84320460
   "metadata": {},
   "outputs": [
    {
     "data": {
      "text/html": [
       "<div>\n",
       "<style scoped>\n",
       "    .dataframe tbody tr th:only-of-type {\n",
       "        vertical-align: middle;\n",
       "    }\n",
       "\n",
       "    .dataframe tbody tr th {\n",
       "        vertical-align: top;\n",
       "    }\n",
       "\n",
       "    .dataframe thead th {\n",
       "        text-align: right;\n",
       "    }\n",
       "</style>\n",
       "<table border=\"1\" class=\"dataframe\">\n",
       "  <thead>\n",
       "    <tr style=\"text-align: right;\">\n",
       "      <th></th>\n",
       "      <th>Area</th>\n",
       "      <th>Item</th>\n",
       "      <th>Year</th>\n",
       "      <th>average_rain_fall_mm_per_year</th>\n",
       "      <th>pesticides_tonnes</th>\n",
       "      <th>avg_temp</th>\n",
       "      <th>hg/ha_yield</th>\n",
       "    </tr>\n",
       "  </thead>\n",
       "  <tbody>\n",
       "    <tr>\n",
       "      <th>0</th>\n",
       "      <td>Albania</td>\n",
       "      <td>Maize</td>\n",
       "      <td>1990</td>\n",
       "      <td>1485.0</td>\n",
       "      <td>121.0</td>\n",
       "      <td>16.37</td>\n",
       "      <td>36613</td>\n",
       "    </tr>\n",
       "    <tr>\n",
       "      <th>1</th>\n",
       "      <td>Albania</td>\n",
       "      <td>Potatoes</td>\n",
       "      <td>1990</td>\n",
       "      <td>1485.0</td>\n",
       "      <td>121.0</td>\n",
       "      <td>16.37</td>\n",
       "      <td>66667</td>\n",
       "    </tr>\n",
       "    <tr>\n",
       "      <th>2</th>\n",
       "      <td>Albania</td>\n",
       "      <td>Rice, paddy</td>\n",
       "      <td>1990</td>\n",
       "      <td>1485.0</td>\n",
       "      <td>121.0</td>\n",
       "      <td>16.37</td>\n",
       "      <td>23333</td>\n",
       "    </tr>\n",
       "    <tr>\n",
       "      <th>3</th>\n",
       "      <td>Albania</td>\n",
       "      <td>Sorghum</td>\n",
       "      <td>1990</td>\n",
       "      <td>1485.0</td>\n",
       "      <td>121.0</td>\n",
       "      <td>16.37</td>\n",
       "      <td>12500</td>\n",
       "    </tr>\n",
       "    <tr>\n",
       "      <th>4</th>\n",
       "      <td>Albania</td>\n",
       "      <td>Soybeans</td>\n",
       "      <td>1990</td>\n",
       "      <td>1485.0</td>\n",
       "      <td>121.0</td>\n",
       "      <td>16.37</td>\n",
       "      <td>7000</td>\n",
       "    </tr>\n",
       "  </tbody>\n",
       "</table>\n",
       "</div>"
      ],
      "text/plain": [
       "      Area         Item  Year  average_rain_fall_mm_per_year  \\\n",
       "0  Albania        Maize  1990                         1485.0   \n",
       "1  Albania     Potatoes  1990                         1485.0   \n",
       "2  Albania  Rice, paddy  1990                         1485.0   \n",
       "3  Albania      Sorghum  1990                         1485.0   \n",
       "4  Albania     Soybeans  1990                         1485.0   \n",
       "\n",
       "   pesticides_tonnes  avg_temp  hg/ha_yield  \n",
       "0              121.0     16.37        36613  \n",
       "1              121.0     16.37        66667  \n",
       "2              121.0     16.37        23333  \n",
       "3              121.0     16.37        12500  \n",
       "4              121.0     16.37         7000  "
      ]
     },
<<<<<<< HEAD
     "execution_count": 47,
=======
     "execution_count": 181,
>>>>>>> 23e538fdb6ef4ab44364712badeecf9b84320460
     "metadata": {},
     "output_type": "execute_result"
    }
   ],
   "source": [
    "df.head()"
   ]
  },
  {
   "cell_type": "code",
<<<<<<< HEAD
   "execution_count": 48,
=======
   "execution_count": 182,
>>>>>>> 23e538fdb6ef4ab44364712badeecf9b84320460
   "metadata": {},
   "outputs": [],
   "source": [
    "preprocessor=ColumnTransformer(\n",
    "    transformers=[\n",
    "        ('onehotencoder',ohe,[0, 1]), # 4 and 5 is the index for which we need to apply the onehotccoding\n",
    "        ('standardization',scaler,[2, 3, 4, 5]) \n",
    "    ],\n",
    "    remainder='passthrough' # we are telling that do not toucch 6 coulumn in that just pass through without touching this\n",
    ")\n"
   ]
  },
  {
   "cell_type": "code",
<<<<<<< HEAD
   "execution_count": 49,
=======
   "execution_count": 183,
>>>>>>> 23e538fdb6ef4ab44364712badeecf9b84320460
   "metadata": {},
   "outputs": [
    {
     "data": {
      "text/html": [
       "<style>#sk-container-id-1 {\n",
       "  /* Definition of color scheme common for light and dark mode */\n",
       "  --sklearn-color-text: #000;\n",
       "  --sklearn-color-text-muted: #666;\n",
       "  --sklearn-color-line: gray;\n",
       "  /* Definition of color scheme for unfitted estimators */\n",
       "  --sklearn-color-unfitted-level-0: #fff5e6;\n",
       "  --sklearn-color-unfitted-level-1: #f6e4d2;\n",
       "  --sklearn-color-unfitted-level-2: #ffe0b3;\n",
       "  --sklearn-color-unfitted-level-3: chocolate;\n",
       "  /* Definition of color scheme for fitted estimators */\n",
       "  --sklearn-color-fitted-level-0: #f0f8ff;\n",
       "  --sklearn-color-fitted-level-1: #d4ebff;\n",
       "  --sklearn-color-fitted-level-2: #b3dbfd;\n",
       "  --sklearn-color-fitted-level-3: cornflowerblue;\n",
       "\n",
       "  /* Specific color for light theme */\n",
       "  --sklearn-color-text-on-default-background: var(--sg-text-color, var(--theme-code-foreground, var(--jp-content-font-color1, black)));\n",
       "  --sklearn-color-background: var(--sg-background-color, var(--theme-background, var(--jp-layout-color0, white)));\n",
       "  --sklearn-color-border-box: var(--sg-text-color, var(--theme-code-foreground, var(--jp-content-font-color1, black)));\n",
       "  --sklearn-color-icon: #696969;\n",
       "\n",
       "  @media (prefers-color-scheme: dark) {\n",
       "    /* Redefinition of color scheme for dark theme */\n",
       "    --sklearn-color-text-on-default-background: var(--sg-text-color, var(--theme-code-foreground, var(--jp-content-font-color1, white)));\n",
       "    --sklearn-color-background: var(--sg-background-color, var(--theme-background, var(--jp-layout-color0, #111)));\n",
       "    --sklearn-color-border-box: var(--sg-text-color, var(--theme-code-foreground, var(--jp-content-font-color1, white)));\n",
       "    --sklearn-color-icon: #878787;\n",
       "  }\n",
       "}\n",
       "\n",
       "#sk-container-id-1 {\n",
       "  color: var(--sklearn-color-text);\n",
       "}\n",
       "\n",
       "#sk-container-id-1 pre {\n",
       "  padding: 0;\n",
       "}\n",
       "\n",
       "#sk-container-id-1 input.sk-hidden--visually {\n",
       "  border: 0;\n",
       "  clip: rect(1px 1px 1px 1px);\n",
       "  clip: rect(1px, 1px, 1px, 1px);\n",
       "  height: 1px;\n",
       "  margin: -1px;\n",
       "  overflow: hidden;\n",
       "  padding: 0;\n",
       "  position: absolute;\n",
       "  width: 1px;\n",
       "}\n",
       "\n",
       "#sk-container-id-1 div.sk-dashed-wrapped {\n",
       "  border: 1px dashed var(--sklearn-color-line);\n",
       "  margin: 0 0.4em 0.5em 0.4em;\n",
       "  box-sizing: border-box;\n",
       "  padding-bottom: 0.4em;\n",
       "  background-color: var(--sklearn-color-background);\n",
       "}\n",
       "\n",
       "#sk-container-id-1 div.sk-container {\n",
       "  /* jupyter's `normalize.less` sets `[hidden] { display: none; }`\n",
       "     but bootstrap.min.css set `[hidden] { display: none !important; }`\n",
       "     so we also need the `!important` here to be able to override the\n",
       "     default hidden behavior on the sphinx rendered scikit-learn.org.\n",
       "     See: https://github.com/scikit-learn/scikit-learn/issues/21755 */\n",
       "  display: inline-block !important;\n",
       "  position: relative;\n",
       "}\n",
       "\n",
       "#sk-container-id-1 div.sk-text-repr-fallback {\n",
       "  display: none;\n",
       "}\n",
       "\n",
       "div.sk-parallel-item,\n",
       "div.sk-serial,\n",
       "div.sk-item {\n",
       "  /* draw centered vertical line to link estimators */\n",
       "  background-image: linear-gradient(var(--sklearn-color-text-on-default-background), var(--sklearn-color-text-on-default-background));\n",
       "  background-size: 2px 100%;\n",
       "  background-repeat: no-repeat;\n",
       "  background-position: center center;\n",
       "}\n",
       "\n",
       "/* Parallel-specific style estimator block */\n",
       "\n",
       "#sk-container-id-1 div.sk-parallel-item::after {\n",
       "  content: \"\";\n",
       "  width: 100%;\n",
       "  border-bottom: 2px solid var(--sklearn-color-text-on-default-background);\n",
       "  flex-grow: 1;\n",
       "}\n",
       "\n",
       "#sk-container-id-1 div.sk-parallel {\n",
       "  display: flex;\n",
       "  align-items: stretch;\n",
       "  justify-content: center;\n",
       "  background-color: var(--sklearn-color-background);\n",
       "  position: relative;\n",
       "}\n",
       "\n",
       "#sk-container-id-1 div.sk-parallel-item {\n",
       "  display: flex;\n",
       "  flex-direction: column;\n",
       "}\n",
       "\n",
       "#sk-container-id-1 div.sk-parallel-item:first-child::after {\n",
       "  align-self: flex-end;\n",
       "  width: 50%;\n",
       "}\n",
       "\n",
       "#sk-container-id-1 div.sk-parallel-item:last-child::after {\n",
       "  align-self: flex-start;\n",
       "  width: 50%;\n",
       "}\n",
       "\n",
       "#sk-container-id-1 div.sk-parallel-item:only-child::after {\n",
       "  width: 0;\n",
       "}\n",
       "\n",
       "/* Serial-specific style estimator block */\n",
       "\n",
       "#sk-container-id-1 div.sk-serial {\n",
       "  display: flex;\n",
       "  flex-direction: column;\n",
       "  align-items: center;\n",
       "  background-color: var(--sklearn-color-background);\n",
       "  padding-right: 1em;\n",
       "  padding-left: 1em;\n",
       "}\n",
       "\n",
       "\n",
       "/* Toggleable style: style used for estimator/Pipeline/ColumnTransformer box that is\n",
       "clickable and can be expanded/collapsed.\n",
       "- Pipeline and ColumnTransformer use this feature and define the default style\n",
       "- Estimators will overwrite some part of the style using the `sk-estimator` class\n",
       "*/\n",
       "\n",
       "/* Pipeline and ColumnTransformer style (default) */\n",
       "\n",
       "#sk-container-id-1 div.sk-toggleable {\n",
       "  /* Default theme specific background. It is overwritten whether we have a\n",
       "  specific estimator or a Pipeline/ColumnTransformer */\n",
       "  background-color: var(--sklearn-color-background);\n",
       "}\n",
       "\n",
       "/* Toggleable label */\n",
       "#sk-container-id-1 label.sk-toggleable__label {\n",
       "  cursor: pointer;\n",
       "  display: flex;\n",
       "  width: 100%;\n",
       "  margin-bottom: 0;\n",
       "  padding: 0.5em;\n",
       "  box-sizing: border-box;\n",
       "  text-align: center;\n",
       "  align-items: start;\n",
       "  justify-content: space-between;\n",
       "  gap: 0.5em;\n",
       "}\n",
       "\n",
       "#sk-container-id-3 label.sk-toggleable__label .caption {\n",
       "  font-size: 0.6rem;\n",
       "  font-weight: lighter;\n",
       "  color: var(--sklearn-color-text-muted);\n",
       "}\n",
       "\n",
       "#sk-container-id-1 label.sk-toggleable__label-arrow:before {\n",
       "  /* Arrow on the left of the label */\n",
       "  content: \"▸\";\n",
       "  float: left;\n",
       "  margin-right: 0.25em;\n",
       "  color: var(--sklearn-color-icon);\n",
       "}\n",
       "\n",
       "#sk-container-id-1 label.sk-toggleable__label-arrow:hover:before {\n",
       "  color: var(--sklearn-color-text);\n",
       "}\n",
       "\n",
       "/* Toggleable content - dropdown */\n",
       "\n",
       "#sk-container-id-1 div.sk-toggleable__content {\n",
       "  max-height: 0;\n",
       "  max-width: 0;\n",
       "  overflow: hidden;\n",
       "  text-align: left;\n",
       "  /* unfitted */\n",
       "  background-color: var(--sklearn-color-unfitted-level-0);\n",
       "}\n",
       "\n",
       "#sk-container-id-1 div.sk-toggleable__content.fitted {\n",
       "  /* fitted */\n",
       "  background-color: var(--sklearn-color-fitted-level-0);\n",
       "}\n",
       "\n",
       "#sk-container-id-1 div.sk-toggleable__content pre {\n",
       "  margin: 0.2em;\n",
       "  border-radius: 0.25em;\n",
       "  color: var(--sklearn-color-text);\n",
       "  /* unfitted */\n",
       "  background-color: var(--sklearn-color-unfitted-level-0);\n",
       "}\n",
       "\n",
       "#sk-container-id-1 div.sk-toggleable__content.fitted pre {\n",
       "  /* unfitted */\n",
       "  background-color: var(--sklearn-color-fitted-level-0);\n",
       "}\n",
       "\n",
       "#sk-container-id-1 input.sk-toggleable__control:checked~div.sk-toggleable__content {\n",
       "  /* Expand drop-down */\n",
       "  max-height: 200px;\n",
       "  max-width: 100%;\n",
       "  overflow: auto;\n",
       "}\n",
       "\n",
       "#sk-container-id-1 input.sk-toggleable__control:checked~label.sk-toggleable__label-arrow:before {\n",
       "  content: \"▾\";\n",
       "}\n",
       "\n",
       "/* Pipeline/ColumnTransformer-specific style */\n",
       "\n",
       "#sk-container-id-1 div.sk-label input.sk-toggleable__control:checked~label.sk-toggleable__label {\n",
       "  color: var(--sklearn-color-text);\n",
       "  background-color: var(--sklearn-color-unfitted-level-2);\n",
       "}\n",
       "\n",
       "#sk-container-id-1 div.sk-label.fitted input.sk-toggleable__control:checked~label.sk-toggleable__label {\n",
       "  background-color: var(--sklearn-color-fitted-level-2);\n",
       "}\n",
       "\n",
       "/* Estimator-specific style */\n",
       "\n",
       "/* Colorize estimator box */\n",
       "#sk-container-id-1 div.sk-estimator input.sk-toggleable__control:checked~label.sk-toggleable__label {\n",
       "  /* unfitted */\n",
       "  background-color: var(--sklearn-color-unfitted-level-2);\n",
       "}\n",
       "\n",
       "#sk-container-id-1 div.sk-estimator.fitted input.sk-toggleable__control:checked~label.sk-toggleable__label {\n",
       "  /* fitted */\n",
       "  background-color: var(--sklearn-color-fitted-level-2);\n",
       "}\n",
       "\n",
       "#sk-container-id-1 div.sk-label label.sk-toggleable__label,\n",
       "#sk-container-id-1 div.sk-label label {\n",
       "  /* The background is the default theme color */\n",
       "  color: var(--sklearn-color-text-on-default-background);\n",
       "}\n",
       "\n",
       "/* On hover, darken the color of the background */\n",
       "#sk-container-id-1 div.sk-label:hover label.sk-toggleable__label {\n",
       "  color: var(--sklearn-color-text);\n",
       "  background-color: var(--sklearn-color-unfitted-level-2);\n",
       "}\n",
       "\n",
       "/* Label box, darken color on hover, fitted */\n",
       "#sk-container-id-1 div.sk-label.fitted:hover label.sk-toggleable__label.fitted {\n",
       "  color: var(--sklearn-color-text);\n",
       "  background-color: var(--sklearn-color-fitted-level-2);\n",
       "}\n",
       "\n",
       "/* Estimator label */\n",
       "\n",
       "#sk-container-id-1 div.sk-label label {\n",
       "  font-family: monospace;\n",
       "  font-weight: bold;\n",
       "  display: inline-block;\n",
       "  line-height: 1.2em;\n",
       "}\n",
       "\n",
       "#sk-container-id-1 div.sk-label-container {\n",
       "  text-align: center;\n",
       "}\n",
       "\n",
       "/* Estimator-specific */\n",
       "#sk-container-id-1 div.sk-estimator {\n",
       "  font-family: monospace;\n",
       "  border: 1px dotted var(--sklearn-color-border-box);\n",
       "  border-radius: 0.25em;\n",
       "  box-sizing: border-box;\n",
       "  margin-bottom: 0.5em;\n",
       "  /* unfitted */\n",
       "  background-color: var(--sklearn-color-unfitted-level-0);\n",
       "}\n",
       "\n",
       "#sk-container-id-1 div.sk-estimator.fitted {\n",
       "  /* fitted */\n",
       "  background-color: var(--sklearn-color-fitted-level-0);\n",
       "}\n",
       "\n",
       "/* on hover */\n",
       "#sk-container-id-1 div.sk-estimator:hover {\n",
       "  /* unfitted */\n",
       "  background-color: var(--sklearn-color-unfitted-level-2);\n",
       "}\n",
       "\n",
       "#sk-container-id-1 div.sk-estimator.fitted:hover {\n",
       "  /* fitted */\n",
       "  background-color: var(--sklearn-color-fitted-level-2);\n",
       "}\n",
       "\n",
       "/* Specification for estimator info (e.g. \"i\" and \"?\") */\n",
       "\n",
       "/* Common style for \"i\" and \"?\" */\n",
       "\n",
       ".sk-estimator-doc-link,\n",
       "a:link.sk-estimator-doc-link,\n",
       "a:visited.sk-estimator-doc-link {\n",
       "  float: right;\n",
       "  font-size: smaller;\n",
       "  line-height: 1em;\n",
       "  font-family: monospace;\n",
       "  background-color: var(--sklearn-color-background);\n",
       "  border-radius: 1em;\n",
       "  height: 1em;\n",
       "  width: 1em;\n",
       "  text-decoration: none !important;\n",
       "  margin-left: 0.5em;\n",
       "  text-align: center;\n",
       "  /* unfitted */\n",
       "  border: var(--sklearn-color-unfitted-level-1) 1pt solid;\n",
       "  color: var(--sklearn-color-unfitted-level-1);\n",
       "}\n",
       "\n",
       ".sk-estimator-doc-link.fitted,\n",
       "a:link.sk-estimator-doc-link.fitted,\n",
       "a:visited.sk-estimator-doc-link.fitted {\n",
       "  /* fitted */\n",
       "  border: var(--sklearn-color-fitted-level-1) 1pt solid;\n",
       "  color: var(--sklearn-color-fitted-level-1);\n",
       "}\n",
       "\n",
       "/* On hover */\n",
       "div.sk-estimator:hover .sk-estimator-doc-link:hover,\n",
       ".sk-estimator-doc-link:hover,\n",
       "div.sk-label-container:hover .sk-estimator-doc-link:hover,\n",
       ".sk-estimator-doc-link:hover {\n",
       "  /* unfitted */\n",
       "  background-color: var(--sklearn-color-unfitted-level-3);\n",
       "  color: var(--sklearn-color-background);\n",
       "  text-decoration: none;\n",
       "}\n",
       "\n",
       "div.sk-estimator.fitted:hover .sk-estimator-doc-link.fitted:hover,\n",
       ".sk-estimator-doc-link.fitted:hover,\n",
       "div.sk-label-container:hover .sk-estimator-doc-link.fitted:hover,\n",
       ".sk-estimator-doc-link.fitted:hover {\n",
       "  /* fitted */\n",
       "  background-color: var(--sklearn-color-fitted-level-3);\n",
       "  color: var(--sklearn-color-background);\n",
       "  text-decoration: none;\n",
       "}\n",
       "\n",
       "/* Span, style for the box shown on hovering the info icon */\n",
       ".sk-estimator-doc-link span {\n",
       "  display: none;\n",
       "  z-index: 9999;\n",
       "  position: relative;\n",
       "  font-weight: normal;\n",
       "  right: .2ex;\n",
       "  padding: .5ex;\n",
       "  margin: .5ex;\n",
       "  width: min-content;\n",
       "  min-width: 20ex;\n",
       "  max-width: 50ex;\n",
       "  color: var(--sklearn-color-text);\n",
       "  box-shadow: 2pt 2pt 4pt #999;\n",
       "  /* unfitted */\n",
       "  background: var(--sklearn-color-unfitted-level-0);\n",
       "  border: .5pt solid var(--sklearn-color-unfitted-level-3);\n",
       "}\n",
       "\n",
       ".sk-estimator-doc-link.fitted span {\n",
       "  /* fitted */\n",
       "  background: var(--sklearn-color-fitted-level-0);\n",
       "  border: var(--sklearn-color-fitted-level-3);\n",
       "}\n",
       "\n",
       ".sk-estimator-doc-link:hover span {\n",
       "  display: block;\n",
       "}\n",
       "\n",
       "/* \"?\"-specific style due to the `<a>` HTML tag */\n",
       "\n",
       "#sk-container-id-1 a.estimator_doc_link {\n",
       "  float: right;\n",
       "  font-size: 1rem;\n",
       "  line-height: 1em;\n",
       "  font-family: monospace;\n",
       "  background-color: var(--sklearn-color-background);\n",
       "  border-radius: 1rem;\n",
       "  height: 1rem;\n",
       "  width: 1rem;\n",
       "  text-decoration: none;\n",
       "  /* unfitted */\n",
       "  color: var(--sklearn-color-unfitted-level-1);\n",
       "  border: var(--sklearn-color-unfitted-level-1) 1pt solid;\n",
       "}\n",
       "\n",
       "#sk-container-id-1 a.estimator_doc_link.fitted {\n",
       "  /* fitted */\n",
       "  border: var(--sklearn-color-fitted-level-1) 1pt solid;\n",
       "  color: var(--sklearn-color-fitted-level-1);\n",
       "}\n",
       "\n",
       "/* On hover */\n",
       "#sk-container-id-1 a.estimator_doc_link:hover {\n",
       "  /* unfitted */\n",
       "  background-color: var(--sklearn-color-unfitted-level-3);\n",
       "  color: var(--sklearn-color-background);\n",
       "  text-decoration: none;\n",
       "}\n",
       "\n",
       "#sk-container-id-1 a.estimator_doc_link.fitted:hover {\n",
       "  /* fitted */\n",
       "  background-color: var(--sklearn-color-fitted-level-3);\n",
       "}\n",
       "</style><div id=\"sk-container-id-1\" class=\"sk-top-container\"><div class=\"sk-text-repr-fallback\"><pre>ColumnTransformer(remainder=&#x27;passthrough&#x27;,\n",
       "                  transformers=[(&#x27;onehotencoder&#x27;, OneHotEncoder(drop=&#x27;first&#x27;),\n",
       "                                 [0, 1]),\n",
       "                                (&#x27;standardization&#x27;, StandardScaler(),\n",
<<<<<<< HEAD
       "                                 [2, 3, 4, 5])])</pre><b>In a Jupyter environment, please rerun this cell to show the HTML representation or trust the notebook. <br />On GitHub, the HTML representation is unable to render, please try loading this page with nbviewer.org.</b></div><div class=\"sk-container\" hidden><div class=\"sk-item sk-dashed-wrapped\"><div class=\"sk-label-container\"><div class=\"sk-label  sk-toggleable\"><input class=\"sk-toggleable__control sk-hidden--visually\" id=\"sk-estimator-id-1\" type=\"checkbox\" ><label for=\"sk-estimator-id-1\" class=\"sk-toggleable__label  sk-toggleable__label-arrow \">&nbsp;&nbsp;ColumnTransformer<a class=\"sk-estimator-doc-link \" rel=\"noreferrer\" target=\"_blank\" href=\"https://scikit-learn.org/1.5/modules/generated/sklearn.compose.ColumnTransformer.html\">?<span>Documentation for ColumnTransformer</span></a><span class=\"sk-estimator-doc-link \">i<span>Not fitted</span></span></label><div class=\"sk-toggleable__content \"><pre>ColumnTransformer(remainder=&#x27;passthrough&#x27;,\n",
       "                  transformers=[(&#x27;onehotencoder&#x27;, OneHotEncoder(drop=&#x27;first&#x27;),\n",
       "                                 [0, 1]),\n",
       "                                (&#x27;standardization&#x27;, StandardScaler(),\n",
       "                                 [2, 3, 4, 5])])</pre></div> </div></div><div class=\"sk-parallel\"><div class=\"sk-parallel-item\"><div class=\"sk-item\"><div class=\"sk-label-container\"><div class=\"sk-label  sk-toggleable\"><input class=\"sk-toggleable__control sk-hidden--visually\" id=\"sk-estimator-id-2\" type=\"checkbox\" ><label for=\"sk-estimator-id-2\" class=\"sk-toggleable__label  sk-toggleable__label-arrow \">onehotencoder</label><div class=\"sk-toggleable__content \"><pre>[0, 1]</pre></div> </div></div><div class=\"sk-serial\"><div class=\"sk-item\"><div class=\"sk-estimator  sk-toggleable\"><input class=\"sk-toggleable__control sk-hidden--visually\" id=\"sk-estimator-id-3\" type=\"checkbox\" ><label for=\"sk-estimator-id-3\" class=\"sk-toggleable__label  sk-toggleable__label-arrow \">&nbsp;OneHotEncoder<a class=\"sk-estimator-doc-link \" rel=\"noreferrer\" target=\"_blank\" href=\"https://scikit-learn.org/1.5/modules/generated/sklearn.preprocessing.OneHotEncoder.html\">?<span>Documentation for OneHotEncoder</span></a></label><div class=\"sk-toggleable__content \"><pre>OneHotEncoder(drop=&#x27;first&#x27;)</pre></div> </div></div></div></div></div><div class=\"sk-parallel-item\"><div class=\"sk-item\"><div class=\"sk-label-container\"><div class=\"sk-label  sk-toggleable\"><input class=\"sk-toggleable__control sk-hidden--visually\" id=\"sk-estimator-id-4\" type=\"checkbox\" ><label for=\"sk-estimator-id-4\" class=\"sk-toggleable__label  sk-toggleable__label-arrow \">standardization</label><div class=\"sk-toggleable__content \"><pre>[2, 3, 4, 5]</pre></div> </div></div><div class=\"sk-serial\"><div class=\"sk-item\"><div class=\"sk-estimator  sk-toggleable\"><input class=\"sk-toggleable__control sk-hidden--visually\" id=\"sk-estimator-id-5\" type=\"checkbox\" ><label for=\"sk-estimator-id-5\" class=\"sk-toggleable__label  sk-toggleable__label-arrow \">&nbsp;StandardScaler<a class=\"sk-estimator-doc-link \" rel=\"noreferrer\" target=\"_blank\" href=\"https://scikit-learn.org/1.5/modules/generated/sklearn.preprocessing.StandardScaler.html\">?<span>Documentation for StandardScaler</span></a></label><div class=\"sk-toggleable__content \"><pre>StandardScaler()</pre></div> </div></div></div></div></div><div class=\"sk-parallel-item\"><div class=\"sk-item\"><div class=\"sk-label-container\"><div class=\"sk-label  sk-toggleable\"><input class=\"sk-toggleable__control sk-hidden--visually\" id=\"sk-estimator-id-6\" type=\"checkbox\" ><label for=\"sk-estimator-id-6\" class=\"sk-toggleable__label  sk-toggleable__label-arrow \">remainder</label><div class=\"sk-toggleable__content \"><pre></pre></div> </div></div><div class=\"sk-serial\"><div class=\"sk-item\"><div class=\"sk-estimator  sk-toggleable\"><input class=\"sk-toggleable__control sk-hidden--visually\" id=\"sk-estimator-id-7\" type=\"checkbox\" ><label for=\"sk-estimator-id-7\" class=\"sk-toggleable__label  sk-toggleable__label-arrow \">passthrough</label><div class=\"sk-toggleable__content \"><pre>passthrough</pre></div> </div></div></div></div></div></div></div></div></div>"
=======
       "                                 [2, 3, 4, 5])])</pre><b>In a Jupyter environment, please rerun this cell to show the HTML representation or trust the notebook. <br />On GitHub, the HTML representation is unable to render, please try loading this page with nbviewer.org.</b></div><div class=\"sk-container\" hidden><div class=\"sk-item sk-dashed-wrapped\"><div class=\"sk-label-container\"><div class=\"sk-label  sk-toggleable\"><input class=\"sk-toggleable__control sk-hidden--visually\" id=\"sk-estimator-id-15\" type=\"checkbox\" ><label for=\"sk-estimator-id-15\" class=\"sk-toggleable__label  sk-toggleable__label-arrow\"><div><div>ColumnTransformer</div></div><div><a class=\"sk-estimator-doc-link \" rel=\"noreferrer\" target=\"_blank\" href=\"https://scikit-learn.org/1.6/modules/generated/sklearn.compose.ColumnTransformer.html\">?<span>Documentation for ColumnTransformer</span></a><span class=\"sk-estimator-doc-link \">i<span>Not fitted</span></span></div></label><div class=\"sk-toggleable__content \"><pre>ColumnTransformer(remainder=&#x27;passthrough&#x27;,\n",
       "                  transformers=[(&#x27;onehotencoder&#x27;, OneHotEncoder(drop=&#x27;first&#x27;),\n",
       "                                 [0, 1]),\n",
       "                                (&#x27;standardization&#x27;, StandardScaler(),\n",
       "                                 [2, 3, 4, 5])])</pre></div> </div></div><div class=\"sk-parallel\"><div class=\"sk-parallel-item\"><div class=\"sk-item\"><div class=\"sk-label-container\"><div class=\"sk-label  sk-toggleable\"><input class=\"sk-toggleable__control sk-hidden--visually\" id=\"sk-estimator-id-16\" type=\"checkbox\" ><label for=\"sk-estimator-id-16\" class=\"sk-toggleable__label  sk-toggleable__label-arrow\"><div><div>onehotencoder</div></div></label><div class=\"sk-toggleable__content \"><pre>[0, 1]</pre></div> </div></div><div class=\"sk-serial\"><div class=\"sk-item\"><div class=\"sk-estimator  sk-toggleable\"><input class=\"sk-toggleable__control sk-hidden--visually\" id=\"sk-estimator-id-17\" type=\"checkbox\" ><label for=\"sk-estimator-id-17\" class=\"sk-toggleable__label  sk-toggleable__label-arrow\"><div><div>OneHotEncoder</div></div><div><a class=\"sk-estimator-doc-link \" rel=\"noreferrer\" target=\"_blank\" href=\"https://scikit-learn.org/1.6/modules/generated/sklearn.preprocessing.OneHotEncoder.html\">?<span>Documentation for OneHotEncoder</span></a></div></label><div class=\"sk-toggleable__content \"><pre>OneHotEncoder(drop=&#x27;first&#x27;)</pre></div> </div></div></div></div></div><div class=\"sk-parallel-item\"><div class=\"sk-item\"><div class=\"sk-label-container\"><div class=\"sk-label  sk-toggleable\"><input class=\"sk-toggleable__control sk-hidden--visually\" id=\"sk-estimator-id-18\" type=\"checkbox\" ><label for=\"sk-estimator-id-18\" class=\"sk-toggleable__label  sk-toggleable__label-arrow\"><div><div>standardization</div></div></label><div class=\"sk-toggleable__content \"><pre>[2, 3, 4, 5]</pre></div> </div></div><div class=\"sk-serial\"><div class=\"sk-item\"><div class=\"sk-estimator  sk-toggleable\"><input class=\"sk-toggleable__control sk-hidden--visually\" id=\"sk-estimator-id-19\" type=\"checkbox\" ><label for=\"sk-estimator-id-19\" class=\"sk-toggleable__label  sk-toggleable__label-arrow\"><div><div>StandardScaler</div></div><div><a class=\"sk-estimator-doc-link \" rel=\"noreferrer\" target=\"_blank\" href=\"https://scikit-learn.org/1.6/modules/generated/sklearn.preprocessing.StandardScaler.html\">?<span>Documentation for StandardScaler</span></a></div></label><div class=\"sk-toggleable__content \"><pre>StandardScaler()</pre></div> </div></div></div></div></div><div class=\"sk-parallel-item\"><div class=\"sk-item\"><div class=\"sk-label-container\"><div class=\"sk-label  sk-toggleable\"><input class=\"sk-toggleable__control sk-hidden--visually\" id=\"sk-estimator-id-20\" type=\"checkbox\" ><label for=\"sk-estimator-id-20\" class=\"sk-toggleable__label  sk-toggleable__label-arrow\"><div><div>remainder</div></div></label><div class=\"sk-toggleable__content \"><pre></pre></div> </div></div><div class=\"sk-serial\"><div class=\"sk-item\"><div class=\"sk-estimator  sk-toggleable\"><input class=\"sk-toggleable__control sk-hidden--visually\" id=\"sk-estimator-id-21\" type=\"checkbox\" ><label for=\"sk-estimator-id-21\" class=\"sk-toggleable__label  sk-toggleable__label-arrow\"><div><div>passthrough</div></div></label><div class=\"sk-toggleable__content \"><pre>passthrough</pre></div> </div></div></div></div></div></div></div></div></div>"
>>>>>>> 23e538fdb6ef4ab44364712badeecf9b84320460
      ],
      "text/plain": [
       "ColumnTransformer(remainder='passthrough',\n",
       "                  transformers=[('onehotencoder', OneHotEncoder(drop='first'),\n",
       "                                 [0, 1]),\n",
       "                                ('standardization', StandardScaler(),\n",
       "                                 [2, 3, 4, 5])])"
      ]
     },
<<<<<<< HEAD
     "execution_count": 49,
=======
     "execution_count": 183,
>>>>>>> 23e538fdb6ef4ab44364712badeecf9b84320460
     "metadata": {},
     "output_type": "execute_result"
    }
   ],
   "source": [
    "preprocessor"
   ]
  },
  {
   "cell_type": "code",
<<<<<<< HEAD
   "execution_count": 50,
=======
   "execution_count": 184,
>>>>>>> 23e538fdb6ef4ab44364712badeecf9b84320460
   "metadata": {},
   "outputs": [
    {
     "name": "stdout",
     "output_type": "stream",
     "text": [
      "<class 'pandas.core.frame.DataFrame'>\n",
      "Index: 20745 entries, 24234 to 25918\n",
      "Data columns (total 6 columns):\n",
      " #   Column                         Non-Null Count  Dtype  \n",
      "---  ------                         --------------  -----  \n",
      " 0   Area                           20745 non-null  object \n",
      " 1   Item                           20745 non-null  object \n",
      " 2   Year                           20745 non-null  int64  \n",
      " 3   average_rain_fall_mm_per_year  20745 non-null  float64\n",
      " 4   pesticides_tonnes              20745 non-null  float64\n",
      " 5   avg_temp                       20745 non-null  float64\n",
      "dtypes: float64(3), int64(1), object(2)\n",
      "memory usage: 1.1+ MB\n"
     ]
    }
   ],
   "source": [
    "X_train.info()"
   ]
  },
  {
   "cell_type": "code",
<<<<<<< HEAD
   "execution_count": 51,
=======
   "execution_count": 185,
>>>>>>> 23e538fdb6ef4ab44364712badeecf9b84320460
   "metadata": {},
   "outputs": [],
   "source": [
    "X_train_dummy=preprocessor.fit_transform(X_train)\n",
    "X_test_dummy=preprocessor.transform(X_test)"
   ]
  },
  {
   "cell_type": "code",
<<<<<<< HEAD
   "execution_count": 52,
=======
   "execution_count": 186,
>>>>>>> 23e538fdb6ef4ab44364712badeecf9b84320460
   "metadata": {},
   "outputs": [
    {
     "name": "stdout",
     "output_type": "stream",
     "text": [
      "(20745, 113)\n"
     ]
    }
   ],
   "source": [
    "print(X_train_dummy.shape)  # Check the dimensions\n"
   ]
  },
  {
   "cell_type": "code",
<<<<<<< HEAD
   "execution_count": 53,
=======
   "execution_count": 187,
>>>>>>> 23e538fdb6ef4ab44364712badeecf9b84320460
   "metadata": {},
   "outputs": [
    {
     "data": {
      "text/plain": [
       "<Compressed Sparse Row sparse matrix of dtype 'float64'\n",
       "\twith 122877 stored elements and shape (20745, 113)>"
      ]
     },
<<<<<<< HEAD
     "execution_count": 53,
=======
     "execution_count": 187,
>>>>>>> 23e538fdb6ef4ab44364712badeecf9b84320460
     "metadata": {},
     "output_type": "execute_result"
    }
   ],
   "source": [
    "X_train_dummy"
   ]
  },
  {
   "cell_type": "markdown",
   "metadata": {},
   "source": [
    "TRAINING MODELS"
   ]
  },
  {
   "cell_type": "code",
<<<<<<< HEAD
   "execution_count": 54,
=======
   "execution_count": 188,
>>>>>>> 23e538fdb6ef4ab44364712badeecf9b84320460
   "metadata": {},
   "outputs": [],
   "source": [
    "from sklearn.linear_model import LinearRegression,    Lasso,Ridge\n",
    "from sklearn.ensemble  import RandomForestRegressor, GradientBoostingRegressor\n",
    "from sklearn.tree import DecisionTreeRegressor\n",
    "from sklearn.metrics import mean_squared_error,r2_score, accuracy_score"
   ]
  },
  {
   "cell_type": "code",
<<<<<<< HEAD
   "execution_count": 55,
=======
   "execution_count": 189,
>>>>>>> 23e538fdb6ef4ab44364712badeecf9b84320460
   "metadata": {},
   "outputs": [
    {
     "name": "stdout",
     "output_type": "stream",
     "text": [
      "lr MSE: 1821709831.841304 score: 0.6630516622993103\n"
     ]
    },
    {
     "name": "stderr",
     "output_type": "stream",
     "text": [
      "C:\\Users\\hp\\AppData\\Roaming\\Python\\Python313\\site-packages\\sklearn\\linear_model\\_coordinate_descent.py:656: ConvergenceWarning: Objective did not converge. You might want to increase the number of iterations. Duality gap: 43166910887.44141, tolerance: 14819338848.544127\n",
      "  model = cd_fast.sparse_enet_coordinate_descent(\n"
     ]
    },
    {
     "name": "stdout",
     "output_type": "stream",
     "text": [
<<<<<<< HEAD
      "lss MSE: 1822234158.2996287 score: 0.6624882807604534\n",
      "rg MSE: 1822540692.0736194 score: 0.6612897794780608\n",
      "dtr MSE: 163942386.4740698 score: 0.9773256620702763\n",
      "rfr MSE: 579926889.2228451 score: 0.9074716334849279\n",
      "gbr MSE: 1745459454.6716852 score: 0.6169814297506456\n"
=======
      "lss MSE: 1822234158.2996287 score: 0.662488280760454\n",
      "rg MSE: 1822540147.7312505 score: 0.6612877553684045\n",
      "dtr MSE: 161276723.39386928 score: 0.9776877447866411\n",
      "rfr MSE: 576464981.2482773 score: 0.9082176467451271\n",
      "gbr MSE: 1745459454.6716857 score: 0.6169814297506456\n"
>>>>>>> 23e538fdb6ef4ab44364712badeecf9b84320460
     ]
    }
   ],
   "source": [
    "models = {\n",
    "    'lr': LinearRegression(),  # Linear Regression assumes a linear relationship between input features and the target.\n",
    "    'lss': Lasso(),  # Lasso Regression performs linear regression with L1 regularization, shrinking less important feature coefficients to zero.\n",
    "    'rg': Ridge(),  # Ridge Regression performs linear regression with L2 regularization to prevent overfitting.\n",
    "    'dtr': DecisionTreeRegressor(),  # Decision Tree Regressor splits the data into regions by creating a tree structure, capturing non-linear patterns.\n",
    "    'rfr': RandomForestRegressor(n_estimators=100, max_depth=10),  # Random Forest averages the outputs from all decision trees to predict a continuous value, reducing overfitting.\n",
    "    'gbr': GradientBoostingRegressor(n_estimators=100, max_depth=3)  # Gradient Boosting Regressor builds an ensemble of trees sequentially to minimize errors and improve predictions.\n",
    "}\n",
    "\n",
    "best_model = None\n",
    "best_score = float('-inf') # assigning INT_MIN \n",
    "\n",
    "for name, mod in models.items():\n",
    "    mod.fit(X_train_dummy, y_train)  # Train the model on the training data\n",
    "    y_pred = mod.predict(X_test_dummy)  # Predict on the test data\n",
    "    score = r2_score(y_pred, y_test)  # Calculate R^2 score (goodness of fit)\n",
    "\n",
    "    print(f\"{name} MSE: {mean_squared_error(y_pred, y_test)} score: {r2_score(y_pred, y_test)}\")\n",
    "    \n",
    "    if best_score < score:\n",
    "        best_score = score\n",
    "        best_model = mod\n"
   ]
  },
  {
   "cell_type": "markdown",
   "metadata": {},
   "source": [
    "above u can see that decision tree giving more score compare rather than randomforest which is ensemble technique but we are getting more dtr why because dtr causes overfitting leads to better results in training data and bad result in test data because it is perfecly split the data by memorising the patters even noise"
   ]
  },
  {
   "cell_type": "markdown",
   "metadata": {},
   "source": [
    "SELECTTING the model"
   ]
  },
  {
   "cell_type": "code",
<<<<<<< HEAD
   "execution_count": 56,
=======
   "execution_count": 190,
>>>>>>> 23e538fdb6ef4ab44364712badeecf9b84320460
   "metadata": {},
   "outputs": [
    {
     "data": {
      "text/plain": [
<<<<<<< HEAD
       "array([167489.,  15838.,  72614., ...,  52692.,   9621., 132600.])"
      ]
     },
     "execution_count": 56,
=======
       "array([167489.,  15838.,  72614., ...,  52692.,   9621., 132600.],\n",
       "      shape=(5187,))"
      ]
     },
     "execution_count": 190,
>>>>>>> 23e538fdb6ef4ab44364712badeecf9b84320460
     "metadata": {},
     "output_type": "execute_result"
    }
   ],
   "source": [
    "dtr=DecisionTreeRegressor()\n",
    "dtr.fit(X_train_dummy,y_train)\n",
    "dtr.predict(X_test_dummy)"
   ]
  },
  {
   "cell_type": "code",
<<<<<<< HEAD
   "execution_count": 57,
=======
   "execution_count": 191,
>>>>>>> 23e538fdb6ef4ab44364712badeecf9b84320460
   "metadata": {},
   "outputs": [
    {
     "data": {
      "text/html": [
       "<div>\n",
       "<style scoped>\n",
       "    .dataframe tbody tr th:only-of-type {\n",
       "        vertical-align: middle;\n",
       "    }\n",
       "\n",
       "    .dataframe tbody tr th {\n",
       "        vertical-align: top;\n",
       "    }\n",
       "\n",
       "    .dataframe thead th {\n",
       "        text-align: right;\n",
       "    }\n",
       "</style>\n",
       "<table border=\"1\" class=\"dataframe\">\n",
       "  <thead>\n",
       "    <tr style=\"text-align: right;\">\n",
       "      <th></th>\n",
       "      <th>Area</th>\n",
       "      <th>Item</th>\n",
       "      <th>Year</th>\n",
       "      <th>average_rain_fall_mm_per_year</th>\n",
       "      <th>pesticides_tonnes</th>\n",
       "      <th>avg_temp</th>\n",
       "      <th>hg/ha_yield</th>\n",
       "    </tr>\n",
       "  </thead>\n",
       "  <tbody>\n",
       "    <tr>\n",
       "      <th>0</th>\n",
       "      <td>Albania</td>\n",
       "      <td>Maize</td>\n",
       "      <td>1990</td>\n",
       "      <td>1485.0</td>\n",
       "      <td>121.0</td>\n",
       "      <td>16.37</td>\n",
       "      <td>36613</td>\n",
       "    </tr>\n",
       "    <tr>\n",
       "      <th>1</th>\n",
       "      <td>Albania</td>\n",
       "      <td>Potatoes</td>\n",
       "      <td>1990</td>\n",
       "      <td>1485.0</td>\n",
       "      <td>121.0</td>\n",
       "      <td>16.37</td>\n",
       "      <td>66667</td>\n",
       "    </tr>\n",
       "    <tr>\n",
       "      <th>2</th>\n",
       "      <td>Albania</td>\n",
       "      <td>Rice, paddy</td>\n",
       "      <td>1990</td>\n",
       "      <td>1485.0</td>\n",
       "      <td>121.0</td>\n",
       "      <td>16.37</td>\n",
       "      <td>23333</td>\n",
       "    </tr>\n",
       "    <tr>\n",
       "      <th>3</th>\n",
       "      <td>Albania</td>\n",
       "      <td>Sorghum</td>\n",
       "      <td>1990</td>\n",
       "      <td>1485.0</td>\n",
       "      <td>121.0</td>\n",
       "      <td>16.37</td>\n",
       "      <td>12500</td>\n",
       "    </tr>\n",
       "    <tr>\n",
       "      <th>4</th>\n",
       "      <td>Albania</td>\n",
       "      <td>Soybeans</td>\n",
       "      <td>1990</td>\n",
       "      <td>1485.0</td>\n",
       "      <td>121.0</td>\n",
       "      <td>16.37</td>\n",
       "      <td>7000</td>\n",
       "    </tr>\n",
       "  </tbody>\n",
       "</table>\n",
       "</div>"
      ],
      "text/plain": [
       "      Area         Item  Year  average_rain_fall_mm_per_year  \\\n",
       "0  Albania        Maize  1990                         1485.0   \n",
       "1  Albania     Potatoes  1990                         1485.0   \n",
       "2  Albania  Rice, paddy  1990                         1485.0   \n",
       "3  Albania      Sorghum  1990                         1485.0   \n",
       "4  Albania     Soybeans  1990                         1485.0   \n",
       "\n",
       "   pesticides_tonnes  avg_temp  hg/ha_yield  \n",
       "0              121.0     16.37        36613  \n",
       "1              121.0     16.37        66667  \n",
       "2              121.0     16.37        23333  \n",
       "3              121.0     16.37        12500  \n",
       "4              121.0     16.37         7000  "
      ]
     },
<<<<<<< HEAD
     "execution_count": 57,
=======
     "execution_count": 191,
>>>>>>> 23e538fdb6ef4ab44364712badeecf9b84320460
     "metadata": {},
     "output_type": "execute_result"
    }
   ],
   "source": [
    "df.head()"
   ]
  },
  {
   "cell_type": "code",
<<<<<<< HEAD
   "execution_count": 58,
=======
   "execution_count": 192,
>>>>>>> 23e538fdb6ef4ab44364712badeecf9b84320460
   "metadata": {},
   "outputs": [],
   "source": [
    "def prediction(Area\t,Item, Year\t,average_rain_fall_mm_per_year\t,pesticides_tonnes\t,avg_temp):\n",
    "    features=np.array([[Area,Item\t,Year\t,average_rain_fall_mm_per_year\t,pesticides_tonnes\t,avg_temp]])\n",
    "    transformed_features =preprocessor.transform(features)\n",
    "    predicted_value=best_model.predict(transformed_features).reshape(1,-1) #reshape (1 row, many columns).\n",
    "    return predicted_value\n"
   ]
  },
  {
   "cell_type": "code",
<<<<<<< HEAD
   "execution_count": 59,
=======
   "execution_count": 193,
>>>>>>> 23e538fdb6ef4ab44364712badeecf9b84320460
   "metadata": {},
   "outputs": [
    {
     "name": "stdout",
     "output_type": "stream",
     "text": [
      "[[154330.]]\n"
     ]
    },
    {
     "name": "stderr",
     "output_type": "stream",
     "text": [
      "C:\\Users\\hp\\AppData\\Roaming\\Python\\Python313\\site-packages\\sklearn\\utils\\validation.py:2739: UserWarning: X does not have valid feature names, but OneHotEncoder was fitted with feature names\n",
      "  warnings.warn(\n",
      "C:\\Users\\hp\\AppData\\Roaming\\Python\\Python313\\site-packages\\sklearn\\utils\\validation.py:2739: UserWarning: X does not have valid feature names, but StandardScaler was fitted with feature names\n",
      "  warnings.warn(\n"
     ]
    }
   ],
   "source": [
    "Area\t= 'Angola'\n",
    "Item\t='Cassava'\n",
    "Year\t= 2010\n",
    "average_rain_fall_mm_per_year=1010.0\n",
    "pesticides_tonnes\t=40.0\n",
    "avg_temp\t=24.44\n",
    "\n",
    "\n",
    "result=prediction(Area,Item,Year,average_rain_fall_mm_per_year\t,pesticides_tonnes,avg_temp\t)\n",
    "print(result)"
   ]
  },
  {
   "cell_type": "code",
<<<<<<< HEAD
   "execution_count": 60,
=======
   "execution_count": 194,
>>>>>>> 23e538fdb6ef4ab44364712badeecf9b84320460
   "metadata": {},
   "outputs": [
    {
     "data": {
      "text/html": [
       "<div>\n",
       "<style scoped>\n",
       "    .dataframe tbody tr th:only-of-type {\n",
       "        vertical-align: middle;\n",
       "    }\n",
       "\n",
       "    .dataframe tbody tr th {\n",
       "        vertical-align: top;\n",
       "    }\n",
       "\n",
       "    .dataframe thead th {\n",
       "        text-align: right;\n",
       "    }\n",
       "</style>\n",
       "<table border=\"1\" class=\"dataframe\">\n",
       "  <thead>\n",
       "    <tr style=\"text-align: right;\">\n",
       "      <th></th>\n",
       "      <th>Area</th>\n",
       "      <th>Item</th>\n",
       "      <th>Year</th>\n",
       "      <th>average_rain_fall_mm_per_year</th>\n",
       "      <th>pesticides_tonnes</th>\n",
       "      <th>avg_temp</th>\n",
       "      <th>hg/ha_yield</th>\n",
       "    </tr>\n",
       "  </thead>\n",
       "  <tbody>\n",
       "    <tr>\n",
       "      <th>0</th>\n",
       "      <td>Albania</td>\n",
       "      <td>Maize</td>\n",
       "      <td>1990</td>\n",
       "      <td>1485.0</td>\n",
       "      <td>121.0</td>\n",
       "      <td>16.37</td>\n",
       "      <td>36613</td>\n",
       "    </tr>\n",
       "    <tr>\n",
       "      <th>1</th>\n",
       "      <td>Albania</td>\n",
       "      <td>Potatoes</td>\n",
       "      <td>1990</td>\n",
       "      <td>1485.0</td>\n",
       "      <td>121.0</td>\n",
       "      <td>16.37</td>\n",
       "      <td>66667</td>\n",
       "    </tr>\n",
       "    <tr>\n",
       "      <th>2</th>\n",
       "      <td>Albania</td>\n",
       "      <td>Rice, paddy</td>\n",
       "      <td>1990</td>\n",
       "      <td>1485.0</td>\n",
       "      <td>121.0</td>\n",
       "      <td>16.37</td>\n",
       "      <td>23333</td>\n",
       "    </tr>\n",
       "    <tr>\n",
       "      <th>3</th>\n",
       "      <td>Albania</td>\n",
       "      <td>Sorghum</td>\n",
       "      <td>1990</td>\n",
       "      <td>1485.0</td>\n",
       "      <td>121.0</td>\n",
       "      <td>16.37</td>\n",
       "      <td>12500</td>\n",
       "    </tr>\n",
       "    <tr>\n",
       "      <th>4</th>\n",
       "      <td>Albania</td>\n",
       "      <td>Soybeans</td>\n",
       "      <td>1990</td>\n",
       "      <td>1485.0</td>\n",
       "      <td>121.0</td>\n",
       "      <td>16.37</td>\n",
       "      <td>7000</td>\n",
       "    </tr>\n",
       "  </tbody>\n",
       "</table>\n",
       "</div>"
      ],
      "text/plain": [
       "      Area         Item  Year  average_rain_fall_mm_per_year  \\\n",
       "0  Albania        Maize  1990                         1485.0   \n",
       "1  Albania     Potatoes  1990                         1485.0   \n",
       "2  Albania  Rice, paddy  1990                         1485.0   \n",
       "3  Albania      Sorghum  1990                         1485.0   \n",
       "4  Albania     Soybeans  1990                         1485.0   \n",
       "\n",
       "   pesticides_tonnes  avg_temp  hg/ha_yield  \n",
       "0              121.0     16.37        36613  \n",
       "1              121.0     16.37        66667  \n",
       "2              121.0     16.37        23333  \n",
       "3              121.0     16.37        12500  \n",
       "4              121.0     16.37         7000  "
      ]
     },
<<<<<<< HEAD
     "execution_count": 60,
=======
     "execution_count": 194,
>>>>>>> 23e538fdb6ef4ab44364712badeecf9b84320460
     "metadata": {},
     "output_type": "execute_result"
    }
   ],
   "source": [
    "df.head()"
   ]
  },
  {
   "cell_type": "code",
<<<<<<< HEAD
   "execution_count": 61,
=======
   "execution_count": 195,
>>>>>>> 23e538fdb6ef4ab44364712badeecf9b84320460
   "metadata": {},
   "outputs": [
    {
     "name": "stdout",
     "output_type": "stream",
     "text": [
      "154330\n"
     ]
    }
   ],
   "source": [
    "print(int(result[0,0]))"
   ]
  },
  {
   "cell_type": "code",
   "execution_count": null,
   "metadata": {},
   "outputs": [],
   "source": []
  },
  {
   "cell_type": "code",
<<<<<<< HEAD
   "execution_count": 62,
=======
   "execution_count": 196,
>>>>>>> 23e538fdb6ef4ab44364712badeecf9b84320460
   "metadata": {},
   "outputs": [],
   "source": [
    "import pickle  #used to store in a file it will convert python object into byte data(serilization)\n",
    "with open('best_model_Yield.pkl' ,'wb') as file:\n",
    "    pickle.dump(best_model,file)\n",
    "\n",
    "with open('preprocessor.pkl','wb') as file:\n",
    "    pickle.dump(preprocessor,file)\n"
   ]
  },
  {
   "cell_type": "code",
<<<<<<< HEAD
   "execution_count": 63,
=======
   "execution_count": 197,
>>>>>>> 23e538fdb6ef4ab44364712badeecf9b84320460
   "metadata": {},
   "outputs": [
    {
     "name": "stdout",
     "output_type": "stream",
     "text": [
      "1.6.0\n"
     ]
    }
   ],
   "source": [
    "import sklearn\n",
    "print(sklearn.__version__)\n",
    "  "
   ]
  },
  {
   "cell_type": "code",
<<<<<<< HEAD
   "execution_count": 64,
=======
   "execution_count": 198,
>>>>>>> 23e538fdb6ef4ab44364712badeecf9b84320460
   "metadata": {},
   "outputs": [
    {
     "data": {
      "text/html": [
       "<div>\n",
       "<style scoped>\n",
       "    .dataframe tbody tr th:only-of-type {\n",
       "        vertical-align: middle;\n",
       "    }\n",
       "\n",
       "    .dataframe tbody tr th {\n",
       "        vertical-align: top;\n",
       "    }\n",
       "\n",
       "    .dataframe thead th {\n",
       "        text-align: right;\n",
       "    }\n",
       "</style>\n",
       "<table border=\"1\" class=\"dataframe\">\n",
       "  <thead>\n",
       "    <tr style=\"text-align: right;\">\n",
       "      <th></th>\n",
       "      <th>Area</th>\n",
       "      <th>Item</th>\n",
       "      <th>Year</th>\n",
       "      <th>average_rain_fall_mm_per_year</th>\n",
       "      <th>pesticides_tonnes</th>\n",
       "      <th>avg_temp</th>\n",
       "    </tr>\n",
       "  </thead>\n",
       "  <tbody>\n",
       "    <tr>\n",
       "      <th>24234</th>\n",
       "      <td>Saudi Arabia</td>\n",
       "      <td>Sorghum</td>\n",
       "      <td>2000</td>\n",
       "      <td>59.0</td>\n",
       "      <td>3024.11</td>\n",
       "      <td>26.55</td>\n",
       "    </tr>\n",
       "    <tr>\n",
       "      <th>9468</th>\n",
       "      <td>Greece</td>\n",
       "      <td>Sweet potatoes</td>\n",
       "      <td>2012</td>\n",
       "      <td>652.0</td>\n",
       "      <td>8002.20</td>\n",
       "      <td>18.82</td>\n",
       "    </tr>\n",
       "    <tr>\n",
       "      <th>6793</th>\n",
       "      <td>Colombia</td>\n",
       "      <td>Maize</td>\n",
       "      <td>2006</td>\n",
       "      <td>3240.0</td>\n",
       "      <td>98328.63</td>\n",
       "      <td>27.51</td>\n",
       "    </tr>\n",
       "    <tr>\n",
       "      <th>28212</th>\n",
       "      <td>Zimbabwe</td>\n",
       "      <td>Potatoes</td>\n",
       "      <td>2010</td>\n",
       "      <td>657.0</td>\n",
       "      <td>3305.17</td>\n",
       "      <td>21.17</td>\n",
       "    </tr>\n",
       "    <tr>\n",
       "      <th>7358</th>\n",
       "      <td>Dominican Republic</td>\n",
       "      <td>Sweet potatoes</td>\n",
       "      <td>2007</td>\n",
       "      <td>1410.0</td>\n",
       "      <td>5689.80</td>\n",
       "      <td>27.08</td>\n",
       "    </tr>\n",
       "  </tbody>\n",
       "</table>\n",
       "</div>"
      ],
      "text/plain": [
       "                     Area            Item  Year  \\\n",
       "24234        Saudi Arabia         Sorghum  2000   \n",
       "9468               Greece  Sweet potatoes  2012   \n",
       "6793             Colombia           Maize  2006   \n",
       "28212            Zimbabwe        Potatoes  2010   \n",
       "7358   Dominican Republic  Sweet potatoes  2007   \n",
       "\n",
       "       average_rain_fall_mm_per_year  pesticides_tonnes  avg_temp  \n",
       "24234                           59.0            3024.11     26.55  \n",
       "9468                           652.0            8002.20     18.82  \n",
       "6793                          3240.0           98328.63     27.51  \n",
       "28212                          657.0            3305.17     21.17  \n",
       "7358                          1410.0            5689.80     27.08  "
      ]
     },
<<<<<<< HEAD
     "execution_count": 64,
=======
     "execution_count": 198,
>>>>>>> 23e538fdb6ef4ab44364712badeecf9b84320460
     "metadata": {},
     "output_type": "execute_result"
    }
   ],
   "source": [
    "X_train.head()"
   ]
  },
  {
   "cell_type": "code",
<<<<<<< HEAD
   "execution_count": 65,
=======
   "execution_count": 199,
>>>>>>> 23e538fdb6ef4ab44364712badeecf9b84320460
   "metadata": {},
   "outputs": [
    {
     "data": {
      "text/html": [
       "<div>\n",
       "<style scoped>\n",
       "    .dataframe tbody tr th:only-of-type {\n",
       "        vertical-align: middle;\n",
       "    }\n",
       "\n",
       "    .dataframe tbody tr th {\n",
       "        vertical-align: top;\n",
       "    }\n",
       "\n",
       "    .dataframe thead th {\n",
       "        text-align: right;\n",
       "    }\n",
       "</style>\n",
       "<table border=\"1\" class=\"dataframe\">\n",
       "  <thead>\n",
       "    <tr style=\"text-align: right;\">\n",
       "      <th></th>\n",
       "      <th>Area</th>\n",
       "      <th>Item</th>\n",
       "      <th>Year</th>\n",
       "      <th>average_rain_fall_mm_per_year</th>\n",
       "      <th>pesticides_tonnes</th>\n",
       "      <th>avg_temp</th>\n",
       "    </tr>\n",
       "  </thead>\n",
       "  <tbody>\n",
       "    <tr>\n",
       "      <th>345</th>\n",
       "      <td>Angola</td>\n",
       "      <td>Cassava</td>\n",
       "      <td>2010</td>\n",
       "      <td>1010.0</td>\n",
       "      <td>40.00</td>\n",
       "      <td>24.44</td>\n",
       "    </tr>\n",
       "    <tr>\n",
       "      <th>26405</th>\n",
       "      <td>Thailand</td>\n",
       "      <td>Soybeans</td>\n",
       "      <td>2006</td>\n",
       "      <td>1622.0</td>\n",
       "      <td>41220.00</td>\n",
       "      <td>27.92</td>\n",
       "    </tr>\n",
       "    <tr>\n",
       "      <th>27032</th>\n",
       "      <td>Turkey</td>\n",
       "      <td>Maize</td>\n",
       "      <td>2010</td>\n",
       "      <td>593.0</td>\n",
       "      <td>38554.69</td>\n",
       "      <td>13.80</td>\n",
       "    </tr>\n",
       "    <tr>\n",
       "      <th>24736</th>\n",
       "      <td>South Africa</td>\n",
       "      <td>Sorghum</td>\n",
       "      <td>1996</td>\n",
       "      <td>495.0</td>\n",
       "      <td>19508.00</td>\n",
       "      <td>15.23</td>\n",
       "    </tr>\n",
       "    <tr>\n",
       "      <th>6053</th>\n",
       "      <td>Canada</td>\n",
       "      <td>Wheat</td>\n",
       "      <td>2010</td>\n",
       "      <td>537.0</td>\n",
       "      <td>61050.00</td>\n",
       "      <td>9.47</td>\n",
       "    </tr>\n",
       "  </tbody>\n",
       "</table>\n",
       "</div>"
      ],
      "text/plain": [
       "               Area      Item  Year  average_rain_fall_mm_per_year  \\\n",
       "345          Angola   Cassava  2010                         1010.0   \n",
       "26405      Thailand  Soybeans  2006                         1622.0   \n",
       "27032        Turkey     Maize  2010                          593.0   \n",
       "24736  South Africa   Sorghum  1996                          495.0   \n",
       "6053         Canada     Wheat  2010                          537.0   \n",
       "\n",
       "       pesticides_tonnes  avg_temp  \n",
       "345                40.00     24.44  \n",
       "26405           41220.00     27.92  \n",
       "27032           38554.69     13.80  \n",
       "24736           19508.00     15.23  \n",
       "6053            61050.00      9.47  "
      ]
     },
<<<<<<< HEAD
     "execution_count": 65,
=======
     "execution_count": 199,
>>>>>>> 23e538fdb6ef4ab44364712badeecf9b84320460
     "metadata": {},
     "output_type": "execute_result"
    }
   ],
   "source": [
    "X_test.head()"
   ]
  },
  {
   "cell_type": "code",
<<<<<<< HEAD
   "execution_count": 66,
=======
   "execution_count": 200,
>>>>>>> 23e538fdb6ef4ab44364712badeecf9b84320460
   "metadata": {},
   "outputs": [
    {
     "data": {
      "text/plain": [
       "Area                              Angola\n",
       "Item                             Cassava\n",
       "Year                                2010\n",
       "average_rain_fall_mm_per_year     1010.0\n",
       "pesticides_tonnes                   40.0\n",
       "avg_temp                           24.44\n",
       "hg/ha_yield                       155782\n",
       "Name: 345, dtype: object"
      ]
     },
<<<<<<< HEAD
     "execution_count": 66,
=======
     "execution_count": 200,
>>>>>>> 23e538fdb6ef4ab44364712badeecf9b84320460
     "metadata": {},
     "output_type": "execute_result"
    }
   ],
   "source": [
    "df.iloc[345] #[[32973.]]  [[167489.]]-> for dtr"
   ]
  },
  {
   "cell_type": "code",
<<<<<<< HEAD
   "execution_count": 67,
=======
   "execution_count": 201,
>>>>>>> 23e538fdb6ef4ab44364712badeecf9b84320460
   "metadata": {},
   "outputs": [
    {
     "data": {
      "text/html": [
       "<div>\n",
       "<style scoped>\n",
       "    .dataframe tbody tr th:only-of-type {\n",
       "        vertical-align: middle;\n",
       "    }\n",
       "\n",
       "    .dataframe tbody tr th {\n",
       "        vertical-align: top;\n",
       "    }\n",
       "\n",
       "    .dataframe thead th {\n",
       "        text-align: right;\n",
       "    }\n",
       "</style>\n",
       "<table border=\"1\" class=\"dataframe\">\n",
       "  <thead>\n",
       "    <tr style=\"text-align: right;\">\n",
       "      <th></th>\n",
       "      <th>Area</th>\n",
       "      <th>Item</th>\n",
       "      <th>Year</th>\n",
       "      <th>average_rain_fall_mm_per_year</th>\n",
       "      <th>pesticides_tonnes</th>\n",
       "      <th>avg_temp</th>\n",
       "      <th>hg/ha_yield</th>\n",
       "    </tr>\n",
       "  </thead>\n",
       "  <tbody>\n",
       "    <tr>\n",
       "      <th>0</th>\n",
       "      <td>Albania</td>\n",
       "      <td>Maize</td>\n",
       "      <td>1990</td>\n",
       "      <td>1485.0</td>\n",
       "      <td>121.0</td>\n",
       "      <td>16.37</td>\n",
       "      <td>36613</td>\n",
       "    </tr>\n",
       "    <tr>\n",
       "      <th>1</th>\n",
       "      <td>Albania</td>\n",
       "      <td>Potatoes</td>\n",
       "      <td>1990</td>\n",
       "      <td>1485.0</td>\n",
       "      <td>121.0</td>\n",
       "      <td>16.37</td>\n",
       "      <td>66667</td>\n",
       "    </tr>\n",
       "    <tr>\n",
       "      <th>2</th>\n",
       "      <td>Albania</td>\n",
       "      <td>Rice, paddy</td>\n",
       "      <td>1990</td>\n",
       "      <td>1485.0</td>\n",
       "      <td>121.0</td>\n",
       "      <td>16.37</td>\n",
       "      <td>23333</td>\n",
       "    </tr>\n",
       "    <tr>\n",
       "      <th>3</th>\n",
       "      <td>Albania</td>\n",
       "      <td>Sorghum</td>\n",
       "      <td>1990</td>\n",
       "      <td>1485.0</td>\n",
       "      <td>121.0</td>\n",
       "      <td>16.37</td>\n",
       "      <td>12500</td>\n",
       "    </tr>\n",
       "    <tr>\n",
       "      <th>4</th>\n",
       "      <td>Albania</td>\n",
       "      <td>Soybeans</td>\n",
       "      <td>1990</td>\n",
       "      <td>1485.0</td>\n",
       "      <td>121.0</td>\n",
       "      <td>16.37</td>\n",
       "      <td>7000</td>\n",
       "    </tr>\n",
       "  </tbody>\n",
       "</table>\n",
       "</div>"
      ],
      "text/plain": [
       "      Area         Item  Year  average_rain_fall_mm_per_year  \\\n",
       "0  Albania        Maize  1990                         1485.0   \n",
       "1  Albania     Potatoes  1990                         1485.0   \n",
       "2  Albania  Rice, paddy  1990                         1485.0   \n",
       "3  Albania      Sorghum  1990                         1485.0   \n",
       "4  Albania     Soybeans  1990                         1485.0   \n",
       "\n",
       "   pesticides_tonnes  avg_temp  hg/ha_yield  \n",
       "0              121.0     16.37        36613  \n",
       "1              121.0     16.37        66667  \n",
       "2              121.0     16.37        23333  \n",
       "3              121.0     16.37        12500  \n",
       "4              121.0     16.37         7000  "
      ]
     },
<<<<<<< HEAD
     "execution_count": 67,
=======
     "execution_count": 201,
>>>>>>> 23e538fdb6ef4ab44364712badeecf9b84320460
     "metadata": {},
     "output_type": "execute_result"
    }
   ],
   "source": [
    "df.head() # output for 7998 for random-forest"
   ]
  }
 ],
 "metadata": {
  "kernelspec": {
   "display_name": "Python 3",
   "language": "python",
   "name": "python3"
  },
  "language_info": {
   "codemirror_mode": {
    "name": "ipython",
    "version": 3
   },
   "file_extension": ".py",
   "mimetype": "text/x-python",
   "name": "python",
   "nbconvert_exporter": "python",
   "pygments_lexer": "ipython3",
   "version": "3.13.1"
  }
 },
 "nbformat": 4,
 "nbformat_minor": 2
}
